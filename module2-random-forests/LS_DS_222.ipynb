{
  "nbformat": 4,
  "nbformat_minor": 0,
  "metadata": {
    "kernelspec": {
      "display_name": "Python 3",
      "language": "python",
      "name": "python3"
    },
    "language_info": {
      "codemirror_mode": {
        "name": "ipython",
        "version": 3
      },
      "file_extension": ".py",
      "mimetype": "text/x-python",
      "name": "python",
      "nbconvert_exporter": "python",
      "pygments_lexer": "ipython3",
      "version": "3.7.3"
    },
    "colab": {
      "name": "LS_DS_222.ipynb",
      "provenance": [],
      "include_colab_link": true
    },
    "widgets": {
      "application/vnd.jupyter.widget-state+json": {
        "dd0bcaf8d7524781b5e18f0f4d190ccf": {
          "model_module": "@jupyter-widgets/controls",
          "model_name": "VBoxModel",
          "state": {
            "_view_name": "VBoxView",
            "_dom_classes": [
              "widget-interact"
            ],
            "_model_name": "VBoxModel",
            "_view_module": "@jupyter-widgets/controls",
            "_model_module_version": "1.5.0",
            "_view_count": null,
            "_view_module_version": "1.5.0",
            "box_style": "",
            "layout": "IPY_MODEL_4fb63b6a6c344e8dab98c109779eb4c7",
            "_model_module": "@jupyter-widgets/controls",
            "children": [
              "IPY_MODEL_7ca4214f80024e04a76a808cfe08afd6",
              "IPY_MODEL_88970b4b624443f2ba3317f9213cd723",
              "IPY_MODEL_84aeb4afe260434bbf841bcda8a960e3"
            ]
          }
        },
        "4fb63b6a6c344e8dab98c109779eb4c7": {
          "model_module": "@jupyter-widgets/base",
          "model_name": "LayoutModel",
          "state": {
            "_view_name": "LayoutView",
            "grid_template_rows": null,
            "right": null,
            "justify_content": null,
            "_view_module": "@jupyter-widgets/base",
            "overflow": null,
            "_model_module_version": "1.2.0",
            "_view_count": null,
            "flex_flow": null,
            "width": null,
            "min_width": null,
            "border": null,
            "align_items": null,
            "bottom": null,
            "_model_module": "@jupyter-widgets/base",
            "top": null,
            "grid_column": null,
            "overflow_y": null,
            "overflow_x": null,
            "grid_auto_flow": null,
            "grid_area": null,
            "grid_template_columns": null,
            "flex": null,
            "_model_name": "LayoutModel",
            "justify_items": null,
            "grid_row": null,
            "max_height": null,
            "align_content": null,
            "visibility": null,
            "align_self": null,
            "height": null,
            "min_height": null,
            "padding": null,
            "grid_auto_rows": null,
            "grid_gap": null,
            "max_width": null,
            "order": null,
            "_view_module_version": "1.2.0",
            "grid_template_areas": null,
            "object_position": null,
            "object_fit": null,
            "grid_auto_columns": null,
            "margin": null,
            "display": null,
            "left": null
          }
        },
        "7ca4214f80024e04a76a808cfe08afd6": {
          "model_module": "@jupyter-widgets/controls",
          "model_name": "IntSliderModel",
          "state": {
            "_view_name": "IntSliderView",
            "style": "IPY_MODEL_7cd6eab0fde4422fbc465ac62b01e965",
            "_dom_classes": [],
            "description": "max_depth",
            "step": 1,
            "_model_name": "IntSliderModel",
            "orientation": "horizontal",
            "max": 6,
            "_view_module": "@jupyter-widgets/controls",
            "_model_module_version": "1.5.0",
            "value": 1,
            "_view_count": null,
            "disabled": false,
            "_view_module_version": "1.5.0",
            "min": 1,
            "continuous_update": true,
            "readout_format": "d",
            "description_tooltip": null,
            "readout": true,
            "_model_module": "@jupyter-widgets/controls",
            "layout": "IPY_MODEL_dbb79443fdad405194d6ea494d3812a1"
          }
        },
        "88970b4b624443f2ba3317f9213cd723": {
          "model_module": "@jupyter-widgets/controls",
          "model_name": "IntSliderModel",
          "state": {
            "_view_name": "IntSliderView",
            "style": "IPY_MODEL_919e3192e0d44019bdcf2aa1dbf02605",
            "_dom_classes": [],
            "description": "n_estimators",
            "step": 10,
            "_model_name": "IntSliderModel",
            "orientation": "horizontal",
            "max": 40,
            "_view_module": "@jupyter-widgets/controls",
            "_model_module_version": "1.5.0",
            "value": 10,
            "_view_count": null,
            "disabled": false,
            "_view_module_version": "1.5.0",
            "min": 10,
            "continuous_update": true,
            "readout_format": "d",
            "description_tooltip": null,
            "readout": true,
            "_model_module": "@jupyter-widgets/controls",
            "layout": "IPY_MODEL_8807801d3b9c4274ac98957a1749a4ec"
          }
        },
        "84aeb4afe260434bbf841bcda8a960e3": {
          "model_module": "@jupyter-widgets/output",
          "model_name": "OutputModel",
          "state": {
            "_view_name": "OutputView",
            "msg_id": "",
            "_dom_classes": [],
            "_model_name": "OutputModel",
            "outputs": [
              {
                "output_type": "display_data",
                "metadata": {
                  "tags": [],
                  "needs_background": "light"
                },
                "image/png": "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\n",
                "text/plain": "<Figure size 432x288 with 1 Axes>"
              },
              {
                "output_type": "display_data",
                "metadata": {
                  "tags": [],
                  "needs_background": "light"
                },
                "image/png": "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\n",
                "text/plain": "<Figure size 432x288 with 1 Axes>"
              }
            ],
            "_view_module": "@jupyter-widgets/output",
            "_model_module_version": "1.0.0",
            "_view_count": null,
            "_view_module_version": "1.0.0",
            "layout": "IPY_MODEL_e02d3510cb0042dca28ee1c8ec449fea",
            "_model_module": "@jupyter-widgets/output"
          }
        },
        "7cd6eab0fde4422fbc465ac62b01e965": {
          "model_module": "@jupyter-widgets/controls",
          "model_name": "SliderStyleModel",
          "state": {
            "_view_name": "StyleView",
            "handle_color": null,
            "_model_name": "SliderStyleModel",
            "description_width": "",
            "_view_module": "@jupyter-widgets/base",
            "_model_module_version": "1.5.0",
            "_view_count": null,
            "_view_module_version": "1.2.0",
            "_model_module": "@jupyter-widgets/controls"
          }
        },
        "dbb79443fdad405194d6ea494d3812a1": {
          "model_module": "@jupyter-widgets/base",
          "model_name": "LayoutModel",
          "state": {
            "_view_name": "LayoutView",
            "grid_template_rows": null,
            "right": null,
            "justify_content": null,
            "_view_module": "@jupyter-widgets/base",
            "overflow": null,
            "_model_module_version": "1.2.0",
            "_view_count": null,
            "flex_flow": null,
            "width": null,
            "min_width": null,
            "border": null,
            "align_items": null,
            "bottom": null,
            "_model_module": "@jupyter-widgets/base",
            "top": null,
            "grid_column": null,
            "overflow_y": null,
            "overflow_x": null,
            "grid_auto_flow": null,
            "grid_area": null,
            "grid_template_columns": null,
            "flex": null,
            "_model_name": "LayoutModel",
            "justify_items": null,
            "grid_row": null,
            "max_height": null,
            "align_content": null,
            "visibility": null,
            "align_self": null,
            "height": null,
            "min_height": null,
            "padding": null,
            "grid_auto_rows": null,
            "grid_gap": null,
            "max_width": null,
            "order": null,
            "_view_module_version": "1.2.0",
            "grid_template_areas": null,
            "object_position": null,
            "object_fit": null,
            "grid_auto_columns": null,
            "margin": null,
            "display": null,
            "left": null
          }
        },
        "919e3192e0d44019bdcf2aa1dbf02605": {
          "model_module": "@jupyter-widgets/controls",
          "model_name": "SliderStyleModel",
          "state": {
            "_view_name": "StyleView",
            "handle_color": null,
            "_model_name": "SliderStyleModel",
            "description_width": "",
            "_view_module": "@jupyter-widgets/base",
            "_model_module_version": "1.5.0",
            "_view_count": null,
            "_view_module_version": "1.2.0",
            "_model_module": "@jupyter-widgets/controls"
          }
        },
        "8807801d3b9c4274ac98957a1749a4ec": {
          "model_module": "@jupyter-widgets/base",
          "model_name": "LayoutModel",
          "state": {
            "_view_name": "LayoutView",
            "grid_template_rows": null,
            "right": null,
            "justify_content": null,
            "_view_module": "@jupyter-widgets/base",
            "overflow": null,
            "_model_module_version": "1.2.0",
            "_view_count": null,
            "flex_flow": null,
            "width": null,
            "min_width": null,
            "border": null,
            "align_items": null,
            "bottom": null,
            "_model_module": "@jupyter-widgets/base",
            "top": null,
            "grid_column": null,
            "overflow_y": null,
            "overflow_x": null,
            "grid_auto_flow": null,
            "grid_area": null,
            "grid_template_columns": null,
            "flex": null,
            "_model_name": "LayoutModel",
            "justify_items": null,
            "grid_row": null,
            "max_height": null,
            "align_content": null,
            "visibility": null,
            "align_self": null,
            "height": null,
            "min_height": null,
            "padding": null,
            "grid_auto_rows": null,
            "grid_gap": null,
            "max_width": null,
            "order": null,
            "_view_module_version": "1.2.0",
            "grid_template_areas": null,
            "object_position": null,
            "object_fit": null,
            "grid_auto_columns": null,
            "margin": null,
            "display": null,
            "left": null
          }
        },
        "e02d3510cb0042dca28ee1c8ec449fea": {
          "model_module": "@jupyter-widgets/base",
          "model_name": "LayoutModel",
          "state": {
            "_view_name": "LayoutView",
            "grid_template_rows": null,
            "right": null,
            "justify_content": null,
            "_view_module": "@jupyter-widgets/base",
            "overflow": null,
            "_model_module_version": "1.2.0",
            "_view_count": null,
            "flex_flow": null,
            "width": null,
            "min_width": null,
            "border": null,
            "align_items": null,
            "bottom": null,
            "_model_module": "@jupyter-widgets/base",
            "top": null,
            "grid_column": null,
            "overflow_y": null,
            "overflow_x": null,
            "grid_auto_flow": null,
            "grid_area": null,
            "grid_template_columns": null,
            "flex": null,
            "_model_name": "LayoutModel",
            "justify_items": null,
            "grid_row": null,
            "max_height": null,
            "align_content": null,
            "visibility": null,
            "align_self": null,
            "height": null,
            "min_height": null,
            "padding": null,
            "grid_auto_rows": null,
            "grid_gap": null,
            "max_width": null,
            "order": null,
            "_view_module_version": "1.2.0",
            "grid_template_areas": null,
            "object_position": null,
            "object_fit": null,
            "grid_auto_columns": null,
            "margin": null,
            "display": null,
            "left": null
          }
        },
        "cb71315059a340b296951125cf90a7c6": {
          "model_module": "@jupyter-widgets/controls",
          "model_name": "VBoxModel",
          "state": {
            "_view_name": "VBoxView",
            "_dom_classes": [
              "widget-interact"
            ],
            "_model_name": "VBoxModel",
            "_view_module": "@jupyter-widgets/controls",
            "_model_module_version": "1.5.0",
            "_view_count": null,
            "_view_module_version": "1.5.0",
            "box_style": "",
            "layout": "IPY_MODEL_39e7ea4688ea40aa9a85c73f4f2cc023",
            "_model_module": "@jupyter-widgets/controls",
            "children": [
              "IPY_MODEL_98536aef47a84c65bae01c9b3fb767e5",
              "IPY_MODEL_0ec0c5e349794a19abd06b14ef2076e2",
              "IPY_MODEL_d52b98fa8d054ff0a09a70ba879593b7"
            ]
          }
        },
        "39e7ea4688ea40aa9a85c73f4f2cc023": {
          "model_module": "@jupyter-widgets/base",
          "model_name": "LayoutModel",
          "state": {
            "_view_name": "LayoutView",
            "grid_template_rows": null,
            "right": null,
            "justify_content": null,
            "_view_module": "@jupyter-widgets/base",
            "overflow": null,
            "_model_module_version": "1.2.0",
            "_view_count": null,
            "flex_flow": null,
            "width": null,
            "min_width": null,
            "border": null,
            "align_items": null,
            "bottom": null,
            "_model_module": "@jupyter-widgets/base",
            "top": null,
            "grid_column": null,
            "overflow_y": null,
            "overflow_x": null,
            "grid_auto_flow": null,
            "grid_area": null,
            "grid_template_columns": null,
            "flex": null,
            "_model_name": "LayoutModel",
            "justify_items": null,
            "grid_row": null,
            "max_height": null,
            "align_content": null,
            "visibility": null,
            "align_self": null,
            "height": null,
            "min_height": null,
            "padding": null,
            "grid_auto_rows": null,
            "grid_gap": null,
            "max_width": null,
            "order": null,
            "_view_module_version": "1.2.0",
            "grid_template_areas": null,
            "object_position": null,
            "object_fit": null,
            "grid_auto_columns": null,
            "margin": null,
            "display": null,
            "left": null
          }
        },
        "98536aef47a84c65bae01c9b3fb767e5": {
          "model_module": "@jupyter-widgets/controls",
          "model_name": "IntSliderModel",
          "state": {
            "_view_name": "IntSliderView",
            "style": "IPY_MODEL_2bb5de89695e44c5829b6d4cb1822822",
            "_dom_classes": [],
            "description": "max_depth",
            "step": 1,
            "_model_name": "IntSliderModel",
            "orientation": "horizontal",
            "max": 6,
            "_view_module": "@jupyter-widgets/controls",
            "_model_module_version": "1.5.0",
            "value": 1,
            "_view_count": null,
            "disabled": false,
            "_view_module_version": "1.5.0",
            "min": 1,
            "continuous_update": true,
            "readout_format": "d",
            "description_tooltip": null,
            "readout": true,
            "_model_module": "@jupyter-widgets/controls",
            "layout": "IPY_MODEL_f5099bb19f894fde99476fb5d117e406"
          }
        },
        "0ec0c5e349794a19abd06b14ef2076e2": {
          "model_module": "@jupyter-widgets/controls",
          "model_name": "IntSliderModel",
          "state": {
            "_view_name": "IntSliderView",
            "style": "IPY_MODEL_663bfd51b4af42d08bc32d1109f00065",
            "_dom_classes": [],
            "description": "n_estimators",
            "step": 10,
            "_model_name": "IntSliderModel",
            "orientation": "horizontal",
            "max": 40,
            "_view_module": "@jupyter-widgets/controls",
            "_model_module_version": "1.5.0",
            "value": 10,
            "_view_count": null,
            "disabled": false,
            "_view_module_version": "1.5.0",
            "min": 10,
            "continuous_update": true,
            "readout_format": "d",
            "description_tooltip": null,
            "readout": true,
            "_model_module": "@jupyter-widgets/controls",
            "layout": "IPY_MODEL_f54189c49db041488108995aeb3a74d9"
          }
        },
        "d52b98fa8d054ff0a09a70ba879593b7": {
          "model_module": "@jupyter-widgets/output",
          "model_name": "OutputModel",
          "state": {
            "_view_name": "OutputView",
            "msg_id": "",
            "_dom_classes": [],
            "_model_name": "OutputModel",
            "outputs": [
              {
                "output_type": "display_data",
                "metadata": {
                  "tags": [],
                  "needs_background": "light"
                },
                "image/png": "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\n",
                "text/plain": "<Figure size 432x288 with 2 Axes>"
              },
              {
                "output_type": "display_data",
                "metadata": {
                  "tags": [],
                  "needs_background": "light"
                },
                "image/png": "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\n",
                "text/plain": "<Figure size 432x288 with 2 Axes>"
              },
              {
                "output_type": "display_data",
                "metadata": {
                  "tags": [],
                  "needs_background": "light"
                },
                "image/png": "iVBORw0KGgoAAAANSUhEUgAAAVoAAAEFCAYAAACiiS9UAAAABHNCSVQICAgIfAhkiAAAAAlwSFlzAAALEgAACxIB0t1+/AAAADh0RVh0U29mdHdhcmUAbWF0cGxvdGxpYiB2ZXJzaW9uMy4yLjIsIGh0dHA6Ly9tYXRwbG90bGliLm9yZy+WH4yJAAAeEklEQVR4nO3de7QlZX3m8e/TrYgIiKRJIjQ3AROQGG+A0VnKiuggC2iSGAFvg6O2kuCK4g1HZQjRESUGQTHaGiCQCFGycDraBifeMA5KN+Cg3WrsNI10g0G5Yxugz/nNH1WH3n3Yl9r7VO16q+r5sM5id1Xtt2rf3nrqrfetUkRgZmbVWVT3BpiZtZ0rWjOzirmiNTOrmCtaM7OKuaI1M6uYK1ozs4q5om05SZ+U9L4JnrePpAckLa5iu1Ix6ftjNg65H21aJG0EXh8R/9KE9Uo6EvgasAUI4DbgnIi4uOxtNGsqJ1orw20RsTOwK/BW4NOSfqvslUh6TNllmk2DK9oGkPQ4SR+VdFv+91FJj+uZ/05Jt+fzXi8pJB2Yz7tE0vvzx0skfVHSPZLukvQtSYskXQbsA/xT3lzwTkn75eU8Jn/u7pIuztdxt6QvzN/OyKwC7gKenj9vkaQzJP27pDslfU7S7j3b/hpJt+Tz3idpo6Sj8nlnSbpS0t9Jug84RdITJf1N/no3S3r/XPOGpAMlfVPSvZJ+Iekf8umSdJ6kOyTdJ+n7kg6d//7k/36DpPX5+7NS0p4980LSmyT9JH8PL5Skkj5mazFXtM3wHuC5wDOA3wUOB94LIOlo4HTgKOBA4Mgh5bwN2ATsAfwG8D/I6sdXAz8FjouInSPiw32eexmwE/A04NeB8+YvkFeqxwNLgPX55DcDJwAvBPYE7gYuzJc/BPgE8ErgycATgb3mFbsMuBLYDfh74BJga/5anwm8BHh9vuxfAF8BngQsBT6WT38J8ALgqfk6Xg7c2Wf7fx/4YD7/ycAtwBXzFjsWOIxsR/Jy4L/OL8dsPle0zfBK4OyIuCMifg78OfDqfN7LgYsjYm1EbAHOGlLOw2QVyL4R8XBEfCsKNNJLejLwUuBNEXF3/txv9iyyp6R7gF8BVwGnR8SN+bw3Ae+JiE0R8WC+fS/Lk/LLgH+KiH+NiIeAM8naeXtdGxFfiIhZsqaJY4C3RMQvI+IOsgr/pJ7Xty+wZ0T8Z0T8a8/0XYDfJjsv8cOIuL3PS30lcFFE3JBv67uB35O0X88y50TEPRHxU+DrZDs/s6Fc0TbDnmTpas4t+bS5ebf2zOt9PN+5ZEnzK5I2SDqj4Pr3Bu6KiLsHzL8tInYjqwgvAH6/Z96+wFX5ofY9wA+BGbJEvd225zuK+Umz9/XsCzwWuL2nvE+RJWyAdwICrpO0VtJ/z8v9GvBxsiR9h6QVknbt8zq2e58j4oF8e3pT9s96Hm8Bdu7/lpht44q2GW4jq2Tm7JNPA7id7DB5zt6DComI+yPibRHxFOB44HRJL5qbPWT9twK7S9pt2EbmKfBdwO9IOqHnuS+NiN16/naMiM3zt13S44Ffm1/svO14EFjSU9auEfG0fP0/i4g3RMSewBuBT8y1VUfEBRHxbOAQsiaEd/R5Cdu9z5KekG/P5mGv22wUV7RpeqykHef+gMuB90raQ9ISskPsv8uX/RzwWkkHS9oJGNgnVNKx+QkjAfeSJcvZfPZ/AE/p97z8MPvLZBXXkyQ9VtILBiz7EPCRfBsBPgl8QNK++TbsIWlZPu9K4DhJz5O0A1mzwsCTS/l2fAX4iKRd8zbhAyS9MC/7jyXNVdx3k1XSs5IOk3SEpMcCvwT+s+d197qc7L18hrKTjf8L+G5EbBy0TWZFuKJN0yqy9s65vx2BNcBNwPeBG4D3A0TEl8kO179O1izwnbyMB/uUexDwL8ADwLXAJyLi6/m8D5JV5vdIenuf576arK3zR8AdwFuGbP9FwD6SjgPOB1aSNVfcn2/fEfm2ryU7WXYFWbp9IC+737bPeQ2wA7COrDK9kqzdGbKTVN+V9EC+zj+LiA1kTRqfzpe/haw54Nz5Bed9iN8H/GO+PQewrf3XbGIesNAykg4GfgA8LiK21r0945C0M3APcFBE3Fz39piVxYm2BST9gbK+tk8CPkR2Jr8Rlayk4yTtlLeH/iVZYt9Y71aZlcsVbTu8keyQ+9/J2l1PrXdzxrKM7CTUbWRNGycV6XJmVhVJF+WDW34wYL4kXZAPbLlJ0rNGlunvtJnZNvmJ3geASyPi0D7zjyE7t3AM2fmG8yPiiGFlOtGamfWIiGvIhpEPsoysEo6I+A6wWz6oZ6BKLtJx9r6vdEyuUb9+S20y24KrC8wO7bacjmls5Qc2fnbBn+jDv9hQeFN32OOANwLLeyatiIgVY6xuL7YfSLMpn9ZvtCFQUUVrZpaqvFIdp2JdsEoq2hYEjqkrMzk0qT1okvS9KNEwOE7SXlTzr6Room7Mb3l2Zppr28z2IzCXMmL0YJN+k2Zm/c1sLf63cCuB1+S9D54L3DvgIkWPqCTRdqn2Lqs9tDHJYYhJgmbq35VxPt+6k3YbE3VR2cXdyiHpcrLLjS6RtAn4n2QXMyIiPkk2cvMYspGYW4DXjirTbbRm1nyz5VW0EXHyiPkB/Ok4ZVaUaKe/t6zrLG7qiWwSk35lU0/lTU/coz6XuhN1r1HpuvQ6osREWwUnWjNrvumeDBubK1ozaz4n2umou3E/JQttRknpcHmUcX5eKX5Dxvmk6v5cUj4xGOX0JqhMaypaM+uwEk+GVcEDFhK00DDQ9HQ/TiKvO+UNUvRnn9InNepdT/W9Btx0YGZWuS6eDEt6z1eCqvedKaWchZqsS1X678Co1J3Kb6DpbdiFOdGamVWsiyfDqjjjmNKl8VJJK9M2SWZI6GMbabweAGm8sqYka6j4SLCLJ8PMzKYpooNttFVIaXhhE5VxRJBSOhqmDUOIi37d607WyfQQcRutmVnFuth0kFIyaLqygnwbjgiKpvImJO9R1UIqv6HRfWsT2VInWjOzis08XPcWDOWK1syar4tNB004dCuLBy+Mb9JWjNSbP8a7w0EamtKEMZKbDszMKtbFRNslqSSTurR9EEOvkSeGEkzco+900BKuaM3MqhVdPBnWmr1kx0ySCZr+WTf9oitNStmVDqN3G62ZWcW62HSQ0l607cpMCV1Kp3NSfc2tvHB4lfWCE62ZWcW6mGhT2svWrepw3/ajhyb2TS1iVLWQ4mtJus+tE62ZWcW2dvDC37aN0/02E93WpkGJvenpu4kp+xFOtGZmFetiG62Z2VR1MdEmfYhhC9aGOxhMokmDA/pp9XBcJ1ozs4o50VoKyvwatunzbfsQ3F4pJe7Sh+O614GZWcUiob1IH9UMWEj7NScpKo5LbUqhg7RpCO6cpAcJDDH19my30ZqZVcwVrRXho4D+xkn6qafTfpo6SCC5pF3iyTBJRwPnA4uBz0TEOfPm7wP8LbBbvswZEbFqWJmuaM2s+WZmSilG0mLgQuDFwCZgtaSVEbGuZ7H3Ap+LiL+WdAiwCthvWLnudWBTM9Ftbxqa9Ism8VR/K41L2uU1HRwOrI+IDQCSrgCWAb0VbQC75o+fCNw2qlAnWjNrvjEqWknLgeU9k1ZExIr88V7ArT3zNgFHzCviLOArkt4MPAE4atQ6XdGaWfON0UabV6orRi442MnAJRHxEUm/B1wm6dCIwRvhpgMrbKEHZ236Xow8GZR4k8eopo2mfVYxW9obvhnYu+ffS/NpvV4HHA0QEddK2hFYAtwxqNCmvZ9mZo82O1v8b7jVwEGS9pe0A3ASsHLeMj8FXgQg6WBgR+Dnwwr1PcNaotI7jObavlceJ7Gn/l40PXGPraReBxGxVdJpwNVkXbcuioi1ks4G1kTESuBtwKclvZXsxNgpEcOHprmN1syar8QBC3mf2FXzpp3Z83gd8PxxynRF2xI+ithm0nSfekrt1bjuV5R7YaNHF+6RYWZm1erkRWWqKNQ6r+hPqQ3pvokX6a41ZTvRmplVrLzuXZVwP1qbmoVmjqYfKTX1It399Evctf7uS+p1UBUnWjNrvHDTwaOlvre2bcrsn9v2I53kLh24AI27EWUXmw7MzKaqizdnNDObqi4m2uQOKwqo+7Au1besiZ9lmcZpOmlS00ibmjkA2OqTYWZm1epi00Hj9oYJ8HtWvUnCeVMTfRMHPCxIF5sOzMymqZPduxYl2+JobTA7Yf5v01FD47pfzVP6ZT2daM3MKuaKtpjU98BWnoWmmbYeMY2T1FNP51NP3B6Ca2ZWrRLvGVaJTvajbd0Z15JVfVoh9e9HVUb3BGjOGzMqfU89cXexojUzm6pu9jqwJvPnV9xYN3RMO3Rtp3Hp24nWzKxirmjNzKoVMx1sOpiTehcUs14TDdEtfSuma1D11KRmDsCJ1sysap3s3lVWkl2U+C2ELU2z8hDdwncMrnQrpqiLFa2Z2VSl3URb1YCFtPcurdmLt0xZv5XUv39lGJXa25TOi4itade0TrRm1nxp17MesJCiaaaRlLKfvzfbjKo3mpjaJ207L6KTJ8PMzKaqi4l2lK61H6XMn8X0jJO5mpju60zhTrRmZlXrYqKtOiUld0EL65xJbqfT9KOHkRfznspW9Bdba1x5AU60ZtZ4id9tvJFNQWZm25sd428ESUdL+rGk9ZLOGLDMyyWtk7RW0mdHldn5u+A27uIZVqpJ71/WpO94UcndNWEMZSVaSYuBC4EXA5uA1ZJWRsS6nmUOAt4NPD8i7pb066PKdaI1s8aL2eJ/IxwOrI+IDRHxEHAFsGzeMm8ALoyIuwEi4o5RhVbaRuu0CGph8qlLVJCpuvQdbdxdE8YQM2PcQVhaDizvmbQiIlbkj/cCbu2Ztwk4Yl4RT83L+TawGDgrIv552Dp9MszMGm+cpoO8Ul0xcsHBHgMcBBwJLAWukfQ7EXHPsCeUbqEpwSnQ+vH34tHGSfltTu8xaWP7o20G9u7599J8Wq9NwHcj4mHgZkn/Rlbxrh5UqNtozazxSmyjXQ0cJGl/STsAJwEr5y3zBbI0i6QlZE0JG4YVWijRSjoO+FJEsYBeR/LwHsPapOiRsFN+JqKcRBsRWyWdBlxN1v56UUSslXQ2sCYiVubzXiJpHTADvCMi7hxWbtGmgxOBj0r6x3zFP5r4lZiZlazMAQsRsQpYNW/amT2PAzg9/yukUEUbEa+StCtwMnCJpAAuBi6PiPvnL9/EdNnEbbZmGacuaNP3cRqDtmbH6HVQh8KfZ0TcB1xJ1q/sycAfADdIenNF22ZmVkjMqvBfHYq20S4DTgEOBC4FDo+IOyTtBKwDPlbZFpqZjVBXBVpU0TbaPwTOi4hreidGxBZJr5t05W06POrlExTttNABE238vhdpFpjG6079hhNF34Ofza9kJX0IICK+WvpWmZmNoRVNB2QXWHjXvGkv7TMNqGYP5pS4TRuTUZmqOvnSxe/gqBSfynexrO5dVRla0Uo6FfgT4ABJN/XM2gX4dpUbZmZW1EzivQ5GJdrPAl8GPgj0Xpfx/oi4a9CTUtrzp7LHtenxZz5a2wZENDrRkvXN3SjpT+fPkLT7sMrWzGxamt7r4LPAscD1ZLcM6n01ATyl6IqalDKashc36zXWBWYq3I46pN7rYGhFGxHH5v/ffzqbY2Y2vqYnWgAkfTUiXjRq2pyF7i2bniibfAFlS8s4d9tt+u9mIWZm087oo3od7AjsBCyR9CS2NR3sSnYlcjOz2jW66QB4I/AWYE+ydtq5ivY+4OODnjTNPWvb0+OitI+IbITZBX492/79Lstsk3sdRMT5wPmS3hwRyV3PwF9CM4Pmd+8CICI+Jul5wH69z4mISyvaLjOzwpredACApMuAA4DvkV1RHLLuXYUr2pTSpw/H++viyZQq7qzby9+1hTefFFtH2m900WsdPAc4JL+yuJlZUhrd66DHD4DfBG4vsvAk6TX1PX8X014X+HOdzFiDI6bw2079Uyxa0S4B1km6DnhwbmJEHF/JVpmZjaEtTQdnjVNo1XuwJqWQtA9ozLYZ5/KSqf0G29Lr4JtVb4iZ2aSmcQPIhSja6+C5ZPcFOxjYgex+57+MiF2HPi+BvV7TE2V2w2GzyYyT9Jr8W6m698hCFW06+DhwEvB5sh4IrwGeWtVGmZmNY2sbmg4AImK9pMURMQNcLOlG4N39lp0kyda9N217clzU8tfXVgs9ydP27/WctiTaLZJ2AL4n6cNk3bzqrhvNzICWtNECryZrlz0NeCuwN/BHgxau5OaMCe2ZnQ6HSztblGNa3wB/14ppRaKNiFvyh78C/ry6zTEzG18rEq2km+mzE4+IwreyMTOrykwbEi1ZT4M5OwJ/DOw+zoqmeeif4uFW2l8DG5c/z4Up+xea+J1sCjcd3Dlv0kclXQ+cWf4mmZmNZ5xb/tShaNPBs3r+uYgs4Q587iTpta4UmvbHk2Y6N+tnnK5oZf/uUv+VFG06+AjbXstWYCNZ84GZWe1acTIM+CJZRTu3IwrgWCn7Z0T8Ve/CVaSwupJn0xNlSt3irDkmuUhLnb+VWaV9bFq0on02cBjwv8nqvOOA64CfVLRdZmaFzYxepFZFK9qlwLMi4n4ASWcBX4qIVxVdUdX7m5SSZ9tTZErvtQ036RDepn2Hy+x1IOlo4HyyQVqfiYhzBiz3R8CVwGERsWZYmUUr2t8AHur590P5NDOz2pXV60DSYuBC4MXAJmC1pJURsW7ecrsAfwZ8t0i5RSvaS4HrJF2V//sE4JKBG1uw0F7TTEkp7a2dDotLvBluLNO6+15Xvl8lvsrDgfURsQFA0hXAMmDdvOX+AvgQ8I4ihRa6LEFEfAB4LXB3/vfaiPhgse02M6vWrIr/SVouaU3P3/KeovYCbu3596Z82iPy7q57R8SXim7fOJdJvAG4oejyZmbTMk73rohYAayYZD2SFgF/BZwyzvMKV7TjqKR7V8eH8PZq0yF0V/kzLNdMee/nZrKrE85Zmk+bswtwKPCNvHvrbwIrJR0/7IRYJRWtmdk0lThgYTVwkKT9ySrYk4BXzM2MiHvJ7goOgKRvAG8vq9fBglWdSGsbwtuQZJLSCUCzspVV0UbEVkmnAVeTde+6KCLWSjobWBMRKycp14nWzBqvzFuGRcQqYNW8aX0voBURRxYps5KKNsWLytSdPNuQKFNvu7Z0LPReZ2Ovb6prG58TrZk1XluG4I6lml4HpRc5ZF31Jre2J8e6jy5stIUOqJj2d7gVF/42M0uZmw76qCLRdL2frVNicXUfsUxqkksXTqpp3ydXtGZmFUt911lRr4OFPr/8t839bLdpaqLrOn9ug7mN1sysYp3sdWBmNk2ziTceNHIIbhsHNzTpsDDFk4HWbT4ZZmZWsdR3/bUOwa0qGVWdSOtOn01PlFrU7O239DjRmplVbGvi4SPpIbhVJdO2XrKxny6lxxS70nXVtO6J9sj6pru6sTnRmlnjuemgj7KSR1XJdKp35E0ocToRlqeOzzUS6rU/7e+Su3eZmVUs7Wo2oSG4TUqn00wrqafMlBJ513X5s3DTgZlZxWYSz7SVVrSpjgares9fy8iyhqaZuvskWzs40ZqZVSy6nGjNzKahk4m2jiG4ZR46Vz6Et+bD/DYdrqc0OMTq4+5dZmYVS7uaTX0IbgnJr5L7k021e1c6X6EupkctqnsLrIitiVe1TrRm1ng+GdbHQhNhmSm1inTa+TvyOgXalHXyZJiZ2TR1MtFOkhJTTaltuaRiE1JmSu3R1ixOtGZmFZuZ9gVwxzTFmzMu8PmJptTKbxRZQxJtarKsu3+y1cf9aM3MKtbNNtpJLpO44J4IC3t+ZTeKrDiR1p0+25oiU788pW3PbbRmDeNKtnlSbzpowLloM7PhYoz/RpF0tKQfS1ov6Yw+80+XtE7STZK+KmnfUWVWez3ampsDoMzhwKUU8+hyp9a9K509vhPjNil9Lk1WVq8DSYuBC4EXA5uA1ZJWRsS6nsVuBJ4TEVsknQp8GDhxWLlOtGbWeLNE4b8RDgfWR8SGiHgIuAJY1rtARHw9Irbk//wOsHRUobUOWJg0zZV7ecWSyqnsZNr0E0+qidPpzwYZ52SYpOXA8p5JKyJiRf54L+DWnnmbgCOGFPc64Muj1umTYWbWeON078or1RUjFxxB0quA5wAvHLVskvcMW2hiXWhKrSKdVpXGfH+y4Zq0rTa5EnsdbAb27vn30nzadiQdBbwHeGFEPDiqUCdaM2u8KG8I7mrgIEn7k1WwJwGv6F1A0jOBTwFHR8QdRQqt5VY2TU+s1VxasfQity+/pmTXpkSZatu1lXe78YjYKuk04GpgMXBRRKyVdDawJiJWAucCOwOfV/al+GlEHD+sXCdaM2u8MgcsRMQqYNW8aWf2PD5q3DIrrWgnTa6TJNaUUmpTb5+TSvrsUnJM5T1vuhKbDirhRGtmjZf6EFxXtGbWeJ28eteoJoMmNg2kegeIKsscuK5ED+19GF6eJtyRo5cv/G1mVrFONh1MK7GWkWDKSmelnkxrYPexgetNPGU2LblZf52saM3Mpsm9DvqYZnqt+15lTUyn9Q1uqGW1C1L3HS4s40RrZlaxTvY6mFZinTTZpZRSmzi4oe7k2dYUWff72mQzkfZdw5xozazx3EbbR/ELg1dbfmXPT77PbelFDl5XQunTifHRUu8VUpTbaM3MKtbNNtrE21unuX1lrX9wWaUVta3MmlJoiomzLYmv7WbddFAd/wjMDDqaaM3Mpsm9DnKTHHpPPEihhqaBVJsDqm4GqONwv0lHMik2h7SRmw7MzCrWyaaDqtNrExNr3fc5G1huxYmr7vTZqkSZUFe51DjRmplVrJOJdpTCAxameCGZyduDJ3ratueXlFKqSm5TvaB4KunTyTGdz6KgmZipexOGcqI1s8br9BDcqtpdu5RYy0oW07mLbuWryFeU5o+qaSmwTTwE18ysYp1MtKPSU0oXlakjsZbaTzbR/rv9VzD9H0OTUmaTtjU17nVgZlaxTvc6qKrddbILyYz9lOx5NSTW5FNqC0ebpbgNC9H07R+Xh+CaNUzXKqk26GQbrZnZNHWyjXbkybCCzQTTOKnVxKaBUhNXBc0AU72DQ933L+tq+k3sdTvRmplVrNP9aKs6wTVJiph04MBE65riybr+haV9Mq1LiXek1LevIZxozcwq1sleB6OSbPGLyky6/orTcR2JNdGUWv1lFqstv68GpczkE/uUdPJkmJnZNLnpIDd6WO4YZVXcU6CJiTXVlFp54nKvg/I0+LWUOTJM0tHA+cBi4DMRcc68+Y8DLgWeDdwJnBgRG4eV2eC31swsExGF/4aRtBi4EHgpcAhwsqRD5i32OuDuiDgQOA/40Kjtc0VrZo03G1H4b4TDgfURsSEiHgKuAJbNW2YZ8Lf54yuBF0nDz0xV0nSw9+qvLvAOXWZmxW19aHPhOkfScmB5z6QVEbEif7wXcGvPvE3AEfOKeGSZiNgq6V7g14BfDFqnT4aZWafkleqKkQuWyE0HZmbbbAb27vn30nxa32UkPQZ4ItlJsYFc0ZqZbbMaOEjS/pJ2AE4CVs5bZiXw3/LHLwO+FiPOsrnpwMwsl7e5ngZcTda966KIWCvpbGBNRKwE/ga4TNJ64C6yyngopd7R16ZL0gMRsXPJZR4PHBIR50g6Afi3iFg3ZhnfAN4eEWvK3DazaXDTgVUuIlb2dPo+gax/ollnuKK1vpQ5V9IPJH1f0on59CMlfUPSlZJ+JOnv5/oQSjomn3a9pAskfTGffoqkj0t6HnA8cK6k70k6IC/rOflySyRtzB8/XtIVkn4o6Srg8T3b9hJJ10q6QdLnJZWawM3K5jZaG+QPgWcAvwssAVZLuiaf90zgacBtwLeB50taA3wKeEFE3Czp8vkFRsT/lbQS+GJEXAkwpJ/3qcCWiDhY0tOBG/LllwDvBY6KiF9KehdwOnB2GS/arAquaG2Q/wJcHhEzwH9I+iZwGHAfcF1EbAKQ9D1gP+ABYENE3Jw//3K27xQ+rhcAFwBExE2SbsqnP5es6eHbeSW9A3DtAtZjVjlXtDaJB3sez7Cw79FWtjVh7VhgeQH/JyJOXsA6zabKbbQ2yLeAEyUtlrQHWcK8bsjyPwaeImm//N8nDljufmCXnn9vJLsKEmR9EudcA7wCQNKhwNPz6d8ha6o4MJ/3BElPLfB6zGrjitYGuQq4Cfh/wNeAd0bEzwYtHBG/Av4E+GdJ15NVqPf2WfQK4B2SbpR0APCXwKmSbiRrC57z18DOkn5I1v56fb6enwOnAJfnzQnXAr+9kBdqVjX3o7XSSNo5Ih7IeyFcCPwkIs6re7vM6uZEa2V6Q35ybC3Z+O9P1bw9ZklwojUzq5gTrZlZxVzRmplVzBWtmVnFXNGamVXMFa2ZWcX+P26bI/d07XVXAAAAAElFTkSuQmCC\n",
                "text/plain": "<Figure size 432x288 with 2 Axes>"
              }
            ],
            "_view_module": "@jupyter-widgets/output",
            "_model_module_version": "1.0.0",
            "_view_count": null,
            "_view_module_version": "1.0.0",
            "layout": "IPY_MODEL_420ee06eafa4477eaff917470ae0b491",
            "_model_module": "@jupyter-widgets/output"
          }
        },
        "2bb5de89695e44c5829b6d4cb1822822": {
          "model_module": "@jupyter-widgets/controls",
          "model_name": "SliderStyleModel",
          "state": {
            "_view_name": "StyleView",
            "handle_color": null,
            "_model_name": "SliderStyleModel",
            "description_width": "",
            "_view_module": "@jupyter-widgets/base",
            "_model_module_version": "1.5.0",
            "_view_count": null,
            "_view_module_version": "1.2.0",
            "_model_module": "@jupyter-widgets/controls"
          }
        },
        "f5099bb19f894fde99476fb5d117e406": {
          "model_module": "@jupyter-widgets/base",
          "model_name": "LayoutModel",
          "state": {
            "_view_name": "LayoutView",
            "grid_template_rows": null,
            "right": null,
            "justify_content": null,
            "_view_module": "@jupyter-widgets/base",
            "overflow": null,
            "_model_module_version": "1.2.0",
            "_view_count": null,
            "flex_flow": null,
            "width": null,
            "min_width": null,
            "border": null,
            "align_items": null,
            "bottom": null,
            "_model_module": "@jupyter-widgets/base",
            "top": null,
            "grid_column": null,
            "overflow_y": null,
            "overflow_x": null,
            "grid_auto_flow": null,
            "grid_area": null,
            "grid_template_columns": null,
            "flex": null,
            "_model_name": "LayoutModel",
            "justify_items": null,
            "grid_row": null,
            "max_height": null,
            "align_content": null,
            "visibility": null,
            "align_self": null,
            "height": null,
            "min_height": null,
            "padding": null,
            "grid_auto_rows": null,
            "grid_gap": null,
            "max_width": null,
            "order": null,
            "_view_module_version": "1.2.0",
            "grid_template_areas": null,
            "object_position": null,
            "object_fit": null,
            "grid_auto_columns": null,
            "margin": null,
            "display": null,
            "left": null
          }
        },
        "663bfd51b4af42d08bc32d1109f00065": {
          "model_module": "@jupyter-widgets/controls",
          "model_name": "SliderStyleModel",
          "state": {
            "_view_name": "StyleView",
            "handle_color": null,
            "_model_name": "SliderStyleModel",
            "description_width": "",
            "_view_module": "@jupyter-widgets/base",
            "_model_module_version": "1.5.0",
            "_view_count": null,
            "_view_module_version": "1.2.0",
            "_model_module": "@jupyter-widgets/controls"
          }
        },
        "f54189c49db041488108995aeb3a74d9": {
          "model_module": "@jupyter-widgets/base",
          "model_name": "LayoutModel",
          "state": {
            "_view_name": "LayoutView",
            "grid_template_rows": null,
            "right": null,
            "justify_content": null,
            "_view_module": "@jupyter-widgets/base",
            "overflow": null,
            "_model_module_version": "1.2.0",
            "_view_count": null,
            "flex_flow": null,
            "width": null,
            "min_width": null,
            "border": null,
            "align_items": null,
            "bottom": null,
            "_model_module": "@jupyter-widgets/base",
            "top": null,
            "grid_column": null,
            "overflow_y": null,
            "overflow_x": null,
            "grid_auto_flow": null,
            "grid_area": null,
            "grid_template_columns": null,
            "flex": null,
            "_model_name": "LayoutModel",
            "justify_items": null,
            "grid_row": null,
            "max_height": null,
            "align_content": null,
            "visibility": null,
            "align_self": null,
            "height": null,
            "min_height": null,
            "padding": null,
            "grid_auto_rows": null,
            "grid_gap": null,
            "max_width": null,
            "order": null,
            "_view_module_version": "1.2.0",
            "grid_template_areas": null,
            "object_position": null,
            "object_fit": null,
            "grid_auto_columns": null,
            "margin": null,
            "display": null,
            "left": null
          }
        },
        "420ee06eafa4477eaff917470ae0b491": {
          "model_module": "@jupyter-widgets/base",
          "model_name": "LayoutModel",
          "state": {
            "_view_name": "LayoutView",
            "grid_template_rows": null,
            "right": null,
            "justify_content": null,
            "_view_module": "@jupyter-widgets/base",
            "overflow": null,
            "_model_module_version": "1.2.0",
            "_view_count": null,
            "flex_flow": null,
            "width": null,
            "min_width": null,
            "border": null,
            "align_items": null,
            "bottom": null,
            "_model_module": "@jupyter-widgets/base",
            "top": null,
            "grid_column": null,
            "overflow_y": null,
            "overflow_x": null,
            "grid_auto_flow": null,
            "grid_area": null,
            "grid_template_columns": null,
            "flex": null,
            "_model_name": "LayoutModel",
            "justify_items": null,
            "grid_row": null,
            "max_height": null,
            "align_content": null,
            "visibility": null,
            "align_self": null,
            "height": null,
            "min_height": null,
            "padding": null,
            "grid_auto_rows": null,
            "grid_gap": null,
            "max_width": null,
            "order": null,
            "_view_module_version": "1.2.0",
            "grid_template_areas": null,
            "object_position": null,
            "object_fit": null,
            "grid_auto_columns": null,
            "margin": null,
            "display": null,
            "left": null
          }
        },
        "31bf5a48bf16417aa4fc217d002e5ef9": {
          "model_module": "@jupyter-widgets/controls",
          "model_name": "VBoxModel",
          "state": {
            "_view_name": "VBoxView",
            "_dom_classes": [
              "widget-interact"
            ],
            "_model_name": "VBoxModel",
            "_view_module": "@jupyter-widgets/controls",
            "_model_module_version": "1.5.0",
            "_view_count": null,
            "_view_module_version": "1.5.0",
            "box_style": "",
            "layout": "IPY_MODEL_ffbe0ab467fa4e068470d9a062249ffd",
            "_model_module": "@jupyter-widgets/controls",
            "children": [
              "IPY_MODEL_7253d1a2ecf84740b2bbea493048a8e0",
              "IPY_MODEL_b062c4359cc94237b753f0379fbdb7f9",
              "IPY_MODEL_eb8c64caf2b648748b662ae41de70b64"
            ]
          }
        },
        "ffbe0ab467fa4e068470d9a062249ffd": {
          "model_module": "@jupyter-widgets/base",
          "model_name": "LayoutModel",
          "state": {
            "_view_name": "LayoutView",
            "grid_template_rows": null,
            "right": null,
            "justify_content": null,
            "_view_module": "@jupyter-widgets/base",
            "overflow": null,
            "_model_module_version": "1.2.0",
            "_view_count": null,
            "flex_flow": null,
            "width": null,
            "min_width": null,
            "border": null,
            "align_items": null,
            "bottom": null,
            "_model_module": "@jupyter-widgets/base",
            "top": null,
            "grid_column": null,
            "overflow_y": null,
            "overflow_x": null,
            "grid_auto_flow": null,
            "grid_area": null,
            "grid_template_columns": null,
            "flex": null,
            "_model_name": "LayoutModel",
            "justify_items": null,
            "grid_row": null,
            "max_height": null,
            "align_content": null,
            "visibility": null,
            "align_self": null,
            "height": null,
            "min_height": null,
            "padding": null,
            "grid_auto_rows": null,
            "grid_gap": null,
            "max_width": null,
            "order": null,
            "_view_module_version": "1.2.0",
            "grid_template_areas": null,
            "object_position": null,
            "object_fit": null,
            "grid_auto_columns": null,
            "margin": null,
            "display": null,
            "left": null
          }
        },
        "7253d1a2ecf84740b2bbea493048a8e0": {
          "model_module": "@jupyter-widgets/controls",
          "model_name": "IntSliderModel",
          "state": {
            "_view_name": "IntSliderView",
            "style": "IPY_MODEL_2fdcfbdf88f64008a89f5b8e8d19c834",
            "_dom_classes": [],
            "description": "max_depth",
            "step": 1,
            "_model_name": "IntSliderModel",
            "orientation": "horizontal",
            "max": 6,
            "_view_module": "@jupyter-widgets/controls",
            "_model_module_version": "1.5.0",
            "value": 1,
            "_view_count": null,
            "disabled": false,
            "_view_module_version": "1.5.0",
            "min": 1,
            "continuous_update": true,
            "readout_format": "d",
            "description_tooltip": null,
            "readout": true,
            "_model_module": "@jupyter-widgets/controls",
            "layout": "IPY_MODEL_613ae438f4404d509ca0f7644df78f6c"
          }
        },
        "b062c4359cc94237b753f0379fbdb7f9": {
          "model_module": "@jupyter-widgets/controls",
          "model_name": "IntSliderModel",
          "state": {
            "_view_name": "IntSliderView",
            "style": "IPY_MODEL_93dde8f1f4584fdca561da64dea73185",
            "_dom_classes": [],
            "description": "n_estimators",
            "step": 1,
            "_model_name": "IntSliderModel",
            "orientation": "horizontal",
            "max": 5,
            "_view_module": "@jupyter-widgets/controls",
            "_model_module_version": "1.5.0",
            "value": 2,
            "_view_count": null,
            "disabled": false,
            "_view_module_version": "1.5.0",
            "min": 2,
            "continuous_update": true,
            "readout_format": "d",
            "description_tooltip": null,
            "readout": true,
            "_model_module": "@jupyter-widgets/controls",
            "layout": "IPY_MODEL_399c38c192ba42ecaa8255089d2c2701"
          }
        },
        "eb8c64caf2b648748b662ae41de70b64": {
          "model_module": "@jupyter-widgets/output",
          "model_name": "OutputModel",
          "state": {
            "_view_name": "OutputView",
            "msg_id": "",
            "_dom_classes": [],
            "_model_name": "OutputModel",
            "outputs": [
              {
                "output_type": "display_data",
                "metadata": {
                  "tags": [],
                  "needs_background": "light"
                },
                "image/png": "iVBORw0KGgoAAAANSUhEUgAAAVoAAAEFCAYAAACiiS9UAAAABHNCSVQICAgIfAhkiAAAAAlwSFlzAAALEgAACxIB0t1+/AAAADh0RVh0U29mdHdhcmUAbWF0cGxvdGxpYiB2ZXJzaW9uMy4yLjIsIGh0dHA6Ly9tYXRwbG90bGliLm9yZy+WH4yJAAAR1UlEQVR4nO3dfaxlVXnH8e9vhlKogA0FtWUQR4UqKlaqaGurJKAOpDCk9QWsabHWaVVMo9WK1ailmmptNSUl6phSX6ogajETGUWrIg2KzChCZSw6DlYGVBSVoiIw9z7945yRw+3ce85hzppz9uX7mazcs9ded+11k8mTJ89ee59UFZKkdlZMewGStNwZaCWpMQOtJDVmoJWkxgy0ktSYgVaSGjPQSlJjBloNleTHA20+yW0Dx3/Y8LpnJNmc5PYk72p1Ham1vaa9AM2+qtpv5+ck3wT+tKr+Y+G4JHtV1Y4JXvpG4PXA04B9JzivtEeZ0eoeS3Jsku1JXpHkO8C/JlmR5Mwk30hyc5ILkhw48DtPSPK5JD9KclWSYxebv6r+vao+Aty8B/4cqRkDrXbXA4ADgcOAdcCLgVOAJwO/BvwQOAcgySHARfSy1AOBlwEfTnLwnl+2tOcYaLW75oHXVtXtVXUb8OfAq6pqe1XdDrwOeHqSvYDnABuramNVzVfVJ4HNwInTWry0J1ij1e76XlX9bOD4MODCJPMDfXPA/fvnnpHkpIFzvwB8pv0ypekx0Gp3LXz92/XAn1TVZQsHJrkeeG9VPX+PrEyaEZYONGlvB96Q5DCAJAcnWds/92/ASUmelmRlkn36N9RW7WqiJHsl2QdYCewcb3KgzjHQatL+CdgAfCLJrcDlwOMBqup6YC3w18D36GW/L2fx/4evBm4DzqRX372t3yd1SnzxtyS1ZUYrSY0ZaCVpQJJzk9yU5CuLnE+Ss5NsTXJ1kqOHzWmglaS7exewZonzJwCH99s64G3DJjTQStKAqroU+MESQ9YC76mey4FfTvKrS83ZZKvMdY9+infYJGDbdw4cPuhe7rjvfiC7O8ed3982cszZ++CH/Bm9THSn9VW1fozLHUJvx8xO2/t9317sF9yTKOlepR9Uxwmsu81AK6n75uf25NVuAA4dOF7V71uUNVpJ3Te3Y/S2+zYAf9TfffAE4JaqWrRsAGa0kpaBqvnhg0aU5DzgWOCgJNuB19J7+RFV9XZgI703zm0Ffgo8d9icBlpJ3Tc/uUBbVacNOV/Ai8aZ00ArqfsmmNG2YKCV1H179mbY2Ay0krrPjFaS2qrJ7CZoxkArqfsmeDOsBQOtpO6zdCBJjXkzTJIaM6OVpMa8GSZJjXkzTJLaqrJGK0ltWaOVpMYsHUhSY2a0ktTY3J3TXsGSDLSSus/SgSQ1ZulAkhozo5Wkxgy0ktRWeTNMkhqzRitJjVk6kKTGzGglqTEzWklqzIxWkhrb4Yu/JaktM1pJaswarSQ1ZkYrSY2Z0UpSY2a0ktSYuw4kqbGqaa9gSQZaSd1njVaSGpvxQLti2guQpN1W86O3IZKsSXJtkq1JztzF+Qcm+UySK5NcneTEYXOa0Urqvrm5iUyTZCVwDvAUYDuwKcmGqtoyMOzVwAVV9bYkRwIbgQctNa+BVlL3Ta50cAywtaq2ASQ5H1gLDAbaAg7of74vcOOwSQ20krpvjECbZB2wbqBrfVWt738+BLh+4Nx24PELpngd8IkkLwbuAxw/7JoGWkndN8YDC/2gun7owMWdBryrqv4xyW8B703yyKrFF2GgldR5NT+xfbQ3AIcOHK/q9w16HrAGoKo+n2Qf4CDgpsUmddeBpO6bnx+9LW0TcHiS1Un2Bk4FNiwY8y3gOIAkDwf2Ab631KRmtJK6b0K7DqpqR5IzgIuBlcC5VXVNkrOAzVW1AfhL4J1JXkLvxtjpVUs/mmagldR9E3xgoao20tuyNdj3moHPW4AnjjOngVZS9834k2EGWknd50tlJKkxM1pJamxy27uaMNBK6r4J7TpoxUArqfPK0oEkNWbpQJIa88sZJakxM1pJamyHN8MkqS1LB5LUmKUDSWrL7V2S1JoZrSQ1ZqCVpMZ8BFeS2prgd4Y1YaCV1H0GWklqzF0HktSYGa0kNWaglaS2as7SgSS1ZUYrSW25vUuSWjPQSlJjs12iNdBK6r7aMduR1kArqftmO84aaCV1nzfDJKk1M1pJasuMVpJam/GMdsW0FyAtZw9+wA+mvYR7hdoxepsGM1qpoW3fOXDaS7hXmPFvGzejlbQMzI/RhkiyJsm1SbYmOXORMc9MsiXJNUneP2xOM1pJnTepjDbJSuAc4CnAdmBTkg1VtWVgzOHAK4EnVtUPk9xv2LxmtJI6r+ZHb0McA2ytqm1VdQdwPrB2wZjnA+dU1Q8BquqmYZMaaCV1Xs1l5JZkXZLNA23dwFSHANcPHG/v9w06AjgiyWVJLk+yZtj6LB1I6rxxSgdVtR5YvxuX2ws4HDgWWAVcmuRRVfWjpX5Bkjqt5jOpqW4ADh04XtXvG7Qd+EJV3Qlcl+Rr9ALvpsUmtXQgqfMmWKPdBByeZHWSvYFTgQ0LxnyEXjZLkoPolRK2LTWpGa2kzquaTEZbVTuSnAFcDKwEzq2qa5KcBWyuqg39c09NsgWYA15eVTcvNa+BVlLnTfKBharaCGxc0Peagc8FvLTfRjJS6SDJEUk+leQr/eOjkrx61ItIUkvzcxm5TcOoNdp30tugeydAVV1Nr3YhSVNX8xm5TcOopYNfqqorkrstckqvZ5Cku5tWAB3VqIH2+0keAhRAkqcD3262KkkaQ83262hHDrQvorfB92FJbgCuA57TbFWSNIZlkdFW1Tbg+CT3AVZU1a1tlyVJo5vU9q5Wlgy0SXa5fWFnrbaq3tJgTZI0lrkp7SYY1bCMdv/+z18HHsddT0icBFzRalGSNI5OZ7RV9TcASS4Fjt5ZMkjyOuCi5quTpBEsixotcH/gjoHjO/p9kjR1y2XXwXuAK5Jc2D8+BXh3myVJ0niWRUZbVW9I8jHgd/tdz62qK9stS5JGNzc/2y8iHCnQJnkg8H3gwsG+qvpWq4VJ0qiWS+ngIvpPhQH7AquBa4FHtFiUJI1jvsu7DnaqqkcNHic5GnhhkxVJ0pg6vb1rMVX1pSSPn/RiJOmeWBalgwVPiK0AjgZubLIiSRrTsigdcNcTYtB7PeJFwIcnvxxJGt+y2HUAbKmqDw52JHkG8MFFxkvSHjPjlYORv2HhlSP2SdIeN18ZuU3DsLd3nQCcCByS5OyBUwfgNyxImhFd33VwI7AZOBn44kD/rcBLWi1KksYxwS/BbWLY27uuAq5K8r6qMoOVNJOKDme0SS6oqmcCVyb5f/Xmqjqq2cokaUQ7Ol46+Iv+z99rvRBJuqdmPaNdctdBVe38ptsXVtX/DDZ8BFfSjJgfo03DqNu7nrKLvhMmuRBJuqeKjNymYViN9gX0MtcHJ7l64NT+wGUtFyZJo+r0rgPg/cDHgL8Dzhzov7WqftBsVZI0hrkZr9EO2951C3ALcBpAkvsB+wD7JdnPF39LmgUz/k02o9Vok5yU5OvAdcBngW/Sy3QlaermychtGka9GfZ64AnA16pqNXAccHmzVUnSGGqMNg2jBto7q+pmYEWSFVX1GeCxDdclSSOb9e1do74m8UdJ9gMuBd6X5CbgJ+2WJUmjm89sF2lHzWjXArfRe5HMx4FvACe1WpQkjWNujDYNIwXaqvpJVc1V1Y6qendVnd0vJUjS1M1n9DZMkjVJrk2yNcmZS4z7gySVZGgZddgDC7ey6/pxgKqqA4auWpIam9RugiQrgXPoPQ27HdiUZENVbVkwbn9674L5wijzDnvXwf5VdcAu2v4GWUmzYoK7Do4BtlbVtqq6AzifXul0ob8F3gT8bJT1zfY3mknSCMYpHSRZl2TzQFs3MNUhwPUDx9v7fT+X5Gjg0Kq6aNT1jbrrQJJm1jjbtqpqPbD+nlwnyQrgLcDp4/yegVZS581NbnfXDcChA8er+n077Q88ErgkvS1lDwA2JDm5qjYvNqmBVlLnTfBBhE3A4UlW0wuwpwLP3nmy//6Xg3YeJ7kEeNlSQRas0UpaBib1ZFj/uxHPAC4GvgpcUFXXJDkrycn3dH1mtJI6b5JfGVZVG4GNC/pes8jYY0eZ00ArqfO6/uJvSZp503q0dlQGWkmdN+sv/jbQSuo8SweS1JiBVpIam9Y3J4zKQCup86zRSlJj7jqQpMbmZ7x4YKCV1HneDJOkxmY7nzXQSloGzGglqbEdme2c1kArqfNmO8waaCUtA5YOJKkxt3dJUmOzHWYNtJKWAUsHktTY3IzntAZaSZ1nRitJjZUZrSS1ZUYrSY25vUuSGpvtMGuglbQM7JjxUGugldR53gyTpMa8GSZJjZnRSlJjZrSS1NhcmdFKUlPuo5WkxqzRSlJj1mglqbFZLx2smPYCJGl31Rj/hkmyJsm1SbYmOXMX51+aZEuSq5N8Kslhw+Y00ErqvLmqkdtSkqwEzgFOAI4ETkty5IJhVwKPraqjgA8Bfz9sfQZaSZ03T43chjgG2FpV26rqDuB8YO3ggKr6TFX9tH94ObBq2KQGWkmdNz9GS7IuyeaBtm5gqkOA6weOt/f7FvM84GPD1ufNMEmdN872rqpaD6zf3WsmeQ7wWODJw8YaaCV13gR3HdwAHDpwvKrfdzdJjgdeBTy5qm4fNqmBVlLn1eQewd0EHJ5kNb0Aeyrw7MEBSR4DvANYU1U3jTKpgVZS503q68arakeSM4CLgZXAuVV1TZKzgM1VtQF4M7Af8MEkAN+qqpOXmtdAK6nzJvnAQlVtBDYu6HvNwOfjx53TQCup8yZYOmjCQCup82b9EVwDraTO8+1dktSYL/6WpMYsHUhSYwZaSWrMXQeS1JgZrSQ15q4DSWpsrmb7W8MMtJI6zxqtJDVmjVaSGrNGK0mNzVs6kKS2zGglqTF3HUhSY5YOJKkxSweS1JgZrSQ1ZkYrSY3N1dy0l7AkA62kzvMRXElqzEdwJakxM1pJasxdB5LUmLsOJKkxH8GVpMas0UpSY9ZoJakxM1pJasx9tJLUmBmtJDXmrgNJasybYZLU2KyXDlZMewGStLtqjH/DJFmT5NokW5OcuYvzv5jkA/3zX0jyoGFzGmgldV5VjdyWkmQlcA5wAnAkcFqSIxcMex7ww6p6KPBW4E3D1megldR581UjtyGOAbZW1baqugM4H1i7YMxa4N39zx8CjkuSpSZtUqNdfdUnl7yodG+xetoLuJfYcccNI8ecJOuAdQNd66tqff/zIcD1A+e2A49fMMXPx1TVjiS3AL8CfH+xa3ozTNK9Sj+orh86cIIsHUjSXW4ADh04XtXv2+WYJHsB9wVuXmpSA60k3WUTcHiS1Un2Bk4FNiwYswH44/7npwOfriF32SwdSFJfv+Z6BnAxsBI4t6quSXIWsLmqNgD/Arw3yVbgB/SC8ZIy6xt9tWcl+XFV7TfhOU8GjqyqNyY5BfhaVW0Zc45LgJdV1eZJrk3aEywdqLmq2lBVb+wfnkJvf6J0r2Gg1S6l581JvpLkv5I8q99/bJJLknwoyX8ned/OPYRJTuz3fTHJ2Uk+2u8/Pck/J/lt4GTgzUm+nOQh/bke2x93UJJv9j/vm+T8JF9NciGw78Danprk80m+lOSDSSaagUuTZo1Wi/l94DeARwMHAZuSXNo/9xjgEcCNwGXAE5NsBt4BPKmqrkty3sIJq+pzSTYAH62qDwEssc/7BcBPq+rhSY4CvtQffxDwauD4qvpJklcALwXOmsQfLbVgoNVifgc4r6rmgO8m+SzwOOB/gSuqajtAki8DDwJ+DGyrquv6v38ed98UPq4nAWcDVNXVSa7u9z+BXunhsn6Q3hv4/G5cR2rOQKt74vaBz3Ps3v+jHdxVwtpnhPEBPllVp+3GNaU9yhqtFvOfwLOSrExyML0M84olxl8LPHjgTUbPWmTcrcD+A8ffBH6z//npA/2XAs8GSPJI4Kh+/+X0ShUP7Z+7T5IjRvh7pKkx0GoxFwJXA1cBnwb+qqq+s9jgqroNeCHw8SRfpBdQb9nF0POBlye5MslDgH8AXpDkSnq14J3eBuyX5Kv06q9f7F/ne8DpwHn9csLngYftzh8qteY+Wk1Mkv2q6sf9XQjnAF+vqrdOe13StJnRapKe3785dg2957/fMeX1SDPBjFaSGjOjlaTGDLSS1JiBVpIaM9BKUmMGWklq7P8A23iGgsMNI8cAAAAASUVORK5CYII=\n",
                "text/plain": "<Figure size 432x288 with 2 Axes>"
              },
              {
                "output_type": "display_data",
                "metadata": {
                  "tags": [],
                  "needs_background": "light"
                },
                "image/png": "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\n",
                "text/plain": "<Figure size 432x288 with 2 Axes>"
              },
              {
                "output_type": "display_data",
                "metadata": {
                  "tags": [],
                  "needs_background": "light"
                },
                "image/png": "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\n",
                "text/plain": "<Figure size 432x288 with 2 Axes>"
              }
            ],
            "_view_module": "@jupyter-widgets/output",
            "_model_module_version": "1.0.0",
            "_view_count": null,
            "_view_module_version": "1.0.0",
            "layout": "IPY_MODEL_b31604fddaf24b8f8bdc4796d36d985b",
            "_model_module": "@jupyter-widgets/output"
          }
        },
        "2fdcfbdf88f64008a89f5b8e8d19c834": {
          "model_module": "@jupyter-widgets/controls",
          "model_name": "SliderStyleModel",
          "state": {
            "_view_name": "StyleView",
            "handle_color": null,
            "_model_name": "SliderStyleModel",
            "description_width": "",
            "_view_module": "@jupyter-widgets/base",
            "_model_module_version": "1.5.0",
            "_view_count": null,
            "_view_module_version": "1.2.0",
            "_model_module": "@jupyter-widgets/controls"
          }
        },
        "613ae438f4404d509ca0f7644df78f6c": {
          "model_module": "@jupyter-widgets/base",
          "model_name": "LayoutModel",
          "state": {
            "_view_name": "LayoutView",
            "grid_template_rows": null,
            "right": null,
            "justify_content": null,
            "_view_module": "@jupyter-widgets/base",
            "overflow": null,
            "_model_module_version": "1.2.0",
            "_view_count": null,
            "flex_flow": null,
            "width": null,
            "min_width": null,
            "border": null,
            "align_items": null,
            "bottom": null,
            "_model_module": "@jupyter-widgets/base",
            "top": null,
            "grid_column": null,
            "overflow_y": null,
            "overflow_x": null,
            "grid_auto_flow": null,
            "grid_area": null,
            "grid_template_columns": null,
            "flex": null,
            "_model_name": "LayoutModel",
            "justify_items": null,
            "grid_row": null,
            "max_height": null,
            "align_content": null,
            "visibility": null,
            "align_self": null,
            "height": null,
            "min_height": null,
            "padding": null,
            "grid_auto_rows": null,
            "grid_gap": null,
            "max_width": null,
            "order": null,
            "_view_module_version": "1.2.0",
            "grid_template_areas": null,
            "object_position": null,
            "object_fit": null,
            "grid_auto_columns": null,
            "margin": null,
            "display": null,
            "left": null
          }
        },
        "93dde8f1f4584fdca561da64dea73185": {
          "model_module": "@jupyter-widgets/controls",
          "model_name": "SliderStyleModel",
          "state": {
            "_view_name": "StyleView",
            "handle_color": null,
            "_model_name": "SliderStyleModel",
            "description_width": "",
            "_view_module": "@jupyter-widgets/base",
            "_model_module_version": "1.5.0",
            "_view_count": null,
            "_view_module_version": "1.2.0",
            "_model_module": "@jupyter-widgets/controls"
          }
        },
        "399c38c192ba42ecaa8255089d2c2701": {
          "model_module": "@jupyter-widgets/base",
          "model_name": "LayoutModel",
          "state": {
            "_view_name": "LayoutView",
            "grid_template_rows": null,
            "right": null,
            "justify_content": null,
            "_view_module": "@jupyter-widgets/base",
            "overflow": null,
            "_model_module_version": "1.2.0",
            "_view_count": null,
            "flex_flow": null,
            "width": null,
            "min_width": null,
            "border": null,
            "align_items": null,
            "bottom": null,
            "_model_module": "@jupyter-widgets/base",
            "top": null,
            "grid_column": null,
            "overflow_y": null,
            "overflow_x": null,
            "grid_auto_flow": null,
            "grid_area": null,
            "grid_template_columns": null,
            "flex": null,
            "_model_name": "LayoutModel",
            "justify_items": null,
            "grid_row": null,
            "max_height": null,
            "align_content": null,
            "visibility": null,
            "align_self": null,
            "height": null,
            "min_height": null,
            "padding": null,
            "grid_auto_rows": null,
            "grid_gap": null,
            "max_width": null,
            "order": null,
            "_view_module_version": "1.2.0",
            "grid_template_areas": null,
            "object_position": null,
            "object_fit": null,
            "grid_auto_columns": null,
            "margin": null,
            "display": null,
            "left": null
          }
        },
        "b31604fddaf24b8f8bdc4796d36d985b": {
          "model_module": "@jupyter-widgets/base",
          "model_name": "LayoutModel",
          "state": {
            "_view_name": "LayoutView",
            "grid_template_rows": null,
            "right": null,
            "justify_content": null,
            "_view_module": "@jupyter-widgets/base",
            "overflow": null,
            "_model_module_version": "1.2.0",
            "_view_count": null,
            "flex_flow": null,
            "width": null,
            "min_width": null,
            "border": null,
            "align_items": null,
            "bottom": null,
            "_model_module": "@jupyter-widgets/base",
            "top": null,
            "grid_column": null,
            "overflow_y": null,
            "overflow_x": null,
            "grid_auto_flow": null,
            "grid_area": null,
            "grid_template_columns": null,
            "flex": null,
            "_model_name": "LayoutModel",
            "justify_items": null,
            "grid_row": null,
            "max_height": null,
            "align_content": null,
            "visibility": null,
            "align_self": null,
            "height": null,
            "min_height": null,
            "padding": null,
            "grid_auto_rows": null,
            "grid_gap": null,
            "max_width": null,
            "order": null,
            "_view_module_version": "1.2.0",
            "grid_template_areas": null,
            "object_position": null,
            "object_fit": null,
            "grid_auto_columns": null,
            "margin": null,
            "display": null,
            "left": null
          }
        }
      }
    }
  },
  "cells": [
    {
      "cell_type": "markdown",
      "metadata": {
        "id": "view-in-github",
        "colab_type": "text"
      },
      "source": [
        "<a href=\"https://colab.research.google.com/github/mariokart345/DS-Unit-2-Kaggle-Challenge/blob/master/module2-random-forests/LS_DS_222.ipynb\" target=\"_parent\"><img src=\"https://colab.research.google.com/assets/colab-badge.svg\" alt=\"Open In Colab\"/></a>"
      ]
    },
    {
      "cell_type": "markdown",
      "metadata": {
        "id": "UEHyIgGaaSEJ"
      },
      "source": [
        "Lambda School Data Science\n",
        "\n",
        "*Unit 2, Sprint 2, Module 2*\n",
        "\n",
        "---"
      ]
    },
    {
      "cell_type": "markdown",
      "metadata": {
        "id": "mRfPLX4WgLVJ"
      },
      "source": [
        "# Random Forests"
      ]
    },
    {
      "cell_type": "markdown",
      "metadata": {
        "id": "jRRNhkxcgLVK"
      },
      "source": [
        "- use scikit-learn for **random forests**\n",
        "- do **ordinal encoding** with high-cardinality categoricals\n",
        "- understand how categorical encodings affect trees differently compared to linear models\n",
        "- understand how tree ensembles reduce overfitting compared to a single decision tree with unlimited depth"
      ]
    },
    {
      "cell_type": "markdown",
      "metadata": {
        "id": "-3TH11e1gLVL"
      },
      "source": [
        "Today's lesson has two take-away messages:\n",
        "\n",
        "#### Try Tree Ensembles when you do machine learning with labeled, tabular data\n",
        "- \"Tree Ensembles\" means Random Forest or Gradient Boosting models. \n",
        "- [Tree Ensembles often have the best predictive accuracy](https://arxiv.org/abs/1708.05070) with labeled, tabular data.\n",
        "- Why? Because trees can fit non-linear, non-[monotonic](https://en.wikipedia.org/wiki/Monotonic_function) relationships, and [interactions](https://christophm.github.io/interpretable-ml-book/interaction.html) between features.\n",
        "- A single decision tree, grown to unlimited depth, will [overfit](http://www.r2d3.us/visual-intro-to-machine-learning-part-1/). We solve this problem by ensembling trees, with bagging (Random Forest) or boosting (Gradient Boosting).\n",
        "- Random Forest's advantage: may be less sensitive to hyperparameters. Gradient Boosting's advantage: may get better predictive accuracy.\n",
        "\n",
        "#### One-hot encoding isn’t the only way, and may not be the best way, of categorical encoding for tree ensembles.\n",
        "- For example, tree ensembles can work with arbitrary \"ordinal\" encoding! (Randomly assigning an integer to each category.) Compared to one-hot encoding, the dimensionality will be lower, and the predictive accuracy may be just as good or even better.\n"
      ]
    },
    {
      "cell_type": "markdown",
      "metadata": {
        "id": "r5PbOFEuFfGF"
      },
      "source": [
        "### Setup\n",
        "\n",
        "Run the code cell below. You can work locally (follow the [local setup instructions](https://lambdaschool.github.io/ds/unit2/local/)) or on Colab.\n",
        "\n",
        "Libraries\n",
        "\n",
        "- **category_encoders** \n",
        "- **graphviz**\n",
        "- ipywidgets\n",
        "- matplotlib\n",
        "- numpy\n",
        "- pandas\n",
        "- seaborn\n",
        "- scikit-learn"
      ]
    },
    {
      "cell_type": "code",
      "metadata": {
        "id": "FStAplyRFoEu"
      },
      "source": [
        "%%capture\n",
        "import sys\n",
        "\n",
        "# If you're on Colab:\n",
        "if 'google.colab' in sys.modules:\n",
        "    DATA_PATH = 'https://raw.githubusercontent.com/LambdaSchool/DS-Unit-2-Kaggle-Challenge/master/data/'\n",
        "    !pip install category_encoders==2.*\n",
        "\n",
        "# If you're working locally:\n",
        "else:\n",
        "    DATA_PATH = '../data/'"
      ],
      "execution_count": 1,
      "outputs": []
    },
    {
      "cell_type": "markdown",
      "metadata": {
        "id": "ZL-yK8B7gLVW"
      },
      "source": [
        "# Use scikit-learn for random forests"
      ]
    },
    {
      "cell_type": "markdown",
      "metadata": {
        "id": "qdFgRD9jIZVf"
      },
      "source": [
        "## Overview\n",
        "\n",
        "Let's fit a Random Forest!\n",
        "\n",
        "![](https://pbs.twimg.com/media/EGSvKA0UUAEzUZi?format=png)\n",
        "\n",
        "[Chris Albon, MachineLearningFlashcards.com](https://twitter.com/chrisalbon/status/1181261589887909889)"
      ]
    },
    {
      "cell_type": "markdown",
      "metadata": {
        "id": "gHFxMCPSgLVM"
      },
      "source": [
        "### Solution example\n",
        "\n",
        "First, read & wrangle the data.\n",
        "\n",
        "> Define a function to wrangle train, validate, and test sets in the same way. Clean outliers and engineer features. (For example, [what other columns have zeros and shouldn't?](https://github.com/Quartz/bad-data-guide#zeros-replace-missing-values) What other columns are duplicates, or nearly duplicates? Can you extract the year from date_recorded? Can you engineer new features, such as the number of years from waterpump construction to waterpump inspection?)"
      ]
    },
    {
      "cell_type": "code",
      "metadata": {
        "id": "YTLm-rDagLVM"
      },
      "source": [
        "import numpy as np\n",
        "import pandas as pd\n",
        "from sklearn.model_selection import train_test_split\n",
        "\n",
        "# Merge train_features.csv & train_labels.csv\n",
        "train = pd.merge(pd.read_csv(DATA_PATH+'waterpumps/train_features.csv'), \n",
        "                 pd.read_csv(DATA_PATH+'waterpumps/train_labels.csv'))\n",
        "\n",
        "# Read test_features.csv & sample_submission.csv\n",
        "test = pd.read_csv(DATA_PATH+'waterpumps/test_features.csv')\n",
        "sample_submission = pd.read_csv(DATA_PATH+'waterpumps/sample_submission.csv')\n",
        "\n",
        "# Split train into train & val\n",
        "train, val = train_test_split(train, train_size=0.80, test_size=0.20, \n",
        "                              stratify=train['status_group'], random_state=42)\n",
        "\n",
        "\n",
        "def wrangle(X):\n",
        "    \"\"\"Wrangle train, validate, and test sets in the same way\"\"\"\n",
        "    \n",
        "    # Prevent SettingWithCopyWarning\n",
        "    X = X.copy()\n",
        "    \n",
        "    # About 3% of the time, latitude has small values near zero,\n",
        "    # outside Tanzania, so we'll treat these values like zero.\n",
        "    X['latitude'] = X['latitude'].replace(-2e-08, 0)\n",
        "    \n",
        "    # When columns have zeros and shouldn't, they are like null values.\n",
        "    # So we will replace the zeros with nulls, and impute missing values later.\n",
        "    # Also create a \"missing indicator\" column, because the fact that\n",
        "    # values are missing may be a predictive signal.\n",
        "    cols_with_zeros = ['longitude', 'latitude', 'construction_year', \n",
        "                       'gps_height', 'population']\n",
        "    for col in cols_with_zeros:\n",
        "        X[col] = X[col].replace(0, np.nan)\n",
        "        X[col+'_MISSING'] = X[col].isnull()\n",
        "            \n",
        "    # Drop duplicate columns\n",
        "    duplicates = ['quantity_group', 'payment_type']\n",
        "    X = X.drop(columns=duplicates)\n",
        "    \n",
        "    # Drop recorded_by (never varies) and id (always varies, random)\n",
        "    unusable_variance = ['recorded_by', 'id']\n",
        "    X = X.drop(columns=unusable_variance)\n",
        "    \n",
        "    # Convert date_recorded to datetime\n",
        "    X['date_recorded'] = pd.to_datetime(X['date_recorded'], infer_datetime_format=True)\n",
        "    \n",
        "    # Extract components from date_recorded, then drop the original column\n",
        "    X['year_recorded'] = X['date_recorded'].dt.year\n",
        "    X['month_recorded'] = X['date_recorded'].dt.month\n",
        "    X['day_recorded'] = X['date_recorded'].dt.day\n",
        "    X = X.drop(columns='date_recorded')\n",
        "    \n",
        "    # Engineer feature: how many years from construction_year to date_recorded\n",
        "    X['years'] = X['year_recorded'] - X['construction_year']\n",
        "    X['years_MISSING'] = X['years'].isnull()\n",
        "    \n",
        "    # return the wrangled dataframe\n",
        "    return X\n",
        "\n",
        "train = wrangle(train)\n",
        "val = wrangle(val)\n",
        "test = wrangle(test)"
      ],
      "execution_count": 2,
      "outputs": []
    },
    {
      "cell_type": "code",
      "metadata": {
        "id": "m2HppBvZgLVP"
      },
      "source": [
        "# The status_group column is the target\n",
        "target = 'status_group'\n",
        "\n",
        "# Get a dataframe with all train columns except the target\n",
        "train_features = train.drop(columns=[target])\n",
        "\n",
        "# Get a list of the numeric features\n",
        "numeric_features = train_features.select_dtypes(include='number').columns.tolist()\n",
        "\n",
        "# Get a series with the cardinality of the nonnumeric features\n",
        "cardinality = train_features.select_dtypes(exclude='number').nunique()\n",
        "\n",
        "# Get a list of all categorical features with cardinality <= 50\n",
        "categorical_features = cardinality[cardinality <= 50].index.tolist()\n",
        "\n",
        "# Combine the lists \n",
        "features = numeric_features + categorical_features"
      ],
      "execution_count": 3,
      "outputs": []
    },
    {
      "cell_type": "code",
      "metadata": {
        "id": "aXmK2brXgLVR"
      },
      "source": [
        "# Arrange data into X features matrix and y target vector \n",
        "X_train = train[features]\n",
        "y_train = train[target]\n",
        "X_val = val[features]\n",
        "y_val = val[target]\n",
        "X_test = test[features]"
      ],
      "execution_count": 4,
      "outputs": []
    },
    {
      "cell_type": "markdown",
      "metadata": {
        "id": "dCWEDwn7IZVh"
      },
      "source": [
        "## Follow Along\n",
        "\n",
        "[Scikit-Learn User Guide: Random Forests](https://scikit-learn.org/stable/modules/ensemble.html#random-forests) "
      ]
    },
    {
      "cell_type": "code",
      "metadata": {
        "colab": {
          "base_uri": "https://localhost:8080/"
        },
        "id": "57yyygsdgLVW",
        "outputId": "295ba621-91d8-4e9d-8b11-f271cdf6442a"
      },
      "source": [
        "%%time\r\n",
        "import category_encoders as ce\r\n",
        "from sklearn.ensemble import RandomForestClassifier\r\n",
        "from sklearn.impute import SimpleImputer\r\n",
        "from sklearn.pipeline import make_pipeline\r\n",
        "\r\n",
        "pipeline = make_pipeline(ce.OneHotEncoder(use_cat_names=True),SimpleImputer(strategy='mean'),RandomForestClassifier(random_state=0,n_jobs=1))\r\n",
        "pipeline.fit(X_train,y_train)\r\n",
        "print(f'{pipeline.score(X_val,y_val)}')"
      ],
      "execution_count": 11,
      "outputs": [
        {
          "output_type": "stream",
          "text": [
            "/usr/local/lib/python3.6/dist-packages/category_encoders/utils.py:21: FutureWarning: is_categorical is deprecated and will be removed in a future version.  Use is_categorical_dtype instead\n",
            "  elif pd.api.types.is_categorical(cols):\n"
          ],
          "name": "stderr"
        },
        {
          "output_type": "stream",
          "text": [
            "0.8081649831649832\n",
            "CPU times: user 19.4 s, sys: 150 ms, total: 19.6 s\n",
            "Wall time: 19.6 s\n"
          ],
          "name": "stdout"
        }
      ]
    },
    {
      "cell_type": "code",
      "metadata": {
        "id": "6EI1SJjAK1HP",
        "outputId": "93a9eb5a-c3eb-4c00-bac1-44687e1a02f5",
        "colab": {
          "base_uri": "https://localhost:8080/"
        }
      },
      "source": [
        "print(f'X_train shape before encoding: {X_train.shape}')"
      ],
      "execution_count": 10,
      "outputs": [
        {
          "output_type": "stream",
          "text": [
            "X_train shape before encoding: (47520, 38)\n"
          ],
          "name": "stdout"
        }
      ]
    },
    {
      "cell_type": "code",
      "metadata": {
        "id": "a-OLoxOJK9GT",
        "outputId": "4156b0ad-38d6-42e2-8e4a-60d94d503ba8",
        "colab": {
          "base_uri": "https://localhost:8080/"
        }
      },
      "source": [
        "encoder = pipeline.named_steps['onehotencoder']\r\n",
        "encoded = encoder.transform(X_train)\r\n",
        "print(f'X_train shape after encoding: {encoded.shape}')"
      ],
      "execution_count": 9,
      "outputs": [
        {
          "output_type": "stream",
          "text": [
            "X_train shape after encoding: (47520, 182)\n"
          ],
          "name": "stdout"
        }
      ]
    },
    {
      "cell_type": "code",
      "metadata": {
        "id": "G9OmpsLqLbk8",
        "outputId": "047485d1-a8de-4cb0-ccfe-708f8d4c57bc",
        "colab": {
          "base_uri": "https://localhost:8080/",
          "height": 609
        }
      },
      "source": [
        "%matplotlib inline\r\n",
        "import matplotlib.pyplot as plt\r\n",
        "rf=pipeline.named_steps['randomforestclassifier']\r\n",
        "importances=pd.Series(rf.feature_importances_,encoded.columns)\r\n",
        "n=20\r\n",
        "plt.figure(figsize=(10,n/2))\r\n",
        "\r\n",
        "importances.sort_values()[-n:].plot.barh()"
      ],
      "execution_count": 13,
      "outputs": [
        {
          "output_type": "execute_result",
          "data": {
            "text/plain": [
              "<matplotlib.axes._subplots.AxesSubplot at 0x7fcd145ac6d8>"
            ]
          },
          "metadata": {
            "tags": []
          },
          "execution_count": 13
        },
        {
          "output_type": "display_data",
          "data": {
            "image/png": "[encoded data removed]",
            "text/plain": [
              "<Figure size 720x720 with 1 Axes>"
            ]
          },
          "metadata": {
            "tags": [],
            "needs_background": "light"
          }
        }
      ]
    },
    {
      "cell_type": "markdown",
      "metadata": {
        "id": "yfyk_aa5gLVY"
      },
      "source": [
        "# Do ordinal encoding with high-cardinality categoricals"
      ]
    },
    {
      "cell_type": "markdown",
      "metadata": {
        "id": "9PnMAOC3IZVi"
      },
      "source": [
        "## Overview\n",
        "\n",
        "https://contrib.scikit-learn.org/category_encoders/ordinal.html"
      ]
    },
    {
      "cell_type": "markdown",
      "metadata": {
        "id": "qpmvWtygIZVi"
      },
      "source": [
        "## Follow Along"
      ]
    },
    {
      "cell_type": "code",
      "metadata": {
        "colab": {
          "base_uri": "https://localhost:8080/"
        },
        "id": "b8d_WJtcgLVZ",
        "outputId": "1c60bdb7-d9a9-4d51-cd48-dd7518e7b8c4"
      },
      "source": [
        "X_train = train.drop(columns=target)\r\n",
        "y_train = train[target]\r\n",
        "X_val = val.drop(columns=target)\r\n",
        "y_val = val[target]\r\n",
        "X_test = test\r\n",
        "\r\n",
        "import category_encoders as ce\r\n",
        "from sklearn.ensemble import RandomForestClassifier\r\n",
        "from sklearn.impute import SimpleImputer\r\n",
        "from sklearn.pipeline import make_pipeline\r\n",
        "\r\n",
        "pipeline = make_pipeline(ce.OrdinalEncoder(),SimpleImputer(strategy='median'),RandomForestClassifier(random_state=0,n_jobs=-1))\r\n",
        "pipeline.fit(X_train,y_train)\r\n",
        "print(f'{pipeline.score(X_val,y_val)}')"
      ],
      "execution_count": 18,
      "outputs": [
        {
          "output_type": "stream",
          "text": [
            "0.8092592592592592\n"
          ],
          "name": "stdout"
        }
      ]
    },
    {
      "cell_type": "code",
      "metadata": {
        "id": "yhyuP26jQZcd",
        "outputId": "cb7e41e0-64dc-49d4-bf3a-940dcbf32ada",
        "colab": {
          "base_uri": "https://localhost:8080/"
        }
      },
      "source": [
        "encoder = pipeline.named_steps['ordinalencoder']\r\n",
        "encoded = encoder.transform(X_train)\r\n",
        "print(f'Before encoding: {X_train.shape}\\nAfter Encoding: {encoded.shape}')"
      ],
      "execution_count": 19,
      "outputs": [
        {
          "output_type": "stream",
          "text": [
            "Before encoding: (47520, 45)\n",
            "After Encoding: (47520, 45)\n"
          ],
          "name": "stdout"
        }
      ]
    },
    {
      "cell_type": "markdown",
      "metadata": {
        "id": "xs2UPoVdgLVp"
      },
      "source": [
        "# Understand how categorical encodings affect trees differently compared to linear models"
      ]
    },
    {
      "cell_type": "markdown",
      "metadata": {
        "id": "AfSr57uZIZVj"
      },
      "source": [
        "## Follow Along"
      ]
    },
    {
      "cell_type": "markdown",
      "metadata": {
        "id": "z8V-A92mgLVp"
      },
      "source": [
        "### Categorical exploration, 1 feature at a time\n",
        "\n",
        "Change `feature`, then re-run these cells!"
      ]
    },
    {
      "cell_type": "code",
      "metadata": {
        "id": "G35RAzVdgLVq"
      },
      "source": [
        "feature = 'extraction_type_class'"
      ],
      "execution_count": 20,
      "outputs": []
    },
    {
      "cell_type": "code",
      "metadata": {
        "colab": {
          "base_uri": "https://localhost:8080/"
        },
        "id": "OuxHWiH8gLVr",
        "outputId": "b0ee97d7-3700-421e-b45d-66ed9af3e9f5"
      },
      "source": [
        "X_train[feature].value_counts()"
      ],
      "execution_count": 21,
      "outputs": [
        {
          "output_type": "execute_result",
          "data": {
            "text/plain": [
              "gravity         21448\n",
              "handpump        13184\n",
              "other            5193\n",
              "submersible      4894\n",
              "motorpump        2355\n",
              "rope pump         353\n",
              "wind-powered       93\n",
              "Name: extraction_type_class, dtype: int64"
            ]
          },
          "metadata": {
            "tags": []
          },
          "execution_count": 21
        }
      ]
    },
    {
      "cell_type": "code",
      "metadata": {
        "colab": {
          "base_uri": "https://localhost:8080/",
          "height": 507
        },
        "id": "pVxoC4NngLVt",
        "outputId": "06c8b6ed-4fb3-4ab2-ca3f-161f818a48da"
      },
      "source": [
        "import seaborn as sns\n",
        "plt.figure(figsize=(16,9))\n",
        "sns.barplot(\n",
        "    x=train[feature], \n",
        "    y=train['status_group']=='functional', \n",
        "    color='grey'\n",
        ");"
      ],
      "execution_count": 22,
      "outputs": [
        {
          "output_type": "display_data",
          "data": {
            "image/png": "[encoded data removed]",
            "text/plain": [
              "<Figure size 1152x648 with 1 Axes>"
            ]
          },
          "metadata": {
            "tags": [],
            "needs_background": "light"
          }
        }
      ]
    },
    {
      "cell_type": "code",
      "metadata": {
        "colab": {
          "base_uri": "https://localhost:8080/"
        },
        "id": "w99mek14gLVv",
        "outputId": "931405a9-70f7-4459-acaa-3ad0f8badcb5"
      },
      "source": [
        "X_train[feature].head(20)"
      ],
      "execution_count": 23,
      "outputs": [
        {
          "output_type": "execute_result",
          "data": {
            "text/plain": [
              "43360        gravity\n",
              "7263         gravity\n",
              "2486        handpump\n",
              "313            other\n",
              "52726      motorpump\n",
              "8558         gravity\n",
              "2559         gravity\n",
              "54735      motorpump\n",
              "25763       handpump\n",
              "44540    submersible\n",
              "28603          other\n",
              "4372     submersible\n",
              "30666        gravity\n",
              "6431     submersible\n",
              "57420          other\n",
              "1373         gravity\n",
              "2026         gravity\n",
              "58977       handpump\n",
              "41101        gravity\n",
              "10019        gravity\n",
              "Name: extraction_type_class, dtype: object"
            ]
          },
          "metadata": {
            "tags": []
          },
          "execution_count": 23
        }
      ]
    },
    {
      "cell_type": "markdown",
      "metadata": {
        "id": "ezzK2IdbgLVx"
      },
      "source": [
        "### [One Hot Encoding](https://contrib.scikit-learn.org/category_encoders/onehot.html)\n",
        "\n",
        "> Onehot (or dummy) coding for categorical features, produces one feature per category, each binary.\n",
        "\n",
        "Warning: May run slow, or run out of memory, with high cardinality categoricals!"
      ]
    },
    {
      "cell_type": "code",
      "metadata": {
        "colab": {
          "base_uri": "https://localhost:8080/",
          "height": 757
        },
        "id": "HDQZtV6GgLVy",
        "outputId": "ab335270-31de-4bc1-acfb-341484e3c74e"
      },
      "source": [
        "encoder = ce.OneHotEncoder(use_cat_names=True)\n",
        "encoded = encoder.fit_transform(X_train[[feature]])\n",
        "print(f'{len(encoded.columns)} columns')\n",
        "encoded.head(20)"
      ],
      "execution_count": 24,
      "outputs": [
        {
          "output_type": "stream",
          "text": [
            "7 columns\n"
          ],
          "name": "stdout"
        },
        {
          "output_type": "stream",
          "text": [
            "/usr/local/lib/python3.6/dist-packages/category_encoders/utils.py:21: FutureWarning: is_categorical is deprecated and will be removed in a future version.  Use is_categorical_dtype instead\n",
            "  elif pd.api.types.is_categorical(cols):\n"
          ],
          "name": "stderr"
        },
        {
          "output_type": "execute_result",
          "data": {
            "text/html": [
              "<div>\n",
              "<style scoped>\n",
              "    .dataframe tbody tr th:only-of-type {\n",
              "        vertical-align: middle;\n",
              "    }\n",
              "\n",
              "    .dataframe tbody tr th {\n",
              "        vertical-align: top;\n",
              "    }\n",
              "\n",
              "    .dataframe thead th {\n",
              "        text-align: right;\n",
              "    }\n",
              "</style>\n",
              "<table border=\"1\" class=\"dataframe\">\n",
              "  <thead>\n",
              "    <tr style=\"text-align: right;\">\n",
              "      <th></th>\n",
              "      <th>extraction_type_class_gravity</th>\n",
              "      <th>extraction_type_class_handpump</th>\n",
              "      <th>extraction_type_class_other</th>\n",
              "      <th>extraction_type_class_motorpump</th>\n",
              "      <th>extraction_type_class_submersible</th>\n",
              "      <th>extraction_type_class_rope pump</th>\n",
              "      <th>extraction_type_class_wind-powered</th>\n",
              "    </tr>\n",
              "  </thead>\n",
              "  <tbody>\n",
              "    <tr>\n",
              "      <th>43360</th>\n",
              "      <td>1</td>\n",
              "      <td>0</td>\n",
              "      <td>0</td>\n",
              "      <td>0</td>\n",
              "      <td>0</td>\n",
              "      <td>0</td>\n",
              "      <td>0</td>\n",
              "    </tr>\n",
              "    <tr>\n",
              "      <th>7263</th>\n",
              "      <td>1</td>\n",
              "      <td>0</td>\n",
              "      <td>0</td>\n",
              "      <td>0</td>\n",
              "      <td>0</td>\n",
              "      <td>0</td>\n",
              "      <td>0</td>\n",
              "    </tr>\n",
              "    <tr>\n",
              "      <th>2486</th>\n",
              "      <td>0</td>\n",
              "      <td>1</td>\n",
              "      <td>0</td>\n",
              "      <td>0</td>\n",
              "      <td>0</td>\n",
              "      <td>0</td>\n",
              "      <td>0</td>\n",
              "    </tr>\n",
              "    <tr>\n",
              "      <th>313</th>\n",
              "      <td>0</td>\n",
              "      <td>0</td>\n",
              "      <td>1</td>\n",
              "      <td>0</td>\n",
              "      <td>0</td>\n",
              "      <td>0</td>\n",
              "      <td>0</td>\n",
              "    </tr>\n",
              "    <tr>\n",
              "      <th>52726</th>\n",
              "      <td>0</td>\n",
              "      <td>0</td>\n",
              "      <td>0</td>\n",
              "      <td>1</td>\n",
              "      <td>0</td>\n",
              "      <td>0</td>\n",
              "      <td>0</td>\n",
              "    </tr>\n",
              "    <tr>\n",
              "      <th>8558</th>\n",
              "      <td>1</td>\n",
              "      <td>0</td>\n",
              "      <td>0</td>\n",
              "      <td>0</td>\n",
              "      <td>0</td>\n",
              "      <td>0</td>\n",
              "      <td>0</td>\n",
              "    </tr>\n",
              "    <tr>\n",
              "      <th>2559</th>\n",
              "      <td>1</td>\n",
              "      <td>0</td>\n",
              "      <td>0</td>\n",
              "      <td>0</td>\n",
              "      <td>0</td>\n",
              "      <td>0</td>\n",
              "      <td>0</td>\n",
              "    </tr>\n",
              "    <tr>\n",
              "      <th>54735</th>\n",
              "      <td>0</td>\n",
              "      <td>0</td>\n",
              "      <td>0</td>\n",
              "      <td>1</td>\n",
              "      <td>0</td>\n",
              "      <td>0</td>\n",
              "      <td>0</td>\n",
              "    </tr>\n",
              "    <tr>\n",
              "      <th>25763</th>\n",
              "      <td>0</td>\n",
              "      <td>1</td>\n",
              "      <td>0</td>\n",
              "      <td>0</td>\n",
              "      <td>0</td>\n",
              "      <td>0</td>\n",
              "      <td>0</td>\n",
              "    </tr>\n",
              "    <tr>\n",
              "      <th>44540</th>\n",
              "      <td>0</td>\n",
              "      <td>0</td>\n",
              "      <td>0</td>\n",
              "      <td>0</td>\n",
              "      <td>1</td>\n",
              "      <td>0</td>\n",
              "      <td>0</td>\n",
              "    </tr>\n",
              "    <tr>\n",
              "      <th>28603</th>\n",
              "      <td>0</td>\n",
              "      <td>0</td>\n",
              "      <td>1</td>\n",
              "      <td>0</td>\n",
              "      <td>0</td>\n",
              "      <td>0</td>\n",
              "      <td>0</td>\n",
              "    </tr>\n",
              "    <tr>\n",
              "      <th>4372</th>\n",
              "      <td>0</td>\n",
              "      <td>0</td>\n",
              "      <td>0</td>\n",
              "      <td>0</td>\n",
              "      <td>1</td>\n",
              "      <td>0</td>\n",
              "      <td>0</td>\n",
              "    </tr>\n",
              "    <tr>\n",
              "      <th>30666</th>\n",
              "      <td>1</td>\n",
              "      <td>0</td>\n",
              "      <td>0</td>\n",
              "      <td>0</td>\n",
              "      <td>0</td>\n",
              "      <td>0</td>\n",
              "      <td>0</td>\n",
              "    </tr>\n",
              "    <tr>\n",
              "      <th>6431</th>\n",
              "      <td>0</td>\n",
              "      <td>0</td>\n",
              "      <td>0</td>\n",
              "      <td>0</td>\n",
              "      <td>1</td>\n",
              "      <td>0</td>\n",
              "      <td>0</td>\n",
              "    </tr>\n",
              "    <tr>\n",
              "      <th>57420</th>\n",
              "      <td>0</td>\n",
              "      <td>0</td>\n",
              "      <td>1</td>\n",
              "      <td>0</td>\n",
              "      <td>0</td>\n",
              "      <td>0</td>\n",
              "      <td>0</td>\n",
              "    </tr>\n",
              "    <tr>\n",
              "      <th>1373</th>\n",
              "      <td>1</td>\n",
              "      <td>0</td>\n",
              "      <td>0</td>\n",
              "      <td>0</td>\n",
              "      <td>0</td>\n",
              "      <td>0</td>\n",
              "      <td>0</td>\n",
              "    </tr>\n",
              "    <tr>\n",
              "      <th>2026</th>\n",
              "      <td>1</td>\n",
              "      <td>0</td>\n",
              "      <td>0</td>\n",
              "      <td>0</td>\n",
              "      <td>0</td>\n",
              "      <td>0</td>\n",
              "      <td>0</td>\n",
              "    </tr>\n",
              "    <tr>\n",
              "      <th>58977</th>\n",
              "      <td>0</td>\n",
              "      <td>1</td>\n",
              "      <td>0</td>\n",
              "      <td>0</td>\n",
              "      <td>0</td>\n",
              "      <td>0</td>\n",
              "      <td>0</td>\n",
              "    </tr>\n",
              "    <tr>\n",
              "      <th>41101</th>\n",
              "      <td>1</td>\n",
              "      <td>0</td>\n",
              "      <td>0</td>\n",
              "      <td>0</td>\n",
              "      <td>0</td>\n",
              "      <td>0</td>\n",
              "      <td>0</td>\n",
              "    </tr>\n",
              "    <tr>\n",
              "      <th>10019</th>\n",
              "      <td>1</td>\n",
              "      <td>0</td>\n",
              "      <td>0</td>\n",
              "      <td>0</td>\n",
              "      <td>0</td>\n",
              "      <td>0</td>\n",
              "      <td>0</td>\n",
              "    </tr>\n",
              "  </tbody>\n",
              "</table>\n",
              "</div>"
            ],
            "text/plain": [
              "       extraction_type_class_gravity  ...  extraction_type_class_wind-powered\n",
              "43360                              1  ...                                   0\n",
              "7263                               1  ...                                   0\n",
              "2486                               0  ...                                   0\n",
              "313                                0  ...                                   0\n",
              "52726                              0  ...                                   0\n",
              "8558                               1  ...                                   0\n",
              "2559                               1  ...                                   0\n",
              "54735                              0  ...                                   0\n",
              "25763                              0  ...                                   0\n",
              "44540                              0  ...                                   0\n",
              "28603                              0  ...                                   0\n",
              "4372                               0  ...                                   0\n",
              "30666                              1  ...                                   0\n",
              "6431                               0  ...                                   0\n",
              "57420                              0  ...                                   0\n",
              "1373                               1  ...                                   0\n",
              "2026                               1  ...                                   0\n",
              "58977                              0  ...                                   0\n",
              "41101                              1  ...                                   0\n",
              "10019                              1  ...                                   0\n",
              "\n",
              "[20 rows x 7 columns]"
            ]
          },
          "metadata": {
            "tags": []
          },
          "execution_count": 24
        }
      ]
    },
    {
      "cell_type": "markdown",
      "metadata": {
        "id": "1Ql9Qmw3sNJ7"
      },
      "source": [
        "#### One-Hot Encoding, Logistic Regression, Validation Accuracy"
      ]
    },
    {
      "cell_type": "code",
      "metadata": {
        "colab": {
          "base_uri": "https://localhost:8080/"
        },
        "id": "mT4A-oDGpOss",
        "outputId": "643cb4c9-586e-4a88-93a8-1d93ceaad40a"
      },
      "source": [
        "from sklearn.linear_model import LogisticRegressionCV\n",
        "from sklearn.preprocessing import StandardScaler\n",
        "\n",
        "lr = make_pipeline(\n",
        "    ce.OneHotEncoder(use_cat_names=True), \n",
        "    SimpleImputer(), \n",
        "    StandardScaler(), \n",
        "    LogisticRegressionCV(multi_class='auto', solver='lbfgs', cv=5, n_jobs=-1)\n",
        ")\n",
        "\n",
        "lr.fit(X_train[[feature]], y_train)\n",
        "score = lr.score(X_val[[feature]], y_val)\n",
        "print('Logistic Regression, Validation Accuracy', score)"
      ],
      "execution_count": 25,
      "outputs": [
        {
          "output_type": "stream",
          "text": [
            "/usr/local/lib/python3.6/dist-packages/category_encoders/utils.py:21: FutureWarning: is_categorical is deprecated and will be removed in a future version.  Use is_categorical_dtype instead\n",
            "  elif pd.api.types.is_categorical(cols):\n"
          ],
          "name": "stderr"
        },
        {
          "output_type": "stream",
          "text": [
            "Logistic Regression, Validation Accuracy 0.6202861952861953\n"
          ],
          "name": "stdout"
        }
      ]
    },
    {
      "cell_type": "markdown",
      "metadata": {
        "id": "EbH6wivpsRuV"
      },
      "source": [
        "#### One-Hot Encoding, Decision Tree, Validation Accuracy"
      ]
    },
    {
      "cell_type": "code",
      "metadata": {
        "colab": {
          "base_uri": "https://localhost:8080/"
        },
        "id": "b6KUluFOqIdK",
        "outputId": "4d587dd5-ba5c-4893-e704-c2018a446f05"
      },
      "source": [
        "from sklearn.tree import DecisionTreeClassifier\n",
        "\n",
        "dt = make_pipeline(\n",
        "    ce.OneHotEncoder(use_cat_names=True), \n",
        "    SimpleImputer(), \n",
        "    DecisionTreeClassifier(random_state=42)\n",
        ")\n",
        "\n",
        "dt.fit(X_train[[feature]], y_train)\n",
        "score = dt.score(X_val[[feature]], y_val)\n",
        "print('Decision Tree, Validation Accuracy', score)"
      ],
      "execution_count": 26,
      "outputs": [
        {
          "output_type": "stream",
          "text": [
            "Decision Tree, Validation Accuracy 0.6202861952861953\n"
          ],
          "name": "stdout"
        },
        {
          "output_type": "stream",
          "text": [
            "/usr/local/lib/python3.6/dist-packages/category_encoders/utils.py:21: FutureWarning: is_categorical is deprecated and will be removed in a future version.  Use is_categorical_dtype instead\n",
            "  elif pd.api.types.is_categorical(cols):\n"
          ],
          "name": "stderr"
        }
      ]
    },
    {
      "cell_type": "markdown",
      "metadata": {
        "id": "8yg11_gTsUu6"
      },
      "source": [
        "#### One-Hot Encoding, Logistic Regression, Model Interpretation"
      ]
    },
    {
      "cell_type": "code",
      "metadata": {
        "colab": {
          "base_uri": "https://localhost:8080/",
          "height": 265
        },
        "id": "IxHwXGRornNI",
        "outputId": "81bf3f01-39df-4ede-bba4-b2caf8f6904c"
      },
      "source": [
        "model = lr.named_steps['logisticregressioncv']\n",
        "encoder = lr.named_steps['onehotencoder']\n",
        "encoded_columns = encoder.transform(X_val[[feature]]).columns\n",
        "coefficients = pd.Series(model.coef_[0], encoded_columns)\n",
        "coefficients.sort_values().plot.barh(color='grey');"
      ],
      "execution_count": 27,
      "outputs": [
        {
          "output_type": "display_data",
          "data": {
            "image/png": "[encoded data removed]",
            "text/plain": [
              "<Figure size 432x288 with 1 Axes>"
            ]
          },
          "metadata": {
            "tags": [],
            "needs_background": "light"
          }
        }
      ]
    },
    {
      "cell_type": "markdown",
      "metadata": {
        "id": "0REZ8HdpsccR"
      },
      "source": [
        "#### One-Hot Encoding, Decision Tree, Model Interpretation"
      ]
    },
    {
      "cell_type": "code",
      "metadata": {
        "colab": {
          "base_uri": "https://localhost:8080/",
          "height": 954
        },
        "id": "gV-grmYKpDp9",
        "outputId": "7f87b3b0-b53c-48d3-bb30-2dafbe177e9b"
      },
      "source": [
        "# Plot tree\n",
        "# https://scikit-learn.org/stable/modules/generated/sklearn.tree.export_graphviz.html\n",
        "import graphviz\n",
        "from sklearn.tree import export_graphviz\n",
        "\n",
        "model = dt.named_steps['decisiontreeclassifier']\n",
        "encoder = dt.named_steps['onehotencoder']\n",
        "encoded_columns = encoder.transform(X_val[[feature]]).columns\n",
        "\n",
        "dot_data = export_graphviz(model, \n",
        "                           out_file=None, \n",
        "                           max_depth=7, \n",
        "                           feature_names=encoded_columns,\n",
        "                           class_names=model.classes_, \n",
        "                           impurity=False, \n",
        "                           filled=True, \n",
        "                           proportion=True, \n",
        "                           rounded=True)   \n",
        "display(graphviz.Source(dot_data))"
      ],
      "execution_count": 28,
      "outputs": [
        {
          "output_type": "display_data",
          "data": {
            "text/plain": [
              "<graphviz.files.Source at 0x7fcd14511d68>"
            ],
            "image/svg+xml": "<?xml version=\"1.0\" encoding=\"UTF-8\" standalone=\"no\"?>\n<!DOCTYPE svg PUBLIC \"-//W3C//DTD SVG 1.1//EN\"\n \"http://www.w3.org/Graphics/SVG/1.1/DTD/svg11.dtd\">\n<!-- Generated by graphviz version 2.40.1 (20161225.0304)\n -->\n<!-- Title: Tree Pages: 1 -->\n<svg width=\"1067pt\" height=\"685pt\"\n viewBox=\"0.00 0.00 1067.00 685.00\" xmlns=\"http://www.w3.org/2000/svg\" xmlns:xlink=\"http://www.w3.org/1999/xlink\">\n<g id=\"graph0\" class=\"graph\" transform=\"scale(1 1) rotate(0) translate(4 681)\">\n<title>Tree</title>\n<polygon fill=\"#ffffff\" stroke=\"transparent\" points=\"-4,4 -4,-681 1063,-681 1063,4 -4,4\"/>\n<!-- 0 -->\n<g id=\"node1\" class=\"node\">\n<title>0</title>\n<path fill=\"#f8decc\" stroke=\"#000000\" d=\"M944.5,-677C944.5,-677 725.5,-677 725.5,-677 719.5,-677 713.5,-671 713.5,-665 713.5,-665 713.5,-621 713.5,-621 713.5,-615 719.5,-609 725.5,-609 725.5,-609 944.5,-609 944.5,-609 950.5,-609 956.5,-615 956.5,-621 956.5,-621 956.5,-665 956.5,-665 956.5,-671 950.5,-677 944.5,-677\"/>\n<text text-anchor=\"middle\" x=\"835\" y=\"-661.8\" font-family=\"Helvetica,sans-Serif\" font-size=\"14.00\" fill=\"#000000\">extraction_type_class_other &lt;= 0.5</text>\n<text text-anchor=\"middle\" x=\"835\" y=\"-646.8\" font-family=\"Helvetica,sans-Serif\" font-size=\"14.00\" fill=\"#000000\">samples = 100.0%</text>\n<text text-anchor=\"middle\" x=\"835\" y=\"-631.8\" font-family=\"Helvetica,sans-Serif\" font-size=\"14.00\" fill=\"#000000\">value = [0.543, 0.073, 0.384]</text>\n<text text-anchor=\"middle\" x=\"835\" y=\"-616.8\" font-family=\"Helvetica,sans-Serif\" font-size=\"14.00\" fill=\"#000000\">class = functional</text>\n</g>\n<!-- 1 -->\n<g id=\"node2\" class=\"node\">\n<title>1</title>\n<path fill=\"#f5ceb2\" stroke=\"#000000\" d=\"M837,-573C837,-573 577,-573 577,-573 571,-573 565,-567 565,-561 565,-561 565,-517 565,-517 565,-511 571,-505 577,-505 577,-505 837,-505 837,-505 843,-505 849,-511 849,-517 849,-517 849,-561 849,-561 849,-567 843,-573 837,-573\"/>\n<text text-anchor=\"middle\" x=\"707\" y=\"-557.8\" font-family=\"Helvetica,sans-Serif\" font-size=\"14.00\" fill=\"#000000\">extraction_type_class_motorpump &lt;= 0.5</text>\n<text text-anchor=\"middle\" x=\"707\" y=\"-542.8\" font-family=\"Helvetica,sans-Serif\" font-size=\"14.00\" fill=\"#000000\">samples = 89.1%</text>\n<text text-anchor=\"middle\" x=\"707\" y=\"-527.8\" font-family=\"Helvetica,sans-Serif\" font-size=\"14.00\" fill=\"#000000\">value = [0.59, 0.078, 0.332]</text>\n<text text-anchor=\"middle\" x=\"707\" y=\"-512.8\" font-family=\"Helvetica,sans-Serif\" font-size=\"14.00\" fill=\"#000000\">class = functional</text>\n</g>\n<!-- 0&#45;&gt;1 -->\n<g id=\"edge1\" class=\"edge\">\n<title>0&#45;&gt;1</title>\n<path fill=\"none\" stroke=\"#000000\" d=\"M793.088,-608.9465C781.485,-599.519 768.7779,-589.1946 756.7741,-579.4415\"/>\n<polygon fill=\"#000000\" stroke=\"#000000\" points=\"758.9744,-576.7196 749.0061,-573.13 754.5602,-582.1524 758.9744,-576.7196\"/>\n<text text-anchor=\"middle\" x=\"751.5786\" y=\"-594.2973\" font-family=\"Helvetica,sans-Serif\" font-size=\"14.00\" fill=\"#000000\">True</text>\n</g>\n<!-- 12 -->\n<g id=\"node13\" class=\"node\">\n<title>12</title>\n<path fill=\"#9d66eb\" stroke=\"#000000\" d=\"M1047,-565.5C1047,-565.5 879,-565.5 879,-565.5 873,-565.5 867,-559.5 867,-553.5 867,-553.5 867,-524.5 867,-524.5 867,-518.5 873,-512.5 879,-512.5 879,-512.5 1047,-512.5 1047,-512.5 1053,-512.5 1059,-518.5 1059,-524.5 1059,-524.5 1059,-553.5 1059,-553.5 1059,-559.5 1053,-565.5 1047,-565.5\"/>\n<text text-anchor=\"middle\" x=\"963\" y=\"-550.3\" font-family=\"Helvetica,sans-Serif\" font-size=\"14.00\" fill=\"#000000\">samples = 10.9%</text>\n<text text-anchor=\"middle\" x=\"963\" y=\"-535.3\" font-family=\"Helvetica,sans-Serif\" font-size=\"14.00\" fill=\"#000000\">value = [0.159, 0.031, 0.81]</text>\n<text text-anchor=\"middle\" x=\"963\" y=\"-520.3\" font-family=\"Helvetica,sans-Serif\" font-size=\"14.00\" fill=\"#000000\">class = non functional</text>\n</g>\n<!-- 0&#45;&gt;12 -->\n<g id=\"edge12\" class=\"edge\">\n<title>0&#45;&gt;12</title>\n<path fill=\"none\" stroke=\"#000000\" d=\"M876.912,-608.9465C891.5533,-597.0504 907.9526,-583.726 922.4785,-571.9237\"/>\n<polygon fill=\"#000000\" stroke=\"#000000\" points=\"924.7786,-574.5645 930.3327,-565.5422 920.3645,-569.1317 924.7786,-574.5645\"/>\n<text text-anchor=\"middle\" x=\"927.7602\" y=\"-586.7095\" font-family=\"Helvetica,sans-Serif\" font-size=\"14.00\" fill=\"#000000\">False</text>\n</g>\n<!-- 2 -->\n<g id=\"node3\" class=\"node\">\n<title>2</title>\n<path fill=\"#f4caac\" stroke=\"#000000\" d=\"M708.5,-469C708.5,-469 443.5,-469 443.5,-469 437.5,-469 431.5,-463 431.5,-457 431.5,-457 431.5,-413 431.5,-413 431.5,-407 437.5,-401 443.5,-401 443.5,-401 708.5,-401 708.5,-401 714.5,-401 720.5,-407 720.5,-413 720.5,-413 720.5,-457 720.5,-457 720.5,-463 714.5,-469 708.5,-469\"/>\n<text text-anchor=\"middle\" x=\"576\" y=\"-453.8\" font-family=\"Helvetica,sans-Serif\" font-size=\"14.00\" fill=\"#000000\">extraction_type_class_submersible &lt;= 0.5</text>\n<text text-anchor=\"middle\" x=\"576\" y=\"-438.8\" font-family=\"Helvetica,sans-Serif\" font-size=\"14.00\" fill=\"#000000\">samples = 84.1%</text>\n<text text-anchor=\"middle\" x=\"576\" y=\"-423.8\" font-family=\"Helvetica,sans-Serif\" font-size=\"14.00\" fill=\"#000000\">value = [0.603, 0.08, 0.318]</text>\n<text text-anchor=\"middle\" x=\"576\" y=\"-408.8\" font-family=\"Helvetica,sans-Serif\" font-size=\"14.00\" fill=\"#000000\">class = functional</text>\n</g>\n<!-- 1&#45;&gt;2 -->\n<g id=\"edge2\" class=\"edge\">\n<title>1&#45;&gt;2</title>\n<path fill=\"none\" stroke=\"#000000\" d=\"M664.1057,-504.9465C652.2307,-495.519 639.2259,-485.1946 626.9407,-475.4415\"/>\n<polygon fill=\"#000000\" stroke=\"#000000\" points=\"628.9989,-472.6066 618.9907,-469.13 624.6464,-478.089 628.9989,-472.6066\"/>\n</g>\n<!-- 11 -->\n<g id=\"node12\" class=\"node\">\n<title>11</title>\n<path fill=\"#d8c1f7\" stroke=\"#000000\" d=\"M927,-461.5C927,-461.5 751,-461.5 751,-461.5 745,-461.5 739,-455.5 739,-449.5 739,-449.5 739,-420.5 739,-420.5 739,-414.5 745,-408.5 751,-408.5 751,-408.5 927,-408.5 927,-408.5 933,-408.5 939,-414.5 939,-420.5 939,-420.5 939,-449.5 939,-449.5 939,-455.5 933,-461.5 927,-461.5\"/>\n<text text-anchor=\"middle\" x=\"839\" y=\"-446.3\" font-family=\"Helvetica,sans-Serif\" font-size=\"14.00\" fill=\"#000000\">samples = 5.0%</text>\n<text text-anchor=\"middle\" x=\"839\" y=\"-431.3\" font-family=\"Helvetica,sans-Serif\" font-size=\"14.00\" fill=\"#000000\">value = [0.381, 0.045, 0.574]</text>\n<text text-anchor=\"middle\" x=\"839\" y=\"-416.3\" font-family=\"Helvetica,sans-Serif\" font-size=\"14.00\" fill=\"#000000\">class = non functional</text>\n</g>\n<!-- 1&#45;&gt;11 -->\n<g id=\"edge11\" class=\"edge\">\n<title>1&#45;&gt;11</title>\n<path fill=\"none\" stroke=\"#000000\" d=\"M750.2217,-504.9465C765.3206,-493.0504 782.2324,-479.726 797.2122,-467.9237\"/>\n<polygon fill=\"#000000\" stroke=\"#000000\" points=\"799.623,-470.4802 805.3119,-461.5422 795.2909,-464.9817 799.623,-470.4802\"/>\n</g>\n<!-- 3 -->\n<g id=\"node4\" class=\"node\">\n<title>3</title>\n<path fill=\"#f4c7a8\" stroke=\"#000000\" d=\"M568.5,-365C568.5,-365 339.5,-365 339.5,-365 333.5,-365 327.5,-359 327.5,-353 327.5,-353 327.5,-309 327.5,-309 327.5,-303 333.5,-297 339.5,-297 339.5,-297 568.5,-297 568.5,-297 574.5,-297 580.5,-303 580.5,-309 580.5,-309 580.5,-353 580.5,-353 580.5,-359 574.5,-365 568.5,-365\"/>\n<text text-anchor=\"middle\" x=\"454\" y=\"-349.8\" font-family=\"Helvetica,sans-Serif\" font-size=\"14.00\" fill=\"#000000\">extraction_type_class_gravity &lt;= 0.5</text>\n<text text-anchor=\"middle\" x=\"454\" y=\"-334.8\" font-family=\"Helvetica,sans-Serif\" font-size=\"14.00\" fill=\"#000000\">samples = 73.8%</text>\n<text text-anchor=\"middle\" x=\"454\" y=\"-319.8\" font-family=\"Helvetica,sans-Serif\" font-size=\"14.00\" fill=\"#000000\">value = [0.611, 0.085, 0.304]</text>\n<text text-anchor=\"middle\" x=\"454\" y=\"-304.8\" font-family=\"Helvetica,sans-Serif\" font-size=\"14.00\" fill=\"#000000\">class = functional</text>\n</g>\n<!-- 2&#45;&gt;3 -->\n<g id=\"edge3\" class=\"edge\">\n<title>2&#45;&gt;3</title>\n<path fill=\"none\" stroke=\"#000000\" d=\"M536.0526,-400.9465C525.0988,-391.6088 513.1127,-381.3911 501.768,-371.7203\"/>\n<polygon fill=\"#000000\" stroke=\"#000000\" points=\"503.9179,-368.9538 494.0371,-365.13 499.3767,-374.2809 503.9179,-368.9538\"/>\n</g>\n<!-- 10 -->\n<g id=\"node11\" class=\"node\">\n<title>10</title>\n<path fill=\"#f9e4d5\" stroke=\"#000000\" d=\"M787,-357.5C787,-357.5 611,-357.5 611,-357.5 605,-357.5 599,-351.5 599,-345.5 599,-345.5 599,-316.5 599,-316.5 599,-310.5 605,-304.5 611,-304.5 611,-304.5 787,-304.5 787,-304.5 793,-304.5 799,-310.5 799,-316.5 799,-316.5 799,-345.5 799,-345.5 799,-351.5 793,-357.5 787,-357.5\"/>\n<text text-anchor=\"middle\" x=\"699\" y=\"-342.3\" font-family=\"Helvetica,sans-Serif\" font-size=\"14.00\" fill=\"#000000\">samples = 10.3%</text>\n<text text-anchor=\"middle\" x=\"699\" y=\"-327.3\" font-family=\"Helvetica,sans-Serif\" font-size=\"14.00\" fill=\"#000000\">value = [0.541, 0.042, 0.416]</text>\n<text text-anchor=\"middle\" x=\"699\" y=\"-312.3\" font-family=\"Helvetica,sans-Serif\" font-size=\"14.00\" fill=\"#000000\">class = functional</text>\n</g>\n<!-- 2&#45;&gt;10 -->\n<g id=\"edge10\" class=\"edge\">\n<title>2&#45;&gt;10</title>\n<path fill=\"none\" stroke=\"#000000\" d=\"M616.2748,-400.9465C630.2139,-389.1606 645.8112,-375.9726 659.6732,-364.2519\"/>\n<polygon fill=\"#000000\" stroke=\"#000000\" points=\"662.2324,-366.6715 667.6088,-357.5422 657.7127,-361.3262 662.2324,-366.6715\"/>\n</g>\n<!-- 4 -->\n<g id=\"node5\" class=\"node\">\n<title>4</title>\n<path fill=\"#f3c5a4\" stroke=\"#000000\" d=\"M458.5,-261C458.5,-261 181.5,-261 181.5,-261 175.5,-261 169.5,-255 169.5,-249 169.5,-249 169.5,-205 169.5,-205 169.5,-199 175.5,-193 181.5,-193 181.5,-193 458.5,-193 458.5,-193 464.5,-193 470.5,-199 470.5,-205 470.5,-205 470.5,-249 470.5,-249 470.5,-255 464.5,-261 458.5,-261\"/>\n<text text-anchor=\"middle\" x=\"320\" y=\"-245.8\" font-family=\"Helvetica,sans-Serif\" font-size=\"14.00\" fill=\"#000000\">extraction_type_class_wind&#45;powered &lt;= 0.5</text>\n<text text-anchor=\"middle\" x=\"320\" y=\"-230.8\" font-family=\"Helvetica,sans-Serif\" font-size=\"14.00\" fill=\"#000000\">samples = 28.7%</text>\n<text text-anchor=\"middle\" x=\"320\" y=\"-215.8\" font-family=\"Helvetica,sans-Serif\" font-size=\"14.00\" fill=\"#000000\">value = [0.629, 0.059, 0.311]</text>\n<text text-anchor=\"middle\" x=\"320\" y=\"-200.8\" font-family=\"Helvetica,sans-Serif\" font-size=\"14.00\" fill=\"#000000\">class = functional</text>\n</g>\n<!-- 3&#45;&gt;4 -->\n<g id=\"edge4\" class=\"edge\">\n<title>3&#45;&gt;4</title>\n<path fill=\"none\" stroke=\"#000000\" d=\"M410.1234,-296.9465C397.9765,-287.519 384.6738,-277.1946 372.1073,-267.4415\"/>\n<polygon fill=\"#000000\" stroke=\"#000000\" points=\"374.021,-264.4963 363.9752,-261.13 369.7291,-270.0262 374.021,-264.4963\"/>\n</g>\n<!-- 9 -->\n<g id=\"node10\" class=\"node\">\n<title>9</title>\n<path fill=\"#f4c9aa\" stroke=\"#000000\" d=\"M677,-253.5C677,-253.5 501,-253.5 501,-253.5 495,-253.5 489,-247.5 489,-241.5 489,-241.5 489,-212.5 489,-212.5 489,-206.5 495,-200.5 501,-200.5 501,-200.5 677,-200.5 677,-200.5 683,-200.5 689,-206.5 689,-212.5 689,-212.5 689,-241.5 689,-241.5 689,-247.5 683,-253.5 677,-253.5\"/>\n<text text-anchor=\"middle\" x=\"589\" y=\"-238.3\" font-family=\"Helvetica,sans-Serif\" font-size=\"14.00\" fill=\"#000000\">samples = 45.1%</text>\n<text text-anchor=\"middle\" x=\"589\" y=\"-223.3\" font-family=\"Helvetica,sans-Serif\" font-size=\"14.00\" fill=\"#000000\">value = [0.599, 0.101, 0.299]</text>\n<text text-anchor=\"middle\" x=\"589\" y=\"-208.3\" font-family=\"Helvetica,sans-Serif\" font-size=\"14.00\" fill=\"#000000\">class = functional</text>\n</g>\n<!-- 3&#45;&gt;9 -->\n<g id=\"edge9\" class=\"edge\">\n<title>3&#45;&gt;9</title>\n<path fill=\"none\" stroke=\"#000000\" d=\"M498.204,-296.9465C513.6461,-285.0504 530.9422,-271.726 546.2625,-259.9237\"/>\n<polygon fill=\"#000000\" stroke=\"#000000\" points=\"548.7603,-262.4176 554.5462,-253.5422 544.4883,-256.8723 548.7603,-262.4176\"/>\n</g>\n<!-- 5 -->\n<g id=\"node6\" class=\"node\">\n<title>5</title>\n<path fill=\"#f3c4a3\" stroke=\"#000000\" d=\"M319,-157C319,-157 63,-157 63,-157 57,-157 51,-151 51,-145 51,-145 51,-101 51,-101 51,-95 57,-89 63,-89 63,-89 319,-89 319,-89 325,-89 331,-95 331,-101 331,-101 331,-145 331,-145 331,-151 325,-157 319,-157\"/>\n<text text-anchor=\"middle\" x=\"191\" y=\"-141.8\" font-family=\"Helvetica,sans-Serif\" font-size=\"14.00\" fill=\"#000000\">extraction_type_class_rope pump &lt;= 0.5</text>\n<text text-anchor=\"middle\" x=\"191\" y=\"-126.8\" font-family=\"Helvetica,sans-Serif\" font-size=\"14.00\" fill=\"#000000\">samples = 28.5%</text>\n<text text-anchor=\"middle\" x=\"191\" y=\"-111.8\" font-family=\"Helvetica,sans-Serif\" font-size=\"14.00\" fill=\"#000000\">value = [0.631, 0.059, 0.31]</text>\n<text text-anchor=\"middle\" x=\"191\" y=\"-96.8\" font-family=\"Helvetica,sans-Serif\" font-size=\"14.00\" fill=\"#000000\">class = functional</text>\n</g>\n<!-- 4&#45;&gt;5 -->\n<g id=\"edge5\" class=\"edge\">\n<title>4&#45;&gt;5</title>\n<path fill=\"none\" stroke=\"#000000\" d=\"M277.7606,-192.9465C266.0669,-183.519 253.2606,-173.1946 241.163,-163.4415\"/>\n<polygon fill=\"#000000\" stroke=\"#000000\" points=\"243.3162,-160.6816 233.3343,-157.13 238.9227,-166.1312 243.3162,-160.6816\"/>\n</g>\n<!-- 8 -->\n<g id=\"node9\" class=\"node\">\n<title>8</title>\n<path fill=\"#f8f3fd\" stroke=\"#000000\" d=\"M537,-149.5C537,-149.5 361,-149.5 361,-149.5 355,-149.5 349,-143.5 349,-137.5 349,-137.5 349,-108.5 349,-108.5 349,-102.5 355,-96.5 361,-96.5 361,-96.5 537,-96.5 537,-96.5 543,-96.5 549,-102.5 549,-108.5 549,-108.5 549,-137.5 549,-137.5 549,-143.5 543,-149.5 537,-149.5\"/>\n<text text-anchor=\"middle\" x=\"449\" y=\"-134.3\" font-family=\"Helvetica,sans-Serif\" font-size=\"14.00\" fill=\"#000000\">samples = 0.2%</text>\n<text text-anchor=\"middle\" x=\"449\" y=\"-119.3\" font-family=\"Helvetica,sans-Serif\" font-size=\"14.00\" fill=\"#000000\">value = [0.452, 0.065, 0.484]</text>\n<text text-anchor=\"middle\" x=\"449\" y=\"-104.3\" font-family=\"Helvetica,sans-Serif\" font-size=\"14.00\" fill=\"#000000\">class = non functional</text>\n</g>\n<!-- 4&#45;&gt;8 -->\n<g id=\"edge8\" class=\"edge\">\n<title>4&#45;&gt;8</title>\n<path fill=\"none\" stroke=\"#000000\" d=\"M362.2394,-192.9465C376.9952,-181.0504 393.5225,-167.726 408.162,-155.9237\"/>\n<polygon fill=\"#000000\" stroke=\"#000000\" points=\"410.4891,-158.5433 416.0775,-149.5422 406.0957,-153.0938 410.4891,-158.5433\"/>\n</g>\n<!-- 6 -->\n<g id=\"node7\" class=\"node\">\n<title>6</title>\n<path fill=\"#f3c5a3\" stroke=\"#000000\" d=\"M164,-53C164,-53 12,-53 12,-53 6,-53 0,-47 0,-41 0,-41 0,-12 0,-12 0,-6 6,0 12,0 12,0 164,0 164,0 170,0 176,-6 176,-12 176,-12 176,-41 176,-41 176,-47 170,-53 164,-53\"/>\n<text text-anchor=\"middle\" x=\"88\" y=\"-37.8\" font-family=\"Helvetica,sans-Serif\" font-size=\"14.00\" fill=\"#000000\">samples = 27.7%</text>\n<text text-anchor=\"middle\" x=\"88\" y=\"-22.8\" font-family=\"Helvetica,sans-Serif\" font-size=\"14.00\" fill=\"#000000\">value = [0.63, 0.06, 0.31]</text>\n<text text-anchor=\"middle\" x=\"88\" y=\"-7.8\" font-family=\"Helvetica,sans-Serif\" font-size=\"14.00\" fill=\"#000000\">class = functional</text>\n</g>\n<!-- 5&#45;&gt;6 -->\n<g id=\"edge6\" class=\"edge\">\n<title>5&#45;&gt;6</title>\n<path fill=\"none\" stroke=\"#000000\" d=\"M154.6861,-88.9777C144.7168,-79.6376 133.9138,-69.5163 123.9643,-60.1947\"/>\n<polygon fill=\"#000000\" stroke=\"#000000\" points=\"126.2408,-57.5314 116.5502,-53.2485 121.4548,-62.6397 126.2408,-57.5314\"/>\n</g>\n<!-- 7 -->\n<g id=\"node8\" class=\"node\">\n<title>7</title>\n<path fill=\"#f2bf9b\" stroke=\"#000000\" d=\"M382,-53C382,-53 206,-53 206,-53 200,-53 194,-47 194,-41 194,-41 194,-12 194,-12 194,-6 200,0 206,0 206,0 382,0 382,0 388,0 394,-6 394,-12 394,-12 394,-41 394,-41 394,-47 388,-53 382,-53\"/>\n<text text-anchor=\"middle\" x=\"294\" y=\"-37.8\" font-family=\"Helvetica,sans-Serif\" font-size=\"14.00\" fill=\"#000000\">samples = 0.7%</text>\n<text text-anchor=\"middle\" x=\"294\" y=\"-22.8\" font-family=\"Helvetica,sans-Serif\" font-size=\"14.00\" fill=\"#000000\">value = [0.657, 0.037, 0.306]</text>\n<text text-anchor=\"middle\" x=\"294\" y=\"-7.8\" font-family=\"Helvetica,sans-Serif\" font-size=\"14.00\" fill=\"#000000\">class = functional</text>\n</g>\n<!-- 5&#45;&gt;7 -->\n<g id=\"edge7\" class=\"edge\">\n<title>5&#45;&gt;7</title>\n<path fill=\"none\" stroke=\"#000000\" d=\"M227.3139,-88.9777C237.2832,-79.6376 248.0862,-69.5163 258.0357,-60.1947\"/>\n<polygon fill=\"#000000\" stroke=\"#000000\" points=\"260.5452,-62.6397 265.4498,-53.2485 255.7592,-57.5314 260.5452,-62.6397\"/>\n</g>\n</g>\n</svg>\n"
          },
          "metadata": {
            "tags": []
          }
        }
      ]
    },
    {
      "cell_type": "markdown",
      "metadata": {
        "id": "QUd6gzcZgLVz"
      },
      "source": [
        "### [Ordinal Encoding](https://contrib.scikit-learn.org/category_encoders/ordinal.html)\n",
        "\n",
        "> Ordinal encoding uses a single column of integers to represent the classes. An optional mapping dict can be passed in; in this case, we use the knowledge that there is some true order to the classes themselves. Otherwise, the classes are assumed to have no true order and integers are selected at random."
      ]
    },
    {
      "cell_type": "code",
      "metadata": {
        "colab": {
          "base_uri": "https://localhost:8080/",
          "height": 686
        },
        "id": "CnBz2RbwgLVz",
        "outputId": "ad391296-01ef-43b0-f9bb-4f477a505b59"
      },
      "source": [
        "encoder = ce.OrdinalEncoder()\n",
        "encoded = encoder.fit_transform(X_train[[feature]])\n",
        "print(f'1 column, {encoded[feature].nunique()} unique values')\n",
        "encoded.head(20)"
      ],
      "execution_count": 29,
      "outputs": [
        {
          "output_type": "stream",
          "text": [
            "1 column, 7 unique values\n"
          ],
          "name": "stdout"
        },
        {
          "output_type": "execute_result",
          "data": {
            "text/html": [
              "<div>\n",
              "<style scoped>\n",
              "    .dataframe tbody tr th:only-of-type {\n",
              "        vertical-align: middle;\n",
              "    }\n",
              "\n",
              "    .dataframe tbody tr th {\n",
              "        vertical-align: top;\n",
              "    }\n",
              "\n",
              "    .dataframe thead th {\n",
              "        text-align: right;\n",
              "    }\n",
              "</style>\n",
              "<table border=\"1\" class=\"dataframe\">\n",
              "  <thead>\n",
              "    <tr style=\"text-align: right;\">\n",
              "      <th></th>\n",
              "      <th>extraction_type_class</th>\n",
              "    </tr>\n",
              "  </thead>\n",
              "  <tbody>\n",
              "    <tr>\n",
              "      <th>43360</th>\n",
              "      <td>1</td>\n",
              "    </tr>\n",
              "    <tr>\n",
              "      <th>7263</th>\n",
              "      <td>1</td>\n",
              "    </tr>\n",
              "    <tr>\n",
              "      <th>2486</th>\n",
              "      <td>2</td>\n",
              "    </tr>\n",
              "    <tr>\n",
              "      <th>313</th>\n",
              "      <td>3</td>\n",
              "    </tr>\n",
              "    <tr>\n",
              "      <th>52726</th>\n",
              "      <td>4</td>\n",
              "    </tr>\n",
              "    <tr>\n",
              "      <th>8558</th>\n",
              "      <td>1</td>\n",
              "    </tr>\n",
              "    <tr>\n",
              "      <th>2559</th>\n",
              "      <td>1</td>\n",
              "    </tr>\n",
              "    <tr>\n",
              "      <th>54735</th>\n",
              "      <td>4</td>\n",
              "    </tr>\n",
              "    <tr>\n",
              "      <th>25763</th>\n",
              "      <td>2</td>\n",
              "    </tr>\n",
              "    <tr>\n",
              "      <th>44540</th>\n",
              "      <td>5</td>\n",
              "    </tr>\n",
              "    <tr>\n",
              "      <th>28603</th>\n",
              "      <td>3</td>\n",
              "    </tr>\n",
              "    <tr>\n",
              "      <th>4372</th>\n",
              "      <td>5</td>\n",
              "    </tr>\n",
              "    <tr>\n",
              "      <th>30666</th>\n",
              "      <td>1</td>\n",
              "    </tr>\n",
              "    <tr>\n",
              "      <th>6431</th>\n",
              "      <td>5</td>\n",
              "    </tr>\n",
              "    <tr>\n",
              "      <th>57420</th>\n",
              "      <td>3</td>\n",
              "    </tr>\n",
              "    <tr>\n",
              "      <th>1373</th>\n",
              "      <td>1</td>\n",
              "    </tr>\n",
              "    <tr>\n",
              "      <th>2026</th>\n",
              "      <td>1</td>\n",
              "    </tr>\n",
              "    <tr>\n",
              "      <th>58977</th>\n",
              "      <td>2</td>\n",
              "    </tr>\n",
              "    <tr>\n",
              "      <th>41101</th>\n",
              "      <td>1</td>\n",
              "    </tr>\n",
              "    <tr>\n",
              "      <th>10019</th>\n",
              "      <td>1</td>\n",
              "    </tr>\n",
              "  </tbody>\n",
              "</table>\n",
              "</div>"
            ],
            "text/plain": [
              "       extraction_type_class\n",
              "43360                      1\n",
              "7263                       1\n",
              "2486                       2\n",
              "313                        3\n",
              "52726                      4\n",
              "8558                       1\n",
              "2559                       1\n",
              "54735                      4\n",
              "25763                      2\n",
              "44540                      5\n",
              "28603                      3\n",
              "4372                       5\n",
              "30666                      1\n",
              "6431                       5\n",
              "57420                      3\n",
              "1373                       1\n",
              "2026                       1\n",
              "58977                      2\n",
              "41101                      1\n",
              "10019                      1"
            ]
          },
          "metadata": {
            "tags": []
          },
          "execution_count": 29
        }
      ]
    },
    {
      "cell_type": "markdown",
      "metadata": {
        "id": "Nd-ZWprasqUM"
      },
      "source": [
        "#### Ordinal Encoding, Logistic Regression, Validation Accuracy"
      ]
    },
    {
      "cell_type": "code",
      "metadata": {
        "colab": {
          "base_uri": "https://localhost:8080/"
        },
        "id": "GJ1YpwjvrhfL",
        "outputId": "2c97e8ba-6899-4754-c984-50eda32c3f86"
      },
      "source": [
        "lr = make_pipeline(\n",
        "    ce.OrdinalEncoder(), \n",
        "    SimpleImputer(), \n",
        "    StandardScaler(), \n",
        "    LogisticRegressionCV(multi_class='auto', solver='lbfgs', cv=5, n_jobs=-1)\n",
        ")\n",
        "\n",
        "lr.fit(X_train[[feature]], y_train)\n",
        "score = lr.score(X_val[[feature]], y_val)\n",
        "print('Logistic Regression, Validation Accuracy', score)"
      ],
      "execution_count": 30,
      "outputs": [
        {
          "output_type": "stream",
          "text": [
            "Logistic Regression, Validation Accuracy 0.5417508417508418\n"
          ],
          "name": "stdout"
        }
      ]
    },
    {
      "cell_type": "markdown",
      "metadata": {
        "id": "9lO_R3SksuHs"
      },
      "source": [
        "#### Ordinal Encoding, Decision Tree, Validation Accuracy"
      ]
    },
    {
      "cell_type": "code",
      "metadata": {
        "colab": {
          "base_uri": "https://localhost:8080/"
        },
        "id": "aOELD_roriVI",
        "outputId": "c4e00a8f-40dc-4a88-a93f-17d76cbcb5bb"
      },
      "source": [
        "dt = make_pipeline(\n",
        "    ce.OrdinalEncoder(), \n",
        "    SimpleImputer(), \n",
        "    DecisionTreeClassifier(random_state=42)\n",
        ")\n",
        "\n",
        "dt.fit(X_train[[feature]], y_train)\n",
        "score = dt.score(X_val[[feature]], y_val)\n",
        "print('Decision Tree, Validation Accuracy', score)"
      ],
      "execution_count": 31,
      "outputs": [
        {
          "output_type": "stream",
          "text": [
            "Decision Tree, Validation Accuracy 0.6202861952861953\n"
          ],
          "name": "stdout"
        }
      ]
    },
    {
      "cell_type": "markdown",
      "metadata": {
        "id": "7V2zHjiwswTg"
      },
      "source": [
        "#### Ordinal Encoding, Logistic Regression, Model Interpretation"
      ]
    },
    {
      "cell_type": "code",
      "metadata": {
        "colab": {
          "base_uri": "https://localhost:8080/",
          "height": 265
        },
        "id": "S9UPYPois8QR",
        "outputId": "e8d1dac9-b8c8-4067-f102-a69ae6638c8c"
      },
      "source": [
        "model = lr.named_steps['logisticregressioncv']\n",
        "encoder = lr.named_steps['ordinalencoder']\n",
        "encoded_columns = encoder.transform(X_val[[feature]]).columns\n",
        "coefficients = pd.Series(model.coef_[0], encoded_columns)\n",
        "coefficients.sort_values().plot.barh(color='grey');"
      ],
      "execution_count": 32,
      "outputs": [
        {
          "output_type": "display_data",
          "data": {
            "image/png": "[encoded data removed]",
            "text/plain": [
              "<Figure size 432x288 with 1 Axes>"
            ]
          },
          "metadata": {
            "tags": [],
            "needs_background": "light"
          }
        }
      ]
    },
    {
      "cell_type": "markdown",
      "metadata": {
        "id": "MvmmvE8fsymh"
      },
      "source": [
        "#### Ordinal Encoding, Decision Tree, Model Interpretation"
      ]
    },
    {
      "cell_type": "code",
      "metadata": {
        "colab": {
          "base_uri": "https://localhost:8080/",
          "height": 816
        },
        "id": "jCvUu4Oms88b",
        "outputId": "3cc69b0d-7983-4630-c193-df804c83f83a"
      },
      "source": [
        "model = dt.named_steps['decisiontreeclassifier']\n",
        "encoder = dt.named_steps['ordinalencoder']\n",
        "encoded_columns = encoder.transform(X_val[[feature]]).columns\n",
        "\n",
        "dot_data = export_graphviz(model, \n",
        "                           out_file=None, \n",
        "                           max_depth=5, \n",
        "                           feature_names=encoded_columns,\n",
        "                           class_names=model.classes_, \n",
        "                           impurity=False, \n",
        "                           filled=True, \n",
        "                           proportion=True, \n",
        "                           rounded=True)   \n",
        "display(graphviz.Source(dot_data))"
      ],
      "execution_count": 33,
      "outputs": [
        {
          "output_type": "display_data",
          "data": {
            "text/plain": [
              "<graphviz.files.Source at 0x7fcd147e5e48>"
            ],
            "image/svg+xml": "<?xml version=\"1.0\" encoding=\"UTF-8\" standalone=\"no\"?>\n<!DOCTYPE svg PUBLIC \"-//W3C//DTD SVG 1.1//EN\"\n \"http://www.w3.org/Graphics/SVG/1.1/DTD/svg11.dtd\">\n<!-- Generated by graphviz version 2.40.1 (20161225.0304)\n -->\n<!-- Title: Tree Pages: 1 -->\n<svg width=\"1167pt\" height=\"581pt\"\n viewBox=\"0.00 0.00 1167.00 581.00\" xmlns=\"http://www.w3.org/2000/svg\" xmlns:xlink=\"http://www.w3.org/1999/xlink\">\n<g id=\"graph0\" class=\"graph\" transform=\"scale(1 1) rotate(0) translate(4 577)\">\n<title>Tree</title>\n<polygon fill=\"#ffffff\" stroke=\"transparent\" points=\"-4,4 -4,-577 1163,-577 1163,4 -4,4\"/>\n<!-- 0 -->\n<g id=\"node1\" class=\"node\">\n<title>0</title>\n<path fill=\"#f8decc\" stroke=\"#000000\" d=\"M500,-573C500,-573 322,-573 322,-573 316,-573 310,-567 310,-561 310,-561 310,-517 310,-517 310,-511 316,-505 322,-505 322,-505 500,-505 500,-505 506,-505 512,-511 512,-517 512,-517 512,-561 512,-561 512,-567 506,-573 500,-573\"/>\n<text text-anchor=\"middle\" x=\"411\" y=\"-557.8\" font-family=\"Helvetica,sans-Serif\" font-size=\"14.00\" fill=\"#000000\">extraction_type_class &lt;= 2.5</text>\n<text text-anchor=\"middle\" x=\"411\" y=\"-542.8\" font-family=\"Helvetica,sans-Serif\" font-size=\"14.00\" fill=\"#000000\">samples = 100.0%</text>\n<text text-anchor=\"middle\" x=\"411\" y=\"-527.8\" font-family=\"Helvetica,sans-Serif\" font-size=\"14.00\" fill=\"#000000\">value = [0.543, 0.073, 0.384]</text>\n<text text-anchor=\"middle\" x=\"411\" y=\"-512.8\" font-family=\"Helvetica,sans-Serif\" font-size=\"14.00\" fill=\"#000000\">class = functional</text>\n</g>\n<!-- 1 -->\n<g id=\"node2\" class=\"node\">\n<title>1</title>\n<path fill=\"#f4c7a8\" stroke=\"#000000\" d=\"M390,-469C390,-469 212,-469 212,-469 206,-469 200,-463 200,-457 200,-457 200,-413 200,-413 200,-407 206,-401 212,-401 212,-401 390,-401 390,-401 396,-401 402,-407 402,-413 402,-413 402,-457 402,-457 402,-463 396,-469 390,-469\"/>\n<text text-anchor=\"middle\" x=\"301\" y=\"-453.8\" font-family=\"Helvetica,sans-Serif\" font-size=\"14.00\" fill=\"#000000\">extraction_type_class &lt;= 1.5</text>\n<text text-anchor=\"middle\" x=\"301\" y=\"-438.8\" font-family=\"Helvetica,sans-Serif\" font-size=\"14.00\" fill=\"#000000\">samples = 72.9%</text>\n<text text-anchor=\"middle\" x=\"301\" y=\"-423.8\" font-family=\"Helvetica,sans-Serif\" font-size=\"14.00\" fill=\"#000000\">value = [0.611, 0.085, 0.304]</text>\n<text text-anchor=\"middle\" x=\"301\" y=\"-408.8\" font-family=\"Helvetica,sans-Serif\" font-size=\"14.00\" fill=\"#000000\">class = functional</text>\n</g>\n<!-- 0&#45;&gt;1 -->\n<g id=\"edge1\" class=\"edge\">\n<title>0&#45;&gt;1</title>\n<path fill=\"none\" stroke=\"#000000\" d=\"M374.9819,-504.9465C365.2954,-495.7884 354.7136,-485.7838 344.6603,-476.2788\"/>\n<polygon fill=\"#000000\" stroke=\"#000000\" points=\"346.7701,-473.4569 337.099,-469.13 341.961,-478.5434 346.7701,-473.4569\"/>\n<text text-anchor=\"middle\" x=\"337.7997\" y=\"-490.4202\" font-family=\"Helvetica,sans-Serif\" font-size=\"14.00\" fill=\"#000000\">True</text>\n</g>\n<!-- 4 -->\n<g id=\"node5\" class=\"node\">\n<title>4</title>\n<path fill=\"#d0b4f5\" stroke=\"#000000\" d=\"M610,-469C610,-469 432,-469 432,-469 426,-469 420,-463 420,-457 420,-457 420,-413 420,-413 420,-407 426,-401 432,-401 432,-401 610,-401 610,-401 616,-401 622,-407 622,-413 622,-413 622,-457 622,-457 622,-463 616,-469 610,-469\"/>\n<text text-anchor=\"middle\" x=\"521\" y=\"-453.8\" font-family=\"Helvetica,sans-Serif\" font-size=\"14.00\" fill=\"#000000\">extraction_type_class &lt;= 3.5</text>\n<text text-anchor=\"middle\" x=\"521\" y=\"-438.8\" font-family=\"Helvetica,sans-Serif\" font-size=\"14.00\" fill=\"#000000\">samples = 27.1%</text>\n<text text-anchor=\"middle\" x=\"521\" y=\"-423.8\" font-family=\"Helvetica,sans-Serif\" font-size=\"14.00\" fill=\"#000000\">value = [0.361, 0.038, 0.601]</text>\n<text text-anchor=\"middle\" x=\"521\" y=\"-408.8\" font-family=\"Helvetica,sans-Serif\" font-size=\"14.00\" fill=\"#000000\">class = non functional</text>\n</g>\n<!-- 0&#45;&gt;4 -->\n<g id=\"edge4\" class=\"edge\">\n<title>0&#45;&gt;4</title>\n<path fill=\"none\" stroke=\"#000000\" d=\"M447.0181,-504.9465C456.7046,-495.7884 467.2864,-485.7838 477.3397,-476.2788\"/>\n<polygon fill=\"#000000\" stroke=\"#000000\" points=\"480.039,-478.5434 484.901,-469.13 475.2299,-473.4569 480.039,-478.5434\"/>\n<text text-anchor=\"middle\" x=\"484.2003\" y=\"-490.4202\" font-family=\"Helvetica,sans-Serif\" font-size=\"14.00\" fill=\"#000000\">False</text>\n</g>\n<!-- 2 -->\n<g id=\"node3\" class=\"node\">\n<title>2</title>\n<path fill=\"#f4c9aa\" stroke=\"#000000\" d=\"M188,-357.5C188,-357.5 12,-357.5 12,-357.5 6,-357.5 0,-351.5 0,-345.5 0,-345.5 0,-316.5 0,-316.5 0,-310.5 6,-304.5 12,-304.5 12,-304.5 188,-304.5 188,-304.5 194,-304.5 200,-310.5 200,-316.5 200,-316.5 200,-345.5 200,-345.5 200,-351.5 194,-357.5 188,-357.5\"/>\n<text text-anchor=\"middle\" x=\"100\" y=\"-342.3\" font-family=\"Helvetica,sans-Serif\" font-size=\"14.00\" fill=\"#000000\">samples = 45.1%</text>\n<text text-anchor=\"middle\" x=\"100\" y=\"-327.3\" font-family=\"Helvetica,sans-Serif\" font-size=\"14.00\" fill=\"#000000\">value = [0.599, 0.101, 0.299]</text>\n<text text-anchor=\"middle\" x=\"100\" y=\"-312.3\" font-family=\"Helvetica,sans-Serif\" font-size=\"14.00\" fill=\"#000000\">class = functional</text>\n</g>\n<!-- 1&#45;&gt;2 -->\n<g id=\"edge2\" class=\"edge\">\n<title>1&#45;&gt;2</title>\n<path fill=\"none\" stroke=\"#000000\" d=\"M235.1851,-400.9465C211.1292,-388.4997 184.0513,-374.4892 160.4827,-362.2946\"/>\n<polygon fill=\"#000000\" stroke=\"#000000\" points=\"161.7878,-359.0291 151.2978,-357.5422 158.571,-365.2462 161.7878,-359.0291\"/>\n</g>\n<!-- 3 -->\n<g id=\"node4\" class=\"node\">\n<title>3</title>\n<path fill=\"#f3c5a3\" stroke=\"#000000\" d=\"M382,-357.5C382,-357.5 230,-357.5 230,-357.5 224,-357.5 218,-351.5 218,-345.5 218,-345.5 218,-316.5 218,-316.5 218,-310.5 224,-304.5 230,-304.5 230,-304.5 382,-304.5 382,-304.5 388,-304.5 394,-310.5 394,-316.5 394,-316.5 394,-345.5 394,-345.5 394,-351.5 388,-357.5 382,-357.5\"/>\n<text text-anchor=\"middle\" x=\"306\" y=\"-342.3\" font-family=\"Helvetica,sans-Serif\" font-size=\"14.00\" fill=\"#000000\">samples = 27.7%</text>\n<text text-anchor=\"middle\" x=\"306\" y=\"-327.3\" font-family=\"Helvetica,sans-Serif\" font-size=\"14.00\" fill=\"#000000\">value = [0.63, 0.06, 0.31]</text>\n<text text-anchor=\"middle\" x=\"306\" y=\"-312.3\" font-family=\"Helvetica,sans-Serif\" font-size=\"14.00\" fill=\"#000000\">class = functional</text>\n</g>\n<!-- 1&#45;&gt;3 -->\n<g id=\"edge3\" class=\"edge\">\n<title>1&#45;&gt;3</title>\n<path fill=\"none\" stroke=\"#000000\" d=\"M302.6372,-400.9465C303.1509,-390.2621 303.7199,-378.4254 304.2416,-367.5742\"/>\n<polygon fill=\"#000000\" stroke=\"#000000\" points=\"307.7396,-367.6987 304.7239,-357.5422 300.7477,-367.3625 307.7396,-367.6987\"/>\n</g>\n<!-- 5 -->\n<g id=\"node6\" class=\"node\">\n<title>5</title>\n<path fill=\"#9d66eb\" stroke=\"#000000\" d=\"M601,-357.5C601,-357.5 433,-357.5 433,-357.5 427,-357.5 421,-351.5 421,-345.5 421,-345.5 421,-316.5 421,-316.5 421,-310.5 427,-304.5 433,-304.5 433,-304.5 601,-304.5 601,-304.5 607,-304.5 613,-310.5 613,-316.5 613,-316.5 613,-345.5 613,-345.5 613,-351.5 607,-357.5 601,-357.5\"/>\n<text text-anchor=\"middle\" x=\"517\" y=\"-342.3\" font-family=\"Helvetica,sans-Serif\" font-size=\"14.00\" fill=\"#000000\">samples = 10.9%</text>\n<text text-anchor=\"middle\" x=\"517\" y=\"-327.3\" font-family=\"Helvetica,sans-Serif\" font-size=\"14.00\" fill=\"#000000\">value = [0.159, 0.031, 0.81]</text>\n<text text-anchor=\"middle\" x=\"517\" y=\"-312.3\" font-family=\"Helvetica,sans-Serif\" font-size=\"14.00\" fill=\"#000000\">class = non functional</text>\n</g>\n<!-- 4&#45;&gt;5 -->\n<g id=\"edge5\" class=\"edge\">\n<title>4&#45;&gt;5</title>\n<path fill=\"none\" stroke=\"#000000\" d=\"M519.6903,-400.9465C519.2793,-390.2621 518.8241,-378.4254 518.4067,-367.5742\"/>\n<polygon fill=\"#000000\" stroke=\"#000000\" points=\"521.9027,-367.4002 518.0209,-357.5422 514.9079,-367.6693 521.9027,-367.4002\"/>\n</g>\n<!-- 6 -->\n<g id=\"node7\" class=\"node\">\n<title>6</title>\n<path fill=\"#fdf7f2\" stroke=\"#000000\" d=\"M821,-365C821,-365 643,-365 643,-365 637,-365 631,-359 631,-353 631,-353 631,-309 631,-309 631,-303 637,-297 643,-297 643,-297 821,-297 821,-297 827,-297 833,-303 833,-309 833,-309 833,-353 833,-353 833,-359 827,-365 821,-365\"/>\n<text text-anchor=\"middle\" x=\"732\" y=\"-349.8\" font-family=\"Helvetica,sans-Serif\" font-size=\"14.00\" fill=\"#000000\">extraction_type_class &lt;= 4.5</text>\n<text text-anchor=\"middle\" x=\"732\" y=\"-334.8\" font-family=\"Helvetica,sans-Serif\" font-size=\"14.00\" fill=\"#000000\">samples = 16.2%</text>\n<text text-anchor=\"middle\" x=\"732\" y=\"-319.8\" font-family=\"Helvetica,sans-Serif\" font-size=\"14.00\" fill=\"#000000\">value = [0.497, 0.043, 0.46]</text>\n<text text-anchor=\"middle\" x=\"732\" y=\"-304.8\" font-family=\"Helvetica,sans-Serif\" font-size=\"14.00\" fill=\"#000000\">class = functional</text>\n</g>\n<!-- 4&#45;&gt;6 -->\n<g id=\"edge6\" class=\"edge\">\n<title>4&#45;&gt;6</title>\n<path fill=\"none\" stroke=\"#000000\" d=\"M590.0893,-400.9465C610.4002,-390.9354 632.7633,-379.9129 653.6112,-369.6371\"/>\n<polygon fill=\"#000000\" stroke=\"#000000\" points=\"655.3332,-372.6905 662.7555,-365.13 652.2385,-366.4117 655.3332,-372.6905\"/>\n</g>\n<!-- 7 -->\n<g id=\"node8\" class=\"node\">\n<title>7</title>\n<path fill=\"#d8c1f7\" stroke=\"#000000\" d=\"M710,-253.5C710,-253.5 534,-253.5 534,-253.5 528,-253.5 522,-247.5 522,-241.5 522,-241.5 522,-212.5 522,-212.5 522,-206.5 528,-200.5 534,-200.5 534,-200.5 710,-200.5 710,-200.5 716,-200.5 722,-206.5 722,-212.5 722,-212.5 722,-241.5 722,-241.5 722,-247.5 716,-253.5 710,-253.5\"/>\n<text text-anchor=\"middle\" x=\"622\" y=\"-238.3\" font-family=\"Helvetica,sans-Serif\" font-size=\"14.00\" fill=\"#000000\">samples = 5.0%</text>\n<text text-anchor=\"middle\" x=\"622\" y=\"-223.3\" font-family=\"Helvetica,sans-Serif\" font-size=\"14.00\" fill=\"#000000\">value = [0.381, 0.045, 0.574]</text>\n<text text-anchor=\"middle\" x=\"622\" y=\"-208.3\" font-family=\"Helvetica,sans-Serif\" font-size=\"14.00\" fill=\"#000000\">class = non functional</text>\n</g>\n<!-- 6&#45;&gt;7 -->\n<g id=\"edge7\" class=\"edge\">\n<title>6&#45;&gt;7</title>\n<path fill=\"none\" stroke=\"#000000\" d=\"M695.9819,-296.9465C683.6325,-285.2707 669.8278,-272.219 657.5183,-260.5809\"/>\n<polygon fill=\"#000000\" stroke=\"#000000\" points=\"659.7445,-257.869 650.0734,-253.5422 654.9354,-262.9556 659.7445,-257.869\"/>\n</g>\n<!-- 8 -->\n<g id=\"node9\" class=\"node\">\n<title>8</title>\n<path fill=\"#f9e2d1\" stroke=\"#000000\" d=\"M930,-261C930,-261 752,-261 752,-261 746,-261 740,-255 740,-249 740,-249 740,-205 740,-205 740,-199 746,-193 752,-193 752,-193 930,-193 930,-193 936,-193 942,-199 942,-205 942,-205 942,-249 942,-249 942,-255 936,-261 930,-261\"/>\n<text text-anchor=\"middle\" x=\"841\" y=\"-245.8\" font-family=\"Helvetica,sans-Serif\" font-size=\"14.00\" fill=\"#000000\">extraction_type_class &lt;= 5.5</text>\n<text text-anchor=\"middle\" x=\"841\" y=\"-230.8\" font-family=\"Helvetica,sans-Serif\" font-size=\"14.00\" fill=\"#000000\">samples = 11.2%</text>\n<text text-anchor=\"middle\" x=\"841\" y=\"-215.8\" font-family=\"Helvetica,sans-Serif\" font-size=\"14.00\" fill=\"#000000\">value = [0.548, 0.042, 0.41]</text>\n<text text-anchor=\"middle\" x=\"841\" y=\"-200.8\" font-family=\"Helvetica,sans-Serif\" font-size=\"14.00\" fill=\"#000000\">class = functional</text>\n</g>\n<!-- 6&#45;&gt;8 -->\n<g id=\"edge8\" class=\"edge\">\n<title>6&#45;&gt;8</title>\n<path fill=\"none\" stroke=\"#000000\" d=\"M767.6907,-296.9465C777.2891,-287.7884 787.7747,-277.7838 797.7366,-268.2788\"/>\n<polygon fill=\"#000000\" stroke=\"#000000\" points=\"800.4102,-270.5655 805.2291,-261.13 795.5779,-265.5009 800.4102,-270.5655\"/>\n</g>\n<!-- 9 -->\n<g id=\"node10\" class=\"node\">\n<title>9</title>\n<path fill=\"#f9e4d5\" stroke=\"#000000\" d=\"M819,-149.5C819,-149.5 643,-149.5 643,-149.5 637,-149.5 631,-143.5 631,-137.5 631,-137.5 631,-108.5 631,-108.5 631,-102.5 637,-96.5 643,-96.5 643,-96.5 819,-96.5 819,-96.5 825,-96.5 831,-102.5 831,-108.5 831,-108.5 831,-137.5 831,-137.5 831,-143.5 825,-149.5 819,-149.5\"/>\n<text text-anchor=\"middle\" x=\"731\" y=\"-134.3\" font-family=\"Helvetica,sans-Serif\" font-size=\"14.00\" fill=\"#000000\">samples = 10.3%</text>\n<text text-anchor=\"middle\" x=\"731\" y=\"-119.3\" font-family=\"Helvetica,sans-Serif\" font-size=\"14.00\" fill=\"#000000\">value = [0.541, 0.042, 0.416]</text>\n<text text-anchor=\"middle\" x=\"731\" y=\"-104.3\" font-family=\"Helvetica,sans-Serif\" font-size=\"14.00\" fill=\"#000000\">class = functional</text>\n</g>\n<!-- 8&#45;&gt;9 -->\n<g id=\"edge9\" class=\"edge\">\n<title>8&#45;&gt;9</title>\n<path fill=\"none\" stroke=\"#000000\" d=\"M804.9819,-192.9465C792.6325,-181.2707 778.8278,-168.219 766.5183,-156.5809\"/>\n<polygon fill=\"#000000\" stroke=\"#000000\" points=\"768.7445,-153.869 759.0734,-149.5422 763.9354,-158.9556 768.7445,-153.869\"/>\n</g>\n<!-- 10 -->\n<g id=\"node11\" class=\"node\">\n<title>10</title>\n<path fill=\"#f4cbad\" stroke=\"#000000\" d=\"M1039,-157C1039,-157 861,-157 861,-157 855,-157 849,-151 849,-145 849,-145 849,-101 849,-101 849,-95 855,-89 861,-89 861,-89 1039,-89 1039,-89 1045,-89 1051,-95 1051,-101 1051,-101 1051,-145 1051,-145 1051,-151 1045,-157 1039,-157\"/>\n<text text-anchor=\"middle\" x=\"950\" y=\"-141.8\" font-family=\"Helvetica,sans-Serif\" font-size=\"14.00\" fill=\"#000000\">extraction_type_class &lt;= 6.5</text>\n<text text-anchor=\"middle\" x=\"950\" y=\"-126.8\" font-family=\"Helvetica,sans-Serif\" font-size=\"14.00\" fill=\"#000000\">samples = 0.9%</text>\n<text text-anchor=\"middle\" x=\"950\" y=\"-111.8\" font-family=\"Helvetica,sans-Serif\" font-size=\"14.00\" fill=\"#000000\">value = [0.614, 0.043, 0.343]</text>\n<text text-anchor=\"middle\" x=\"950\" y=\"-96.8\" font-family=\"Helvetica,sans-Serif\" font-size=\"14.00\" fill=\"#000000\">class = functional</text>\n</g>\n<!-- 8&#45;&gt;10 -->\n<g id=\"edge10\" class=\"edge\">\n<title>8&#45;&gt;10</title>\n<path fill=\"none\" stroke=\"#000000\" d=\"M876.6907,-192.9465C886.2891,-183.7884 896.7747,-173.7838 906.7366,-164.2788\"/>\n<polygon fill=\"#000000\" stroke=\"#000000\" points=\"909.4102,-166.5655 914.2291,-157.13 904.5779,-161.5009 909.4102,-166.5655\"/>\n</g>\n<!-- 11 -->\n<g id=\"node12\" class=\"node\">\n<title>11</title>\n<path fill=\"#f2bf9b\" stroke=\"#000000\" d=\"M929,-53C929,-53 753,-53 753,-53 747,-53 741,-47 741,-41 741,-41 741,-12 741,-12 741,-6 747,0 753,0 753,0 929,0 929,0 935,0 941,-6 941,-12 941,-12 941,-41 941,-41 941,-47 935,-53 929,-53\"/>\n<text text-anchor=\"middle\" x=\"841\" y=\"-37.8\" font-family=\"Helvetica,sans-Serif\" font-size=\"14.00\" fill=\"#000000\">samples = 0.7%</text>\n<text text-anchor=\"middle\" x=\"841\" y=\"-22.8\" font-family=\"Helvetica,sans-Serif\" font-size=\"14.00\" fill=\"#000000\">value = [0.657, 0.037, 0.306]</text>\n<text text-anchor=\"middle\" x=\"841\" y=\"-7.8\" font-family=\"Helvetica,sans-Serif\" font-size=\"14.00\" fill=\"#000000\">class = functional</text>\n</g>\n<!-- 10&#45;&gt;11 -->\n<g id=\"edge11\" class=\"edge\">\n<title>10&#45;&gt;11</title>\n<path fill=\"none\" stroke=\"#000000\" d=\"M911.5707,-88.9777C900.9173,-79.546 889.3641,-69.3178 878.7499,-59.9208\"/>\n<polygon fill=\"#000000\" stroke=\"#000000\" points=\"881.0207,-57.2566 871.2133,-53.2485 876.3806,-62.4978 881.0207,-57.2566\"/>\n</g>\n<!-- 12 -->\n<g id=\"node13\" class=\"node\">\n<title>12</title>\n<path fill=\"#f8f3fd\" stroke=\"#000000\" d=\"M1147,-53C1147,-53 971,-53 971,-53 965,-53 959,-47 959,-41 959,-41 959,-12 959,-12 959,-6 965,0 971,0 971,0 1147,0 1147,0 1153,0 1159,-6 1159,-12 1159,-12 1159,-41 1159,-41 1159,-47 1153,-53 1147,-53\"/>\n<text text-anchor=\"middle\" x=\"1059\" y=\"-37.8\" font-family=\"Helvetica,sans-Serif\" font-size=\"14.00\" fill=\"#000000\">samples = 0.2%</text>\n<text text-anchor=\"middle\" x=\"1059\" y=\"-22.8\" font-family=\"Helvetica,sans-Serif\" font-size=\"14.00\" fill=\"#000000\">value = [0.452, 0.065, 0.484]</text>\n<text text-anchor=\"middle\" x=\"1059\" y=\"-7.8\" font-family=\"Helvetica,sans-Serif\" font-size=\"14.00\" fill=\"#000000\">class = non functional</text>\n</g>\n<!-- 10&#45;&gt;12 -->\n<g id=\"edge12\" class=\"edge\">\n<title>10&#45;&gt;12</title>\n<path fill=\"none\" stroke=\"#000000\" d=\"M988.4293,-88.9777C999.0827,-79.546 1010.6359,-69.3178 1021.2501,-59.9208\"/>\n<polygon fill=\"#000000\" stroke=\"#000000\" points=\"1023.6194,-62.4978 1028.7867,-53.2485 1018.9793,-57.2566 1023.6194,-62.4978\"/>\n</g>\n</g>\n</svg>\n"
          },
          "metadata": {
            "tags": []
          }
        }
      ]
    },
    {
      "cell_type": "markdown",
      "metadata": {
        "id": "P4EJi2GvgLVa"
      },
      "source": [
        "# Understand how tree ensembles reduce overfitting compared to a single decision tree with unlimited depth"
      ]
    },
    {
      "cell_type": "markdown",
      "metadata": {
        "id": "k-BhEWMvIZVo"
      },
      "source": [
        "## Overview"
      ]
    },
    {
      "cell_type": "markdown",
      "metadata": {
        "id": "0nNABF3HgLVg"
      },
      "source": [
        "### What's \"random\" about random forests?\n",
        "1. Each tree trains on a random bootstrap sample of the data. (In scikit-learn, for `RandomForestRegressor` and `RandomForestClassifier`, the `bootstrap` parameter's default is `True`.) This type of ensembling is called Bagging. (Bootstrap AGGregatING.)\n",
        "2. Each split considers a random subset of the features. (In scikit-learn, when the `max_features` parameter is not `None`.) \n",
        "\n",
        "For extra randomness, you can try [\"extremely randomized trees\"](https://scikit-learn.org/stable/modules/ensemble.html#extremely-randomized-trees)!\n",
        "\n",
        ">In extremely randomized trees (see [ExtraTreesClassifier](https://scikit-learn.org/stable/modules/generated/sklearn.ensemble.ExtraTreesClassifier.html) and [ExtraTreesRegressor](https://scikit-learn.org/stable/modules/generated/sklearn.ensemble.ExtraTreesRegressor.html) classes), randomness goes one step further in the way splits are computed. As in random forests, a random subset of candidate features is used, but instead of looking for the most discriminative thresholds, thresholds are drawn at random for each candidate feature and the best of these randomly-generated thresholds is picked as the splitting rule. This usually allows to reduce the variance of the model a bit more, at the expense of a slightly greater increase in bias"
      ]
    },
    {
      "cell_type": "markdown",
      "metadata": {
        "id": "YzgHHluaIZVo"
      },
      "source": [
        "## Follow Along"
      ]
    },
    {
      "cell_type": "markdown",
      "metadata": {
        "id": "pUYP619CgLVb"
      },
      "source": [
        "### Example: [predicting golf putts](https://statmodeling.stat.columbia.edu/2008/12/04/the_golf_puttin/)\n",
        "(1 feature, non-linear, regression)"
      ]
    },
    {
      "cell_type": "code",
      "metadata": {
        "id": "b4640ukxgLVc"
      },
      "source": [
        "putts = pd.DataFrame(\n",
        "    columns=['distance', 'tries', 'successes'], \n",
        "    data = [[2, 1443, 1346],\n",
        "            [3, 694, 577],\n",
        "            [4, 455, 337],\n",
        "            [5, 353, 208],\n",
        "            [6, 272, 149],\n",
        "            [7, 256, 136],\n",
        "            [8, 240, 111],\n",
        "            [9, 217, 69],\n",
        "            [10, 200, 67],\n",
        "            [11, 237, 75],\n",
        "            [12, 202, 52],\n",
        "            [13, 192, 46],\n",
        "            [14, 174, 54],\n",
        "            [15, 167, 28],\n",
        "            [16, 201, 27],\n",
        "            [17, 195, 31],\n",
        "            [18, 191, 33],\n",
        "            [19, 147, 20],\n",
        "            [20, 152, 24]]\n",
        ")\n",
        "\n",
        "putts['rate of success'] = putts['successes'] / putts['tries']\n",
        "putts_X = putts[['distance']]\n",
        "putts_y = putts['rate of success']"
      ],
      "execution_count": 34,
      "outputs": []
    },
    {
      "cell_type": "code",
      "metadata": {
        "colab": {
          "base_uri": "https://localhost:8080/",
          "height": 637,
          "referenced_widgets": [
            "dd0bcaf8d7524781b5e18f0f4d190ccf",
            "4fb63b6a6c344e8dab98c109779eb4c7",
            "7ca4214f80024e04a76a808cfe08afd6",
            "88970b4b624443f2ba3317f9213cd723",
            "84aeb4afe260434bbf841bcda8a960e3",
            "7cd6eab0fde4422fbc465ac62b01e965",
            "dbb79443fdad405194d6ea494d3812a1",
            "919e3192e0d44019bdcf2aa1dbf02605",
            "8807801d3b9c4274ac98957a1749a4ec",
            "e02d3510cb0042dca28ee1c8ec449fea"
          ]
        },
        "id": "T0IpCcKggLVd",
        "outputId": "77ec8fd3-e046-4e0d-febd-6860d722de56"
      },
      "source": [
        "%matplotlib inline\n",
        "import matplotlib.pyplot as plt\n",
        "from ipywidgets import interact\n",
        "from sklearn.ensemble import RandomForestRegressor\n",
        "from sklearn.tree import DecisionTreeRegressor\n",
        "\n",
        "def putt_trees(max_depth=1, n_estimators=1):\n",
        "    models = [DecisionTreeRegressor(max_depth=max_depth), \n",
        "              RandomForestRegressor(max_depth=max_depth, n_estimators=n_estimators)]\n",
        "    \n",
        "    for model in models:\n",
        "        name = model.__class__.__name__\n",
        "        model.fit(putts_X, putts_y)\n",
        "        ax = putts.plot('distance', 'rate of success', kind='scatter', title=name)\n",
        "        ax.step(putts_X, model.predict(putts_X), where='mid')\n",
        "        plt.show()\n",
        "        \n",
        "interact(putt_trees, max_depth=(1,6,1), n_estimators=(10,40,10));"
      ],
      "execution_count": 35,
      "outputs": [
        {
          "output_type": "display_data",
          "data": {
            "application/vnd.jupyter.widget-view+json": {
              "model_id": "dd0bcaf8d7524781b5e18f0f4d190ccf",
              "version_minor": 0,
              "version_major": 2
            },
            "text/plain": [
              "interactive(children=(IntSlider(value=1, description='max_depth', max=6, min=1), IntSlider(value=10, descripti…"
            ]
          },
          "metadata": {
            "tags": []
          }
        }
      ]
    },
    {
      "cell_type": "markdown",
      "metadata": {
        "id": "rq4Z_wQ_gLVj"
      },
      "source": [
        "### Go back to Tanzania Waterpumps ..."
      ]
    },
    {
      "cell_type": "markdown",
      "metadata": {
        "id": "FoSE9iT6YXQz"
      },
      "source": [
        "#### Helper function to visualize predicted probabilities\n",
        "\n"
      ]
    },
    {
      "cell_type": "code",
      "metadata": {
        "id": "HzIAjGpJgLVj"
      },
      "source": [
        "import itertools\n",
        "import seaborn as sns\n",
        "\n",
        "def pred_heatmap(model, X, features, class_index=-1, title='', num=100):\n",
        "    \"\"\"\n",
        "    Visualize predicted probabilities, for classifier fit on 2 numeric features\n",
        "    \n",
        "    Parameters\n",
        "    ----------\n",
        "    model : scikit-learn classifier, already fit\n",
        "    X : pandas dataframe, which was used to fit model\n",
        "    features : list of strings, column names of the 2 numeric features\n",
        "    class_index : integer, index of class label\n",
        "    title : string, title of plot\n",
        "    num : int, number of grid points for each feature\n",
        "    \n",
        "    Returns\n",
        "    -------\n",
        "    y_pred_proba : numpy array, predicted probabilities for class_index\n",
        "    \"\"\"\n",
        "    feature1, feature2 = features\n",
        "    min1, max1 = X[feature1].min(), X[feature1].max()\n",
        "    min2, max2 = X[feature2].min(), X[feature2].max()\n",
        "    x1 = np.linspace(min1, max1, num)\n",
        "    x2 = np.linspace(max2, min2, num)\n",
        "    combos = list(itertools.product(x1, x2))\n",
        "    y_pred_proba = model.predict_proba(combos)[:, class_index]\n",
        "    pred_grid = y_pred_proba.reshape(num, num).T\n",
        "    table = pd.DataFrame(pred_grid, columns=x1, index=x2)\n",
        "    sns.heatmap(table, vmin=0, vmax=1)\n",
        "    plt.xticks([])\n",
        "    plt.yticks([])\n",
        "    plt.xlabel(feature1)\n",
        "    plt.ylabel(feature2)\n",
        "    plt.title(title)\n",
        "    plt.show()\n",
        "    return y_pred_proba\n"
      ],
      "execution_count": 36,
      "outputs": []
    },
    {
      "cell_type": "markdown",
      "metadata": {
        "id": "DiRfPqHjgLVl"
      },
      "source": [
        "### Compare Decision Tree, Random Forest, Logistic Regression"
      ]
    },
    {
      "cell_type": "code",
      "metadata": {
        "colab": {
          "base_uri": "https://localhost:8080/",
          "height": 864,
          "referenced_widgets": [
            "cb71315059a340b296951125cf90a7c6",
            "39e7ea4688ea40aa9a85c73f4f2cc023",
            "98536aef47a84c65bae01c9b3fb767e5",
            "0ec0c5e349794a19abd06b14ef2076e2",
            "d52b98fa8d054ff0a09a70ba879593b7",
            "2bb5de89695e44c5829b6d4cb1822822",
            "f5099bb19f894fde99476fb5d117e406",
            "663bfd51b4af42d08bc32d1109f00065",
            "f54189c49db041488108995aeb3a74d9",
            "420ee06eafa4477eaff917470ae0b491"
          ]
        },
        "id": "HKkMLXhMgLVl",
        "outputId": "e11d8a6f-7d60-4c0c-964a-e033fa96f156"
      },
      "source": [
        "# Instructions\n",
        "# 1. Choose two features\n",
        "# 2. Run this code cell\n",
        "# 3. Interact with the widget sliders\n",
        "feature1 = 'longitude'\n",
        "feature2 = 'quantity'\n",
        "\n",
        "from sklearn.linear_model import LogisticRegression\n",
        "from sklearn.tree import DecisionTreeClassifier\n",
        "\n",
        "def get_X_y(df, feature1, feature2, target):\n",
        "    features = [feature1, feature2]\n",
        "    X = df[features]\n",
        "    y = df[target]\n",
        "    X = X.fillna(X.median())\n",
        "    X = ce.OrdinalEncoder().fit_transform(X)\n",
        "    return X, y\n",
        "\n",
        "def compare_models(max_depth=1, n_estimators=1):\n",
        "    models = [DecisionTreeClassifier(max_depth=max_depth), \n",
        "              RandomForestClassifier(max_depth=max_depth, n_estimators=n_estimators), \n",
        "              LogisticRegression(solver='lbfgs', multi_class='auto')]\n",
        "    \n",
        "    for model in models:\n",
        "        name = model.__class__.__name__\n",
        "        model.fit(X, y)\n",
        "        pred_heatmap(model, X, [feature1, feature2], class_index=0, title=name)\n",
        "\n",
        "X, y = get_X_y(train, feature1, feature2, target='status_group')\n",
        "interact(compare_models, max_depth=(1,6,1), n_estimators=(10,40,10));"
      ],
      "execution_count": 37,
      "outputs": [
        {
          "output_type": "display_data",
          "data": {
            "application/vnd.jupyter.widget-view+json": {
              "model_id": "cb71315059a340b296951125cf90a7c6",
              "version_minor": 0,
              "version_major": 2
            },
            "text/plain": [
              "interactive(children=(IntSlider(value=1, description='max_depth', max=6, min=1), IntSlider(value=10, descripti…"
            ]
          },
          "metadata": {
            "tags": []
          }
        }
      ]
    },
    {
      "cell_type": "markdown",
      "metadata": {
        "id": "hOQqjLEDgLVn"
      },
      "source": [
        "### Bagging"
      ]
    },
    {
      "cell_type": "code",
      "metadata": {
        "colab": {
          "base_uri": "https://localhost:8080/",
          "height": 864,
          "referenced_widgets": [
            "31bf5a48bf16417aa4fc217d002e5ef9",
            "ffbe0ab467fa4e068470d9a062249ffd",
            "7253d1a2ecf84740b2bbea493048a8e0",
            "b062c4359cc94237b753f0379fbdb7f9",
            "eb8c64caf2b648748b662ae41de70b64",
            "2fdcfbdf88f64008a89f5b8e8d19c834",
            "613ae438f4404d509ca0f7644df78f6c",
            "93dde8f1f4584fdca561da64dea73185",
            "399c38c192ba42ecaa8255089d2c2701",
            "b31604fddaf24b8f8bdc4796d36d985b"
          ]
        },
        "id": "Hm4aPgs2gLVn",
        "outputId": "c0ec18a3-2f9b-485f-a25e-13501adb14a8"
      },
      "source": [
        "# Do-it-yourself Bagging Ensemble of Decision Trees (like a Random Forest)\n",
        "\n",
        "# Instructions\n",
        "# 1. Choose two features\n",
        "# 2. Run this code cell\n",
        "# 3. Interact with the widget sliders\n",
        "\n",
        "feature1 = 'longitude'\n",
        "feature2 = 'latitude'\n",
        "\n",
        "def waterpumps_bagging(max_depth=1, n_estimators=1):\n",
        "    predicteds = []\n",
        "    for i in range(n_estimators):\n",
        "        title = f'Tree {i+1}'\n",
        "        bootstrap_sample = train.sample(n=len(train), replace=True)\n",
        "        X, y = get_X_y(bootstrap_sample, feature1, feature2, target='status_group')\n",
        "        tree = DecisionTreeClassifier(max_depth=max_depth)\n",
        "        tree.fit(X, y)\n",
        "        predicted = pred_heatmap(tree, X, [feature1, feature2], class_index=0, title=title)\n",
        "        predicteds.append(predicted)\n",
        "    \n",
        "    ensembled = np.vstack(predicteds).mean(axis=0)\n",
        "    title = f'Ensemble of {n_estimators} trees, with max_depth={max_depth}'\n",
        "    sns.heatmap(ensembled.reshape(100, 100).T, vmin=0, vmax=1)\n",
        "    plt.title(title)\n",
        "    plt.xlabel(feature1)\n",
        "    plt.ylabel(feature2)\n",
        "    plt.xticks([])\n",
        "    plt.yticks([])\n",
        "    plt.show()\n",
        "        \n",
        "interact(waterpumps_bagging, max_depth=(1,6,1), n_estimators=(2,5,1));"
      ],
      "execution_count": 38,
      "outputs": [
        {
          "output_type": "display_data",
          "data": {
            "application/vnd.jupyter.widget-view+json": {
              "model_id": "31bf5a48bf16417aa4fc217d002e5ef9",
              "version_minor": 0,
              "version_major": 2
            },
            "text/plain": [
              "interactive(children=(IntSlider(value=1, description='max_depth', max=6, min=1), IntSlider(value=2, descriptio…"
            ]
          },
          "metadata": {
            "tags": []
          }
        }
      ]
    },
    {
      "cell_type": "markdown",
      "metadata": {
        "id": "wYoSBi15akWP"
      },
      "source": [
        "# Review\n",
        "\n",
        "#### Try Tree Ensembles when you do machine learning with labeled, tabular data\n",
        "- \"Tree Ensembles\" means Random Forest or Gradient Boosting models. \n",
        "- [Tree Ensembles often have the best predictive accuracy](https://arxiv.org/abs/1708.05070) with labeled, tabular data.\n",
        "- Why? Because trees can fit non-linear, non-[monotonic](https://en.wikipedia.org/wiki/Monotonic_function) relationships, and [interactions](https://christophm.github.io/interpretable-ml-book/interaction.html) between features.\n",
        "- A single decision tree, grown to unlimited depth, will [overfit](http://www.r2d3.us/visual-intro-to-machine-learning-part-1/). We solve this problem by ensembling trees, with bagging (Random Forest) or boosting (Gradient Boosting).\n",
        "- Random Forest's advantage: may be less sensitive to hyperparameters. Gradient Boosting's advantage: may get better predictive accuracy.\n",
        "\n",
        "#### One-hot encoding isn’t the only way, and may not be the best way, of categorical encoding for tree ensembles.\n",
        "- For example, tree ensembles can work with arbitrary \"ordinal\" encoding! (Randomly assigning an integer to each category.) Compared to one-hot encoding, the dimensionality will be lower, and the predictive accuracy may be just as good or even better.\n"
      ]
    }
  ]
}