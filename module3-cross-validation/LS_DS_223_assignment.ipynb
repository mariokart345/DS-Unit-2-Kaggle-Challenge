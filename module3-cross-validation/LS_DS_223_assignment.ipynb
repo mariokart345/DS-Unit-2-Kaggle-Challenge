{
  "nbformat": 4,
  "nbformat_minor": 0,
  "metadata": {
    "colab": {
      "name": "LS_DS_223_assignment.ipynb",
      "provenance": [],
      "include_colab_link": true
    },
    "kernelspec": {
      "display_name": "Python 3",
      "language": "python",
      "name": "python3"
    },
    "language_info": {
      "codemirror_mode": {
        "name": "ipython",
        "version": 3
      },
      "file_extension": ".py",
      "mimetype": "text/x-python",
      "name": "python",
      "nbconvert_exporter": "python",
      "pygments_lexer": "ipython3",
      "version": "3.8.5"
    }
  },
  "cells": [
    {
      "cell_type": "markdown",
      "metadata": {
        "id": "view-in-github",
        "colab_type": "text"
      },
      "source": [
        "<a href=\"https://colab.research.google.com/github/mariokart345/DS-Unit-2-Kaggle-Challenge/blob/master/module3-cross-validation/LS_DS_223_assignment.ipynb\" target=\"_parent\"><img src=\"https://colab.research.google.com/assets/colab-badge.svg\" alt=\"Open In Colab\"/></a>"
      ]
    },
    {
      "cell_type": "markdown",
      "metadata": {
        "id": "rYQ3HP7oaIQk"
      },
      "source": [
        "Lambda School Data Science\n",
        "\n",
        "*Unit 2, Sprint 2, Module 3*\n",
        "\n",
        "---"
      ]
    },
    {
      "cell_type": "markdown",
      "metadata": {
        "id": "DY4o4eYtaIQp"
      },
      "source": [
        "# Cross-Validation\n",
        "\n",
        "\n",
        "## Assignment\n",
        "- [ ] [Review requirements for your portfolio project](https://lambdaschool.github.io/ds/unit2), then submit your dataset.\n",
        "- [ ] Continue to participate in our Kaggle challenge. \n",
        "- [ ] Use scikit-learn for hyperparameter optimization with RandomizedSearchCV.\n",
        "- [ ] Submit your predictions to our Kaggle competition. (Go to our Kaggle InClass competition webpage. Use the blue **Submit Predictions** button to upload your CSV file. Or you can use the Kaggle API to submit your predictions.)\n",
        "- [ ] Commit your notebook to your fork of the GitHub repo.\n",
        "\n",
        "\n",
        "**You can't just copy** from the lesson notebook to this assignment.\n",
        "\n",
        "- Because the lesson was **regression**, but the assignment is **classification.**\n",
        "- Because the lesson used [TargetEncoder](https://contrib.scikit-learn.org/categorical-encoding/targetencoder.html), which doesn't work as-is for _multi-class_ classification.\n",
        "\n",
        "So you will have to adapt the example, which is good real-world practice.\n",
        "\n",
        "1. Use a model for classification, such as [RandomForestClassifier](https://scikit-learn.org/stable/modules/generated/sklearn.ensemble.RandomForestClassifier.html)\n",
        "2. Use hyperparameters that match the classifier, such as `randomforestclassifier__ ...`\n",
        "3. Use a metric for classification, such as [`scoring='accuracy'`](https://scikit-learn.org/stable/modules/model_evaluation.html#common-cases-predefined-values)\n",
        "4. If you’re doing a multi-class classification problem — such as whether a waterpump is functional, functional needs repair, or nonfunctional — then use a categorical encoding that works for multi-class classification, such as [OrdinalEncoder](https://contrib.scikit-learn.org/categorical-encoding/ordinal.html) (not [TargetEncoder](https://contrib.scikit-learn.org/categorical-encoding/targetencoder.html))\n",
        "\n",
        "\n",
        "\n",
        "## Stretch Goals\n",
        "\n",
        "### Reading\n",
        "- Jake VanderPlas, [Python Data Science Handbook, Chapter 5.3](https://jakevdp.github.io/PythonDataScienceHandbook/05.03-hyperparameters-and-model-validation.html), Hyperparameters and Model Validation\n",
        "- Jake VanderPlas, [Statistics for Hackers](https://speakerdeck.com/jakevdp/statistics-for-hackers?slide=107)\n",
        "- Ron Zacharski, [A Programmer's Guide to Data Mining, Chapter 5](http://guidetodatamining.com/chapter5/), 10-fold cross validation\n",
        "- Sebastian Raschka, [A Basic Pipeline and Grid Search Setup](https://github.com/rasbt/python-machine-learning-book/blob/master/code/bonus/svm_iris_pipeline_and_gridsearch.ipynb)\n",
        "- Peter Worcester, [A Comparison of Grid Search and Randomized Search Using Scikit Learn](https://blog.usejournal.com/a-comparison-of-grid-search-and-randomized-search-using-scikit-learn-29823179bc85)\n",
        "\n",
        "### Doing\n",
        "- Add your own stretch goals!\n",
        "- Try other [categorical encodings](https://contrib.scikit-learn.org/categorical-encoding/). See the previous assignment notebook for details.\n",
        "- In additon to `RandomizedSearchCV`, scikit-learn has [`GridSearchCV`](https://scikit-learn.org/stable/modules/generated/sklearn.model_selection.GridSearchCV.html). Another library called scikit-optimize has [`BayesSearchCV`](https://scikit-optimize.github.io/notebooks/sklearn-gridsearchcv-replacement.html). Experiment with these alternatives.\n",
        "- _[Introduction to Machine Learning with Python](http://shop.oreilly.com/product/0636920030515.do)_ discusses options for \"Grid-Searching Which Model To Use\" in Chapter 6:\n",
        "\n",
        "> You can even go further in combining GridSearchCV and Pipeline: it is also possible to search over the actual steps being performed in the pipeline (say whether to use StandardScaler or MinMaxScaler). This leads to an even bigger search space and should be considered carefully. Trying all possible solutions is usually not a viable machine learning strategy. However, here is an example comparing a RandomForestClassifier and an SVC ...\n",
        "\n",
        "The example is shown in [the accompanying notebook](https://github.com/amueller/introduction_to_ml_with_python/blob/master/06-algorithm-chains-and-pipelines.ipynb), code cells 35-37. Could you apply this concept to your own pipelines?\n"
      ]
    },
    {
      "cell_type": "markdown",
      "metadata": {
        "id": "6RN3MGaZaIQr"
      },
      "source": [
        "### BONUS: Stacking!\n",
        "\n",
        "Here's some code you can use to \"stack\" multiple submissions, which is another form of ensembling:\n",
        "\n",
        "```python\n",
        "import pandas as pd\n",
        "\n",
        "# Filenames of your submissions you want to ensemble\n",
        "files = ['submission-01.csv', 'submission-02.csv', 'submission-03.csv']\n",
        "\n",
        "target = 'status_group'\n",
        "submissions = (pd.read_csv(file)[[target]] for file in files)\n",
        "ensemble = pd.concat(submissions, axis='columns')\n",
        "majority_vote = ensemble.mode(axis='columns')[0]\n",
        "\n",
        "sample_submission = pd.read_csv('sample_submission.csv')\n",
        "submission = sample_submission.copy()\n",
        "submission[target] = majority_vote\n",
        "submission.to_csv('my-ultimate-ensemble-submission.csv', index=False)\n",
        "```"
      ]
    },
    {
      "cell_type": "code",
      "metadata": {
        "id": "CwEiqWWYaIQr"
      },
      "source": [
        "%%capture\n",
        "import sys\n",
        "\n",
        "# If you're on Colab:\n",
        "if 'google.colab' in sys.modules:\n",
        "    DATA_PATH = 'https://raw.githubusercontent.com/LambdaSchool/DS-Unit-2-Kaggle-Challenge/master/data/'\n",
        "    !pip install category_encoders==2.*\n",
        "    !pip install pandas-profiling==2.*\n",
        "# If you're working locally:\n",
        "else:\n",
        "    DATA_PATH = 'https://raw.githubusercontent.com/LambdaSchool/DS-Unit-2-Kaggle-Challenge/master/data/'\n",
        "    !pip install category_encoders==2.*\n",
        "    !pip install pandas-profiling==2.*"
      ],
      "execution_count": null,
      "outputs": []
    },
    {
      "cell_type": "code",
      "metadata": {
        "id": "MQGRxNGGaIQs"
      },
      "source": [
        "import pandas as pd\n",
        "\n",
        "# Merge train_features.csv & train_labels.csv\n",
        "train = pd.merge(pd.read_csv(DATA_PATH+'waterpumps/train_features.csv'), \n",
        "                 pd.read_csv(DATA_PATH+'waterpumps/train_labels.csv'))\n",
        "\n",
        "# Read test_features.csv & sample_submission.csv\n",
        "test = pd.read_csv(DATA_PATH+'waterpumps/test_features.csv')\n",
        "sample_submission = pd.read_csv(DATA_PATH+'waterpumps/sample_submission.csv')"
      ],
      "execution_count": null,
      "outputs": []
    },
    {
      "cell_type": "code",
      "metadata": {
        "id": "w2xeMDSIciPG"
      },
      "source": [
        "'''from pandas_profiling import ProfileReport\n",
        "profile = ProfileReport(encoded).to_notebook_iframe()\n",
        "profile'''"
      ],
      "execution_count": null,
      "outputs": []
    },
    {
      "cell_type": "code",
      "metadata": {
        "id": "nCXI16Fgh7-Q"
      },
      "source": [
        "import numpy as np\n",
        "import category_encoders as ce\n",
        "#Dataset Wrangling function\n",
        "def wrangle(df):\n",
        "  #Dropping High Correlation columns\n",
        "  df.drop(labels=['recorded_by','quantity_group','extraction_type_group','extraction_type_class','waterpoint_type_group','source_class','payment_type','management_group','source_type','quality_group','id','scheme_name'],axis=1,inplace=True)\n",
        "  #Datetime conversion\n",
        "  df.drop('date_recorded',axis=1,inplace=True)\n",
        "  #Turning zeros to NaNs\n",
        "  zero = ['longitude', 'latitude', 'construction_year','gps_height', 'population']\n",
        "  for col in zero:\n",
        "    df[col].replace(0, np.nan,inplace=True)\n",
        "  return df\n",
        "\n",
        "#Function to make features and target\n",
        "#Useage: feature,target = feat_target(dataframe)\n",
        "def feat_target(df):\n",
        "  y = df['status_group'].values.ravel()\n",
        "  x = df.drop(labels=['status_group'],axis=1)\n",
        "  return x,y"
      ],
      "execution_count": null,
      "outputs": []
    },
    {
      "cell_type": "code",
      "metadata": {
        "id": "7KLZGhH-mVzM"
      },
      "source": [
        "#Applying wrangle funciton\n",
        "train = wrangle(train)\n",
        "test = wrangle(test)"
      ],
      "execution_count": null,
      "outputs": []
    },
    {
      "cell_type": "code",
      "metadata": {
        "id": "MGqWu5zby-DW"
      },
      "source": [
        "#Spliting training dataset\n",
        "from sklearn.model_selection import train_test_split\n",
        "train,val = train_test_split(train,train_size=0.8,test_size=0.2,random_state=43)"
      ],
      "execution_count": null,
      "outputs": []
    },
    {
      "cell_type": "code",
      "metadata": {
        "id": "yMVNCpMtx_iD"
      },
      "source": [
        "#Applying Feature and Target\n",
        "X_train,y_train = feat_target(train)\n",
        "X_val,y_val = feat_target(val)"
      ],
      "execution_count": null,
      "outputs": []
    },
    {
      "cell_type": "code",
      "metadata": {
        "id": "2Af_xwe9noui"
      },
      "source": [
        "#Just for importing all the libraries for below\n",
        "from scipy.stats import randint\n",
        "from sklearn.impute import SimpleImputer\n",
        "from sklearn.model_selection import RandomizedSearchCV\n",
        "from sklearn.ensemble import RandomForestClassifier\n",
        "from sklearn.pipeline import make_pipeline\n",
        "from sklearn.model_selection import cross_val_score"
      ],
      "execution_count": null,
      "outputs": []
    },
    {
      "cell_type": "code",
      "metadata": {
        "colab": {
          "base_uri": "https://localhost:8080/"
        },
        "id": "hlHx2HYKdFZy",
        "outputId": "32da9c7f-9f55-481f-e521-e39cfa99939b"
      },
      "source": [
        "#Cross validation Score Pre Hyperparamter Optimization\n",
        "pipeline = make_pipeline(ce.OrdinalEncoder(),SimpleImputer(),RandomForestClassifier())\n",
        "scores = cross_val_score(pipeline, X_train, y_train, cv=3, scoring='accuracy')\n",
        "print(f'MAE for {3} folds:', scores)"
      ],
      "execution_count": null,
      "outputs": [
        {
          "output_type": "stream",
          "text": [
            "MAE for 3 folds: [0.79722222 0.79570707 0.79633838]\n"
          ],
          "name": "stdout"
        }
      ]
    },
    {
      "cell_type": "code",
      "metadata": {
        "colab": {
          "base_uri": "https://localhost:8080/",
          "height": 513
        },
        "id": "mWmPkWp5xuaB",
        "outputId": "3729afc2-8880-4904-d344-4cbc437ad5f6"
      },
      "source": [
        "#HyperParamter Optimization\n",
        "pipeline = make_pipeline(ce.OrdinalEncoder(),SimpleImputer(),RandomForestClassifier())\n",
        "param_distributions = {'simpleimputer__strategy':['mean','median'],'randomforestclassifier__max_depth': range(5,25,2),'randomforestclassifier__n_estimators':randint(100,500)}\n",
        "search = RandomizedSearchCV(pipeline,param_distributions=param_distributions,n_iter=50,cv=5,scoring='accuracy',verbose=10,return_train_score=True,n_jobs=-1)\n",
        "search.fit(X_train,y_train);\n",
        "print(f'Best hyperparameters{search.best_params_}')"
      ],
      "execution_count": null,
      "outputs": [
        {
          "output_type": "stream",
          "text": [
            "Fitting 5 folds for each of 50 candidates, totalling 250 fits\n"
          ],
          "name": "stdout"
        },
        {
          "output_type": "stream",
          "text": [
            "[Parallel(n_jobs=-1)]: Using backend LokyBackend with 12 concurrent workers.\n",
            "[Parallel(n_jobs=-1)]: Done   1 tasks      | elapsed:   26.1s\n",
            "[Parallel(n_jobs=-1)]: Done   8 tasks      | elapsed:  1.1min\n",
            "[Parallel(n_jobs=-1)]: Done  17 tasks      | elapsed:  1.6min\n",
            "[Parallel(n_jobs=-1)]: Done  26 tasks      | elapsed:  2.2min\n",
            "[Parallel(n_jobs=-1)]: Done  37 tasks      | elapsed:  2.7min\n",
            "[Parallel(n_jobs=-1)]: Done  48 tasks      | elapsed:  3.2min\n",
            "[Parallel(n_jobs=-1)]: Done  61 tasks      | elapsed:  4.4min\n",
            "[Parallel(n_jobs=-1)]: Done  74 tasks      | elapsed:  5.0min\n",
            "[Parallel(n_jobs=-1)]: Done  89 tasks      | elapsed:  5.6min\n",
            "[Parallel(n_jobs=-1)]: Done 104 tasks      | elapsed:  6.4min\n",
            "[Parallel(n_jobs=-1)]: Done 121 tasks      | elapsed:  7.3min\n",
            "[Parallel(n_jobs=-1)]: Done 138 tasks      | elapsed:  8.1min\n",
            "[Parallel(n_jobs=-1)]: Done 157 tasks      | elapsed:  9.2min\n",
            "[Parallel(n_jobs=-1)]: Done 176 tasks      | elapsed: 10.0min\n",
            "[Parallel(n_jobs=-1)]: Done 197 tasks      | elapsed: 11.2min\n",
            "[Parallel(n_jobs=-1)]: Done 218 tasks      | elapsed: 12.5min\n",
            "[Parallel(n_jobs=-1)]: Done 250 out of 250 | elapsed: 14.3min finished\n"
          ],
          "name": "stderr"
        },
        {
          "output_type": "stream",
          "text": [
            "Best hyperparameters{'randomforestclassifier__max_depth': 19, 'randomforestclassifier__n_estimators': 424, 'simpleimputer__strategy': 'median'}\n"
          ],
          "name": "stdout"
        }
      ]
    },
    {
      "cell_type": "code",
      "metadata": {
        "colab": {
          "base_uri": "https://localhost:8080/",
          "height": 411
        },
        "id": "GkTd1ejNlHk9",
        "scrolled": false,
        "outputId": "30fd2e8e-4f7a-4a7b-8ec9-953cac08c77d"
      },
      "source": [
        "#New pipeline with optimizations\n",
        "pipeline_opti = make_pipeline(ce.OrdinalEncoder(),SimpleImputer(strategy='median'),RandomForestClassifier(max_depth=19,n_estimators=424))\n",
        "#New Cross Validation Scores compared to old\n",
        "scores2 = cross_val_score(pipeline, X_train, y_train, cv=3, scoring='accuracy')\n",
        "print(f'Old CVS scores:{scores}\\nNew CVS scores:{scores2}')"
      ],
      "execution_count": null,
      "outputs": [
        {
          "output_type": "stream",
          "text": [
            "Old CVS scores:[0.79722222 0.79570707 0.79633838]\n",
            "New CVS scores:[0.79570707 0.79659091 0.79930556]\n"
          ],
          "name": "stdout"
        }
      ]
    },
    {
      "cell_type": "code",
      "metadata": {
        "colab": {
          "base_uri": "https://localhost:8080/"
        },
        "id": "JNxdCWVfh0Jz",
        "outputId": "53441106-b491-4908-e5c6-25b17d1ab9c9"
      },
      "source": [
        "pipeline_opti.fit(X_train,y_train)"
      ],
      "execution_count": null,
      "outputs": [
        {
          "output_type": "execute_result",
          "data": {
            "text/plain": [
              "Pipeline(steps=[('ordinalencoder',\n",
              "                 OrdinalEncoder(cols=['funder', 'installer', 'wpt_name',\n",
              "                                      'basin', 'subvillage', 'region', 'lga',\n",
              "                                      'ward', 'public_meeting',\n",
              "                                      'scheme_management', 'permit',\n",
              "                                      'extraction_type', 'management',\n",
              "                                      'payment', 'water_quality', 'quantity',\n",
              "                                      'source', 'waterpoint_type'],\n",
              "                                mapping=[{'col': 'funder',\n",
              "                                          'data_type': dtype('O'),\n",
              "                                          'mapping': Government Of Tanzania...\n",
              "rainwater harvesting     7\n",
              "unknown                  8\n",
              "dam                      9\n",
              "other                   10\n",
              "NaN                     -2\n",
              "dtype: int64},\n",
              "                                         {'col': 'waterpoint_type',\n",
              "                                          'data_type': dtype('O'),\n",
              "                                          'mapping': hand pump                      1\n",
              "communal standpipe             2\n",
              "other                          3\n",
              "communal standpipe multiple    4\n",
              "improved spring                5\n",
              "cattle trough                  6\n",
              "dam                            7\n",
              "NaN                           -2\n",
              "dtype: int64}])),\n",
              "                ('simpleimputer', SimpleImputer(strategy='median')),\n",
              "                ('randomforestclassifier',\n",
              "                 RandomForestClassifier(max_depth=20, n_estimators=424))])"
            ]
          },
          "metadata": {
            "tags": []
          },
          "execution_count": 33
        }
      ]
    },
    {
      "cell_type": "code",
      "metadata": {
        "colab": {
          "base_uri": "https://localhost:8080/"
        },
        "id": "IzP0hgPg-UJ-",
        "outputId": "752338e8-ddc7-464d-9940-988c31305f50"
      },
      "source": [
        "pipeline_opti.score(X_val,y_val)"
      ],
      "execution_count": null,
      "outputs": [
        {
          "output_type": "execute_result",
          "data": {
            "text/plain": [
              "0.8128787878787879"
            ]
          },
          "metadata": {
            "tags": []
          },
          "execution_count": 34
        }
      ]
    },
    {
      "cell_type": "code",
      "metadata": {
        "id": "12uyiigM-jsG"
      },
      "source": [
        "submission = pd.DataFrame(data=pipe.predict(X_test),columns=['status_group'])\r\n",
        "submission.to_csv('LS_DS_223_submission')"
      ],
      "execution_count": null,
      "outputs": []
    }
  ]
}