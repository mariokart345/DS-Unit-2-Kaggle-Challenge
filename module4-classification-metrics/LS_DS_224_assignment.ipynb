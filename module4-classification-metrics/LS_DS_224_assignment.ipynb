{
  "nbformat": 4,
  "nbformat_minor": 0,
  "metadata": {
    "colab": {
      "name": "LS_DS_224_assignment.ipynb",
      "provenance": [],
      "include_colab_link": true
    },
    "kernelspec": {
      "display_name": "Python 3",
      "language": "python",
      "name": "python3"
    },
    "language_info": {
      "codemirror_mode": {
        "name": "ipython",
        "version": 3
      },
      "file_extension": ".py",
      "mimetype": "text/x-python",
      "name": "python",
      "nbconvert_exporter": "python",
      "pygments_lexer": "ipython3",
      "version": "3.8.5"
    }
  },
  "cells": [
    {
      "cell_type": "markdown",
      "metadata": {
        "id": "view-in-github",
        "colab_type": "text"
      },
      "source": [
        "<a href=\"https://colab.research.google.com/github/mariokart345/DS-Unit-2-Kaggle-Challenge/blob/master/module4-classification-metrics/LS_DS_224_assignment.ipynb\" target=\"_parent\"><img src=\"https://colab.research.google.com/assets/colab-badge.svg\" alt=\"Open In Colab\"/></a>"
      ]
    },
    {
      "cell_type": "markdown",
      "metadata": {
        "id": "-6NbroW7AOda"
      },
      "source": [
        "Lambda School Data Science\n",
        "\n",
        "*Unit 2, Sprint 2, Module 4*\n",
        "\n",
        "---"
      ]
    },
    {
      "cell_type": "markdown",
      "metadata": {
        "id": "nCc3XZEyG3XV"
      },
      "source": [
        "# Classification Metrics\n",
        "\n",
        "## Assignment\n",
        "- [ ] If you haven't yet, [review requirements for your portfolio project](https://lambdaschool.github.io/ds/unit2), then submit your dataset.\n",
        "- [ ] Plot a confusion matrix for your Tanzania Waterpumps model.\n",
        "- [ ] Continue to participate in our Kaggle challenge. Every student should have made at least one submission that scores at least 70% accuracy (well above the majority class baseline).\n",
        "- [ ] Submit your final predictions to our Kaggle competition. Optionally, go to **My Submissions**, and _\"you may select up to 1 submission to be used to count towards your final leaderboard score.\"_\n",
        "- [ ] Commit your notebook to your fork of the GitHub repo.\n",
        "- [ ] Read [Maximizing Scarce Maintenance Resources with Data: Applying predictive modeling, precision at k, and clustering to optimize impact](http://archive.is/DelgE), by Lambda DS3 student Michael Brady. His blog post extends the Tanzania Waterpumps scenario, far beyond what's in the lecture notebook.\n",
        "\n",
        "\n",
        "## Stretch Goals\n",
        "\n",
        "### Reading\n",
        "\n",
        "- [Attacking discrimination with smarter machine learning](https://research.google.com/bigpicture/attacking-discrimination-in-ml/), by Google Research, with  interactive visualizations. _\"A threshold classifier essentially makes a yes/no decision, putting things in one category or another. We look at how these classifiers work, ways they can potentially be unfair, and how you might turn an unfair classifier into a fairer one. As an illustrative example, we focus on loan granting scenarios where a bank may grant or deny a loan based on a single, automatically computed number such as a credit score.\"_\n",
        "- [Notebook about how to calculate expected value from a confusion matrix by treating it as a cost-benefit matrix](https://github.com/podopie/DAT18NYC/blob/master/classes/13-expected_value_cost_benefit_analysis.ipynb)\n",
        "- [Visualizing Machine Learning Thresholds to Make Better Business Decisions](https://blog.insightdatascience.com/visualizing-machine-learning-thresholds-to-make-better-business-decisions-4ab07f823415)\n",
        "\n",
        "\n",
        "### Doing\n",
        "- [ ] Share visualizations in our Slack channel!\n",
        "- [ ] RandomizedSearchCV / GridSearchCV, for model selection. (See module 3 assignment notebook)\n",
        "- [ ] Stacking Ensemble. (See module 3 assignment notebook)\n",
        "- [ ] More Categorical Encoding. (See module 2 assignment notebook)"
      ]
    },
    {
      "cell_type": "code",
      "metadata": {
        "id": "lsbRiKBoB5RE"
      },
      "source": [
        "%%capture\n",
        "DATA_PATH = 'https://raw.githubusercontent.com/LambdaSchool/DS-Unit-2-Kaggle-Challenge/master/data/'\n",
        "!pip install category_encoders==2.*\n",
        "!pip install pandas-profiling==2.*"
      ],
      "execution_count": null,
      "outputs": []
    },
    {
      "cell_type": "code",
      "metadata": {
        "id": "BVA1lph8CcNX"
      },
      "source": [
        "import pandas as pd\n",
        "\n",
        "# Merge train_features.csv & train_labels.csv\n",
        "train = pd.merge(pd.read_csv(DATA_PATH+'waterpumps/train_features.csv'), \n",
        "                 pd.read_csv(DATA_PATH+'waterpumps/train_labels.csv'))\n",
        "\n",
        "# Read test_features.csv & sample_submission.csv\n",
        "test = pd.read_csv(DATA_PATH+'waterpumps/test_features.csv')\n",
        "sample_submission = pd.read_csv(DATA_PATH+'waterpumps/sample_submission.csv')"
      ],
      "execution_count": null,
      "outputs": []
    },
    {
      "cell_type": "code",
      "metadata": {
        "id": "L_5jjuXAAOde"
      },
      "source": [
        "import numpy as np\n",
        "#Dataset Wrangling function\n",
        "def wrangle(df):\n",
        "  #Dropping High Correlation columns\n",
        "  df.drop(labels=['recorded_by','quantity_group','extraction_type_group','extraction_type_class','waterpoint_type_group','source_class','payment_type','management_group','source_type','quality_group','id','scheme_name'],axis=1,inplace=True)\n",
        "  #Datetime conversion and feature enginering\n",
        "  df['date_recorded'] = pd.to_datetime(df['date_recorded'],infer_datetime_format=True)\n",
        "  df['years_since_construction'] = df['date_recorded'].dt.year - df['construction_year']\n",
        "  df.drop('date_recorded',axis=1,inplace=True)\n",
        "  #Turning zeros to NaNs\n",
        "  zero = ['longitude', 'latitude', 'construction_year','gps_height', 'population']\n",
        "  for col in zero:\n",
        "    df[col].replace(0, np.nan,inplace=True)\n",
        "  return df\n",
        "\n",
        "#Function to make features and target\n",
        "#Useage: feature,target = feat_target(dataframe)\n",
        "def feat_target(df):\n",
        "  y = df['status_group'].values.ravel()\n",
        "  x = df.drop(labels=['status_group'],axis=1)\n",
        "  return x,y"
      ],
      "execution_count": null,
      "outputs": []
    },
    {
      "cell_type": "code",
      "metadata": {
        "id": "E9l1vxkneTrU"
      },
      "source": [
        "#Applying wrangle funciton\n",
        "train = wrangle(train)\n",
        "test = wrangle(test)"
      ],
      "execution_count": null,
      "outputs": []
    },
    {
      "cell_type": "code",
      "metadata": {
        "id": "uHVpmavqeTrU"
      },
      "source": [
        "#Spliting training dataset\n",
        "from sklearn.model_selection import train_test_split\n",
        "train,val = train_test_split(train,train_size=0.8,test_size=0.2,random_state=25)"
      ],
      "execution_count": null,
      "outputs": []
    },
    {
      "cell_type": "code",
      "metadata": {
        "id": "ANiJ1RO-eTrU"
      },
      "source": [
        "#Applying Feature and Target\n",
        "X_train,y_train = feat_target(train)\n",
        "X_val,y_val = feat_target(val)"
      ],
      "execution_count": null,
      "outputs": []
    },
    {
      "cell_type": "code",
      "metadata": {
        "id": "n2MtGrRBeTrV"
      },
      "source": [
        "#Just for importing all the libraries for below\n",
        "from sklearn.metrics import plot_confusion_matrix,classification_report\n",
        "from sklearn.impute import SimpleImputer\n",
        "import category_encoders as ce\n",
        "from sklearn.model_selection import GridSearchCV,cross_val_score\n",
        "from sklearn.ensemble import RandomForestClassifier\n",
        "from sklearn.pipeline import make_pipeline"
      ],
      "execution_count": null,
      "outputs": []
    },
    {
      "cell_type": "code",
      "metadata": {
        "scrolled": true,
        "id": "cVcg0DpreTrV",
        "outputId": "9aed1af8-4da6-47b6-e554-891d931709d5"
      },
      "source": [
        "#Further tuning my hyperparameters\n",
        "pipeline_base = make_pipeline(ce.OrdinalEncoder(),SimpleImputer(),RandomForestClassifier())\n",
        "param_distributions = {'simpleimputer__strategy':['mean','median'],'randomforestclassifier__max_depth':[24,21,22,23,24],'randomforestclassifier__n_estimators':[415,420,425,430,435,440,445]}\n",
        "search = GridSearchCV(pipeline_base,param_grid=param_distributions,cv=5,return_train_score=True,verbose=10,n_jobs=-1)\n",
        "search.fit(X_train,y_train);"
      ],
      "execution_count": null,
      "outputs": [
        {
          "output_type": "stream",
          "text": [
            "Fitting 5 folds for each of 70 candidates, totalling 350 fits\n"
          ],
          "name": "stdout"
        },
        {
          "output_type": "stream",
          "text": [
            "[Parallel(n_jobs=-1)]: Using backend LokyBackend with 12 concurrent workers.\n",
            "[Parallel(n_jobs=-1)]: Done   1 tasks      | elapsed:  1.2min\n",
            "[Parallel(n_jobs=-1)]: Done   8 tasks      | elapsed:  1.4min\n",
            "[Parallel(n_jobs=-1)]: Done  17 tasks      | elapsed:  2.4min\n",
            "[Parallel(n_jobs=-1)]: Done  26 tasks      | elapsed:  3.5min\n",
            "[Parallel(n_jobs=-1)]: Done  37 tasks      | elapsed:  4.7min\n",
            "[Parallel(n_jobs=-1)]: Done  48 tasks      | elapsed:  6.0min\n",
            "[Parallel(n_jobs=-1)]: Done  61 tasks      | elapsed:  7.4min\n",
            "[Parallel(n_jobs=-1)]: Done  74 tasks      | elapsed:  8.8min\n",
            "[Parallel(n_jobs=-1)]: Done  89 tasks      | elapsed: 10.3min\n",
            "[Parallel(n_jobs=-1)]: Done 104 tasks      | elapsed: 11.8min\n",
            "[Parallel(n_jobs=-1)]: Done 121 tasks      | elapsed: 13.7min\n",
            "[Parallel(n_jobs=-1)]: Done 138 tasks      | elapsed: 15.2min\n",
            "[Parallel(n_jobs=-1)]: Done 157 tasks      | elapsed: 17.5min\n",
            "[Parallel(n_jobs=-1)]: Done 176 tasks      | elapsed: 19.1min\n",
            "[Parallel(n_jobs=-1)]: Done 197 tasks      | elapsed: 21.2min\n",
            "[Parallel(n_jobs=-1)]: Done 218 tasks      | elapsed: 23.5min\n",
            "[Parallel(n_jobs=-1)]: Done 241 tasks      | elapsed: 25.7min\n",
            "[Parallel(n_jobs=-1)]: Done 264 tasks      | elapsed: 28.0min\n",
            "[Parallel(n_jobs=-1)]: Done 289 tasks      | elapsed: 30.5min\n",
            "[Parallel(n_jobs=-1)]: Done 314 tasks      | elapsed: 33.4min\n",
            "[Parallel(n_jobs=-1)]: Done 350 out of 350 | elapsed: 36.8min finished\n"
          ],
          "name": "stderr"
        }
      ]
    },
    {
      "cell_type": "code",
      "metadata": {
        "scrolled": true,
        "id": "KhPgUYrdeTrV",
        "outputId": "6bde1669-3d01-4126-a2c5-aa49623b36b9"
      },
      "source": [
        "print(search.best_params_)\n",
        "print(search.best_score_)"
      ],
      "execution_count": null,
      "outputs": [
        {
          "output_type": "stream",
          "text": [
            "{'randomforestclassifier__max_depth': 21, 'randomforestclassifier__n_estimators': 445, 'simpleimputer__strategy': 'mean'}\n",
            "0.8071338383838385\n"
          ],
          "name": "stdout"
        }
      ]
    },
    {
      "cell_type": "code",
      "metadata": {
        "id": "ZGJL7sY2eTrW",
        "outputId": "47c4f8fd-b163-496c-fbb6-c3ed6faf1261"
      },
      "source": [
        "#Making and fitting new pipeline with tuned hyperparameters\n",
        "pipeline = make_pipeline(ce.OrdinalEncoder(),SimpleImputer(strategy='median'),RandomForestClassifier(max_depth=21,n_estimators=450,n_jobs=-1,random_state=25))\n",
        "pipeline.fit(X_train,y_train)\n",
        "pipeline.score(X_val,y_val)"
      ],
      "execution_count": null,
      "outputs": [
        {
          "output_type": "execute_result",
          "data": {
            "text/plain": [
              "0.8128787878787879"
            ]
          },
          "metadata": {
            "tags": []
          },
          "execution_count": 35
        }
      ]
    },
    {
      "cell_type": "code",
      "metadata": {
        "scrolled": true,
        "id": "sw6nKK3geTrW",
        "outputId": "7922a7d5-a1b8-4fb5-e8f0-79de1132a586"
      },
      "source": [
        "#Plotting Confusion Matrix\n",
        "plot_confusion_matrix(pipeline,X_val,y_val,values_format='.0f',xticks_rotation='vertical')"
      ],
      "execution_count": null,
      "outputs": [
        {
          "output_type": "execute_result",
          "data": {
            "text/plain": [
              "<sklearn.metrics._plot.confusion_matrix.ConfusionMatrixDisplay at 0x17396b63670>"
            ]
          },
          "metadata": {
            "tags": []
          },
          "execution_count": 36
        },
        {
          "output_type": "display_data",
          "data": {
            "image/png": "[encoded data removed]",
            "text/plain": [
              "<Figure size 432x288 with 2 Axes>"
            ]
          },
          "metadata": {
            "tags": [],
            "needs_background": "light"
          }
        }
      ]
    },
    {
      "cell_type": "code",
      "metadata": {
        "scrolled": false,
        "id": "Mpv1hrA6eTrX",
        "outputId": "7a576247-74ea-4df1-9997-fef521260aad"
      },
      "source": [
        "#Prining Classification Report\n",
        "y_pred = pipeline.predict(X_val)\n",
        "print(classification_report(y_val,y_pred))"
      ],
      "execution_count": null,
      "outputs": [
        {
          "output_type": "stream",
          "text": [
            "                         precision    recall  f1-score   support\n",
            "\n",
            "             functional       0.80      0.91      0.85      6470\n",
            "functional needs repair       0.61      0.30      0.41       817\n",
            "         non functional       0.86      0.77      0.81      4593\n",
            "\n",
            "               accuracy                           0.81     11880\n",
            "              macro avg       0.76      0.66      0.69     11880\n",
            "           weighted avg       0.81      0.81      0.80     11880\n",
            "\n"
          ],
          "name": "stdout"
        }
      ]
    },
    {
      "cell_type": "code",
      "metadata": {
        "id": "0s-qOEO2eTrX"
      },
      "source": [
        "pd.to_csv('LS_DS_224_submission')\n",
        "files = ['LS_DS_221_submission.csv', 'LS_DS_222_submission.csv', 'LS_DS_223_submission.csv']\n",
        "submissions = (pd.read_csv(file)[['status_group']] for file in files)\n",
        "ensemble = pd.concat(submissions, axis='columns')\n",
        "majority_vote = ensemble.mode(axis='columns')[0]\n",
        "\n",
        "sample_submission = pd.read_csv('LS_DS_224_submission.csv')\n",
        "submission = sample_submission.copy()\n",
        "submission['status_group'] = majority_vote\n",
        "submission.to_csv('my-ultimate-ensemble-submission.csv', index=False)"
      ],
      "execution_count": null,
      "outputs": []
    }
  ]
}